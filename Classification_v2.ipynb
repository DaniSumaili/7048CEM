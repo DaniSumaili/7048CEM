{
  "nbformat": 4,
  "nbformat_minor": 0,
  "metadata": {
    "colab": {
      "name": "Classification_v2.ipynb",
      "provenance": [],
      "collapsed_sections": [],
      "authorship_tag": "ABX9TyPlnfnkRKyKjm2fFlxbwh2E",
      "include_colab_link": true
    },
    "kernelspec": {
      "display_name": "Python 3",
      "name": "python3"
    },
    "language_info": {
      "name": "python"
    }
  },
  "cells": [
    {
      "cell_type": "markdown",
      "metadata": {
        "id": "view-in-github",
        "colab_type": "text"
      },
      "source": [
        "<a href=\"https://colab.research.google.com/github/DaniSumaili/7048CEM/blob/main/Classification_v2.ipynb\" target=\"_parent\"><img src=\"https://colab.research.google.com/assets/colab-badge.svg\" alt=\"Open In Colab\"/></a>"
      ]
    },
    {
      "cell_type": "code",
      "metadata": {
        "id": "W0nmBEwfaejl"
      },
      "source": [
        "# Basic packages\n",
        "import numpy as np\n",
        "import pandas as pd\n",
        "import matplotlib.pyplot as plt\n",
        " \n",
        "# Sklearn modules & classes\n",
        "from sklearn.linear_model import Perceptron, LogisticRegression\n",
        "\n",
        "from sklearn.model_selection import train_test_split\n",
        "from sklearn.preprocessing import StandardScaler\n",
        "from sklearn import datasets\n",
        "from sklearn import metrics\n",
        "from sklearn.metrics import matthews_corrcoef,cohen_kappa_score, mean_absolute_error,mean_squared_error "
      ],
      "execution_count": null,
      "outputs": []
    },
    {
      "cell_type": "code",
      "metadata": {
        "id": "RgJsERgj2kV-"
      },
      "source": [
        "import warnings\n",
        "warnings.filterwarnings(\"ignore\")"
      ],
      "execution_count": null,
      "outputs": []
    },
    {
      "cell_type": "code",
      "metadata": {
        "colab": {
          "base_uri": "https://localhost:8080/"
        },
        "id": "Xjd4BX5EamZP",
        "outputId": "a07a66c3-bd0e-463f-aac9-8a3d7ce5c41d"
      },
      "source": [
        "from google.colab import drive\n",
        "drive.mount('/content/drive')"
      ],
      "execution_count": null,
      "outputs": [
        {
          "output_type": "stream",
          "text": [
            "Drive already mounted at /content/drive; to attempt to forcibly remount, call drive.mount(\"/content/drive\", force_remount=True).\n"
          ],
          "name": "stdout"
        }
      ]
    },
    {
      "cell_type": "code",
      "metadata": {
        "colab": {
          "base_uri": "https://localhost:8080/",
          "height": 304
        },
        "id": "TIpjpdmLaw2S",
        "outputId": "67b8b668-c6c1-41de-ac4c-1028ff9a7a25"
      },
      "source": [
        "breastdata = pd.read_csv('/content/drive/My Drive/BreastCancer/Breast_GSE45827.csv')\n",
        "breastdata.head()"
      ],
      "execution_count": null,
      "outputs": [
        {
          "output_type": "execute_result",
          "data": {
            "text/html": [
              "<div>\n",
              "<style scoped>\n",
              "    .dataframe tbody tr th:only-of-type {\n",
              "        vertical-align: middle;\n",
              "    }\n",
              "\n",
              "    .dataframe tbody tr th {\n",
              "        vertical-align: top;\n",
              "    }\n",
              "\n",
              "    .dataframe thead th {\n",
              "        text-align: right;\n",
              "    }\n",
              "</style>\n",
              "<table border=\"1\" class=\"dataframe\">\n",
              "  <thead>\n",
              "    <tr style=\"text-align: right;\">\n",
              "      <th></th>\n",
              "      <th>samples</th>\n",
              "      <th>type</th>\n",
              "      <th>1007_s_at</th>\n",
              "      <th>1053_at</th>\n",
              "      <th>117_at</th>\n",
              "      <th>121_at</th>\n",
              "      <th>1255_g_at</th>\n",
              "      <th>1294_at</th>\n",
              "      <th>1316_at</th>\n",
              "      <th>1320_at</th>\n",
              "      <th>1405_i_at</th>\n",
              "      <th>1431_at</th>\n",
              "      <th>1438_at</th>\n",
              "      <th>1487_at</th>\n",
              "      <th>1494_f_at</th>\n",
              "      <th>1552256_a_at</th>\n",
              "      <th>1552257_a_at</th>\n",
              "      <th>1552258_at</th>\n",
              "      <th>1552261_at</th>\n",
              "      <th>1552263_at</th>\n",
              "      <th>1552264_a_at</th>\n",
              "      <th>1552266_at</th>\n",
              "      <th>1552269_at</th>\n",
              "      <th>1552271_at</th>\n",
              "      <th>1552272_a_at</th>\n",
              "      <th>1552274_at</th>\n",
              "      <th>1552275_s_at</th>\n",
              "      <th>1552276_a_at</th>\n",
              "      <th>1552277_a_at</th>\n",
              "      <th>1552278_a_at</th>\n",
              "      <th>1552279_a_at</th>\n",
              "      <th>1552280_at</th>\n",
              "      <th>1552281_at</th>\n",
              "      <th>1552283_s_at</th>\n",
              "      <th>1552286_at</th>\n",
              "      <th>1552287_s_at</th>\n",
              "      <th>1552288_at</th>\n",
              "      <th>1552289_a_at</th>\n",
              "      <th>1552291_at</th>\n",
              "      <th>1552293_at</th>\n",
              "      <th>...</th>\n",
              "      <th>AFFX-HUMISGF3A/M97935_MB_at</th>\n",
              "      <th>AFFX-HUMRGE/M10098_3_at</th>\n",
              "      <th>AFFX-HUMRGE/M10098_5_at</th>\n",
              "      <th>AFFX-HUMRGE/M10098_M_at</th>\n",
              "      <th>AFFX-LysX-3_at</th>\n",
              "      <th>AFFX-LysX-5_at</th>\n",
              "      <th>AFFX-LysX-M_at</th>\n",
              "      <th>AFFX-M27830_3_at</th>\n",
              "      <th>AFFX-M27830_5_at</th>\n",
              "      <th>AFFX-M27830_M_at</th>\n",
              "      <th>AFFX-PheX-3_at</th>\n",
              "      <th>AFFX-PheX-5_at</th>\n",
              "      <th>AFFX-PheX-M_at</th>\n",
              "      <th>AFFX-r2-Bs-dap-3_at</th>\n",
              "      <th>AFFX-r2-Bs-dap-5_at</th>\n",
              "      <th>AFFX-r2-Bs-dap-M_at</th>\n",
              "      <th>AFFX-r2-Bs-lys-3_at</th>\n",
              "      <th>AFFX-r2-Bs-lys-5_at</th>\n",
              "      <th>AFFX-r2-Bs-lys-M_at</th>\n",
              "      <th>AFFX-r2-Bs-phe-3_at</th>\n",
              "      <th>AFFX-r2-Bs-phe-5_at</th>\n",
              "      <th>AFFX-r2-Bs-phe-M_at</th>\n",
              "      <th>AFFX-r2-Bs-thr-3_s_at</th>\n",
              "      <th>AFFX-r2-Bs-thr-5_s_at</th>\n",
              "      <th>AFFX-r2-Bs-thr-M_s_at</th>\n",
              "      <th>AFFX-r2-Ec-bioB-3_at</th>\n",
              "      <th>AFFX-r2-Ec-bioB-5_at</th>\n",
              "      <th>AFFX-r2-Ec-bioB-M_at</th>\n",
              "      <th>AFFX-r2-Ec-bioC-3_at</th>\n",
              "      <th>AFFX-r2-Ec-bioC-5_at</th>\n",
              "      <th>AFFX-r2-Ec-bioD-3_at</th>\n",
              "      <th>AFFX-r2-Ec-bioD-5_at</th>\n",
              "      <th>AFFX-r2-P1-cre-3_at</th>\n",
              "      <th>AFFX-r2-P1-cre-5_at</th>\n",
              "      <th>AFFX-ThrX-3_at</th>\n",
              "      <th>AFFX-ThrX-5_at</th>\n",
              "      <th>AFFX-ThrX-M_at</th>\n",
              "      <th>AFFX-TrpnX-3_at</th>\n",
              "      <th>AFFX-TrpnX-5_at</th>\n",
              "      <th>AFFX-TrpnX-M_at</th>\n",
              "    </tr>\n",
              "  </thead>\n",
              "  <tbody>\n",
              "    <tr>\n",
              "      <th>0</th>\n",
              "      <td>84</td>\n",
              "      <td>basal</td>\n",
              "      <td>9.850040</td>\n",
              "      <td>8.097927</td>\n",
              "      <td>6.424728</td>\n",
              "      <td>7.353027</td>\n",
              "      <td>3.029122</td>\n",
              "      <td>6.880079</td>\n",
              "      <td>4.963740</td>\n",
              "      <td>4.408328</td>\n",
              "      <td>8.870780</td>\n",
              "      <td>3.278896</td>\n",
              "      <td>7.317273</td>\n",
              "      <td>6.941792</td>\n",
              "      <td>4.753893</td>\n",
              "      <td>9.689422</td>\n",
              "      <td>9.529578</td>\n",
              "      <td>4.416768</td>\n",
              "      <td>4.061347</td>\n",
              "      <td>6.468291</td>\n",
              "      <td>8.671009</td>\n",
              "      <td>3.766666</td>\n",
              "      <td>3.711459</td>\n",
              "      <td>5.076329</td>\n",
              "      <td>4.442042</td>\n",
              "      <td>6.741298</td>\n",
              "      <td>5.627442</td>\n",
              "      <td>5.516712</td>\n",
              "      <td>8.107136</td>\n",
              "      <td>4.956239</td>\n",
              "      <td>5.791279</td>\n",
              "      <td>3.569233</td>\n",
              "      <td>5.687476</td>\n",
              "      <td>4.152096</td>\n",
              "      <td>4.906925</td>\n",
              "      <td>8.206707</td>\n",
              "      <td>4.463950</td>\n",
              "      <td>5.186044</td>\n",
              "      <td>5.942088</td>\n",
              "      <td>4.191142</td>\n",
              "      <td>...</td>\n",
              "      <td>9.015007</td>\n",
              "      <td>12.050521</td>\n",
              "      <td>14.750905</td>\n",
              "      <td>13.359472</td>\n",
              "      <td>5.576968</td>\n",
              "      <td>3.606041</td>\n",
              "      <td>4.481027</td>\n",
              "      <td>5.509117</td>\n",
              "      <td>10.544533</td>\n",
              "      <td>11.200692</td>\n",
              "      <td>5.932332</td>\n",
              "      <td>4.253946</td>\n",
              "      <td>5.052679</td>\n",
              "      <td>7.782348</td>\n",
              "      <td>7.056759</td>\n",
              "      <td>7.787824</td>\n",
              "      <td>4.784976</td>\n",
              "      <td>3.943038</td>\n",
              "      <td>3.903069</td>\n",
              "      <td>6.119248</td>\n",
              "      <td>4.461984</td>\n",
              "      <td>4.752744</td>\n",
              "      <td>6.761262</td>\n",
              "      <td>5.298281</td>\n",
              "      <td>6.048960</td>\n",
              "      <td>8.292124</td>\n",
              "      <td>8.225293</td>\n",
              "      <td>8.333853</td>\n",
              "      <td>9.854639</td>\n",
              "      <td>9.823275</td>\n",
              "      <td>12.229711</td>\n",
              "      <td>11.852955</td>\n",
              "      <td>13.658701</td>\n",
              "      <td>13.477698</td>\n",
              "      <td>6.265781</td>\n",
              "      <td>5.016196</td>\n",
              "      <td>4.901594</td>\n",
              "      <td>2.966657</td>\n",
              "      <td>3.508495</td>\n",
              "      <td>3.301999</td>\n",
              "    </tr>\n",
              "    <tr>\n",
              "      <th>1</th>\n",
              "      <td>85</td>\n",
              "      <td>basal</td>\n",
              "      <td>9.861357</td>\n",
              "      <td>8.212222</td>\n",
              "      <td>7.062593</td>\n",
              "      <td>7.685578</td>\n",
              "      <td>3.149468</td>\n",
              "      <td>7.542283</td>\n",
              "      <td>5.129607</td>\n",
              "      <td>4.584418</td>\n",
              "      <td>7.767646</td>\n",
              "      <td>3.589636</td>\n",
              "      <td>8.768129</td>\n",
              "      <td>7.567034</td>\n",
              "      <td>4.859823</td>\n",
              "      <td>8.459354</td>\n",
              "      <td>8.973671</td>\n",
              "      <td>4.503730</td>\n",
              "      <td>5.390424</td>\n",
              "      <td>6.756707</td>\n",
              "      <td>8.105795</td>\n",
              "      <td>4.651541</td>\n",
              "      <td>3.935309</td>\n",
              "      <td>5.228763</td>\n",
              "      <td>4.454780</td>\n",
              "      <td>6.468014</td>\n",
              "      <td>5.798596</td>\n",
              "      <td>5.306064</td>\n",
              "      <td>7.505800</td>\n",
              "      <td>4.636866</td>\n",
              "      <td>5.898319</td>\n",
              "      <td>3.749061</td>\n",
              "      <td>5.582313</td>\n",
              "      <td>4.449042</td>\n",
              "      <td>5.871074</td>\n",
              "      <td>7.242601</td>\n",
              "      <td>3.938327</td>\n",
              "      <td>4.378953</td>\n",
              "      <td>6.294126</td>\n",
              "      <td>4.058221</td>\n",
              "      <td>...</td>\n",
              "      <td>9.371174</td>\n",
              "      <td>8.264719</td>\n",
              "      <td>9.938357</td>\n",
              "      <td>9.507651</td>\n",
              "      <td>6.103962</td>\n",
              "      <td>3.983087</td>\n",
              "      <td>4.742306</td>\n",
              "      <td>5.424172</td>\n",
              "      <td>8.881772</td>\n",
              "      <td>11.148811</td>\n",
              "      <td>6.330691</td>\n",
              "      <td>4.755615</td>\n",
              "      <td>5.474167</td>\n",
              "      <td>8.542725</td>\n",
              "      <td>7.617779</td>\n",
              "      <td>8.237535</td>\n",
              "      <td>5.209694</td>\n",
              "      <td>3.939264</td>\n",
              "      <td>4.553344</td>\n",
              "      <td>6.017351</td>\n",
              "      <td>5.425393</td>\n",
              "      <td>4.957182</td>\n",
              "      <td>7.405313</td>\n",
              "      <td>5.615380</td>\n",
              "      <td>6.617585</td>\n",
              "      <td>8.225366</td>\n",
              "      <td>8.409790</td>\n",
              "      <td>8.499343</td>\n",
              "      <td>10.061910</td>\n",
              "      <td>9.796947</td>\n",
              "      <td>12.178531</td>\n",
              "      <td>11.809408</td>\n",
              "      <td>13.750086</td>\n",
              "      <td>13.470146</td>\n",
              "      <td>6.771853</td>\n",
              "      <td>5.291005</td>\n",
              "      <td>5.405839</td>\n",
              "      <td>2.934763</td>\n",
              "      <td>3.687666</td>\n",
              "      <td>3.064299</td>\n",
              "    </tr>\n",
              "    <tr>\n",
              "      <th>2</th>\n",
              "      <td>87</td>\n",
              "      <td>basal</td>\n",
              "      <td>10.103478</td>\n",
              "      <td>8.936137</td>\n",
              "      <td>5.735970</td>\n",
              "      <td>7.687822</td>\n",
              "      <td>3.125931</td>\n",
              "      <td>6.562369</td>\n",
              "      <td>4.813449</td>\n",
              "      <td>4.425195</td>\n",
              "      <td>9.417956</td>\n",
              "      <td>3.552253</td>\n",
              "      <td>7.945085</td>\n",
              "      <td>7.238284</td>\n",
              "      <td>4.872635</td>\n",
              "      <td>9.367521</td>\n",
              "      <td>9.133688</td>\n",
              "      <td>4.358608</td>\n",
              "      <td>4.445164</td>\n",
              "      <td>5.476936</td>\n",
              "      <td>8.752115</td>\n",
              "      <td>3.546838</td>\n",
              "      <td>4.263868</td>\n",
              "      <td>5.509159</td>\n",
              "      <td>4.624205</td>\n",
              "      <td>7.103216</td>\n",
              "      <td>6.641263</td>\n",
              "      <td>5.141131</td>\n",
              "      <td>7.072525</td>\n",
              "      <td>4.728196</td>\n",
              "      <td>6.233648</td>\n",
              "      <td>3.766725</td>\n",
              "      <td>6.008163</td>\n",
              "      <td>4.191390</td>\n",
              "      <td>5.717077</td>\n",
              "      <td>7.809222</td>\n",
              "      <td>4.108028</td>\n",
              "      <td>5.012451</td>\n",
              "      <td>7.258626</td>\n",
              "      <td>4.330997</td>\n",
              "      <td>...</td>\n",
              "      <td>8.842430</td>\n",
              "      <td>10.241912</td>\n",
              "      <td>13.605901</td>\n",
              "      <td>11.784269</td>\n",
              "      <td>5.853014</td>\n",
              "      <td>3.748889</td>\n",
              "      <td>4.407490</td>\n",
              "      <td>5.919699</td>\n",
              "      <td>9.687444</td>\n",
              "      <td>11.601339</td>\n",
              "      <td>6.040000</td>\n",
              "      <td>4.314678</td>\n",
              "      <td>5.274790</td>\n",
              "      <td>8.030696</td>\n",
              "      <td>7.082369</td>\n",
              "      <td>7.912491</td>\n",
              "      <td>4.725483</td>\n",
              "      <td>4.036020</td>\n",
              "      <td>4.141341</td>\n",
              "      <td>5.825904</td>\n",
              "      <td>5.032693</td>\n",
              "      <td>4.764559</td>\n",
              "      <td>7.026349</td>\n",
              "      <td>5.448507</td>\n",
              "      <td>6.386042</td>\n",
              "      <td>8.218749</td>\n",
              "      <td>8.209361</td>\n",
              "      <td>8.280136</td>\n",
              "      <td>9.699647</td>\n",
              "      <td>9.452066</td>\n",
              "      <td>12.125108</td>\n",
              "      <td>11.725766</td>\n",
              "      <td>13.621732</td>\n",
              "      <td>13.295080</td>\n",
              "      <td>6.346952</td>\n",
              "      <td>5.171403</td>\n",
              "      <td>5.184286</td>\n",
              "      <td>2.847684</td>\n",
              "      <td>3.550597</td>\n",
              "      <td>3.158535</td>\n",
              "    </tr>\n",
              "    <tr>\n",
              "      <th>3</th>\n",
              "      <td>90</td>\n",
              "      <td>basal</td>\n",
              "      <td>9.756875</td>\n",
              "      <td>7.357148</td>\n",
              "      <td>6.479183</td>\n",
              "      <td>6.986624</td>\n",
              "      <td>3.181638</td>\n",
              "      <td>7.802344</td>\n",
              "      <td>5.490982</td>\n",
              "      <td>4.567956</td>\n",
              "      <td>9.022345</td>\n",
              "      <td>3.312473</td>\n",
              "      <td>7.754670</td>\n",
              "      <td>7.078843</td>\n",
              "      <td>4.867320</td>\n",
              "      <td>7.790225</td>\n",
              "      <td>7.206228</td>\n",
              "      <td>4.680283</td>\n",
              "      <td>4.171577</td>\n",
              "      <td>5.985232</td>\n",
              "      <td>7.205984</td>\n",
              "      <td>3.568459</td>\n",
              "      <td>3.310109</td>\n",
              "      <td>5.166409</td>\n",
              "      <td>4.160049</td>\n",
              "      <td>6.730255</td>\n",
              "      <td>5.774961</td>\n",
              "      <td>6.092539</td>\n",
              "      <td>7.164589</td>\n",
              "      <td>4.903609</td>\n",
              "      <td>5.726683</td>\n",
              "      <td>3.532517</td>\n",
              "      <td>5.652934</td>\n",
              "      <td>3.997426</td>\n",
              "      <td>6.151148</td>\n",
              "      <td>7.189197</td>\n",
              "      <td>4.329053</td>\n",
              "      <td>5.134634</td>\n",
              "      <td>6.300199</td>\n",
              "      <td>4.192591</td>\n",
              "      <td>...</td>\n",
              "      <td>10.554449</td>\n",
              "      <td>9.191622</td>\n",
              "      <td>12.146083</td>\n",
              "      <td>11.018158</td>\n",
              "      <td>5.972863</td>\n",
              "      <td>3.658838</td>\n",
              "      <td>4.657377</td>\n",
              "      <td>5.508931</td>\n",
              "      <td>9.262102</td>\n",
              "      <td>11.338670</td>\n",
              "      <td>6.194179</td>\n",
              "      <td>4.300024</td>\n",
              "      <td>5.072087</td>\n",
              "      <td>8.148625</td>\n",
              "      <td>7.548858</td>\n",
              "      <td>7.960282</td>\n",
              "      <td>5.226375</td>\n",
              "      <td>3.562438</td>\n",
              "      <td>4.306947</td>\n",
              "      <td>5.979139</td>\n",
              "      <td>5.018239</td>\n",
              "      <td>4.872679</td>\n",
              "      <td>7.066764</td>\n",
              "      <td>5.573531</td>\n",
              "      <td>6.637775</td>\n",
              "      <td>8.183538</td>\n",
              "      <td>8.307374</td>\n",
              "      <td>8.233631</td>\n",
              "      <td>9.911691</td>\n",
              "      <td>9.611842</td>\n",
              "      <td>12.111235</td>\n",
              "      <td>11.719215</td>\n",
              "      <td>13.743108</td>\n",
              "      <td>13.508861</td>\n",
              "      <td>6.610284</td>\n",
              "      <td>5.193356</td>\n",
              "      <td>5.086569</td>\n",
              "      <td>3.031602</td>\n",
              "      <td>3.524981</td>\n",
              "      <td>3.272665</td>\n",
              "    </tr>\n",
              "    <tr>\n",
              "      <th>4</th>\n",
              "      <td>91</td>\n",
              "      <td>basal</td>\n",
              "      <td>9.408330</td>\n",
              "      <td>7.746404</td>\n",
              "      <td>6.693980</td>\n",
              "      <td>7.333426</td>\n",
              "      <td>3.169923</td>\n",
              "      <td>7.610457</td>\n",
              "      <td>5.372469</td>\n",
              "      <td>4.424426</td>\n",
              "      <td>9.400056</td>\n",
              "      <td>3.368243</td>\n",
              "      <td>9.052192</td>\n",
              "      <td>6.889370</td>\n",
              "      <td>4.939912</td>\n",
              "      <td>8.432573</td>\n",
              "      <td>9.240390</td>\n",
              "      <td>4.689763</td>\n",
              "      <td>4.224431</td>\n",
              "      <td>6.386138</td>\n",
              "      <td>7.732480</td>\n",
              "      <td>4.233807</td>\n",
              "      <td>4.392973</td>\n",
              "      <td>5.265164</td>\n",
              "      <td>4.161808</td>\n",
              "      <td>6.984456</td>\n",
              "      <td>6.219122</td>\n",
              "      <td>5.187331</td>\n",
              "      <td>8.225413</td>\n",
              "      <td>5.238370</td>\n",
              "      <td>6.165456</td>\n",
              "      <td>3.500029</td>\n",
              "      <td>5.694598</td>\n",
              "      <td>4.298906</td>\n",
              "      <td>5.211584</td>\n",
              "      <td>7.708507</td>\n",
              "      <td>4.991938</td>\n",
              "      <td>5.860185</td>\n",
              "      <td>6.217526</td>\n",
              "      <td>3.997529</td>\n",
              "      <td>...</td>\n",
              "      <td>9.660223</td>\n",
              "      <td>11.501202</td>\n",
              "      <td>12.598456</td>\n",
              "      <td>11.611006</td>\n",
              "      <td>5.763398</td>\n",
              "      <td>3.517613</td>\n",
              "      <td>4.514921</td>\n",
              "      <td>5.498137</td>\n",
              "      <td>9.336550</td>\n",
              "      <td>11.446506</td>\n",
              "      <td>6.072134</td>\n",
              "      <td>4.312846</td>\n",
              "      <td>5.167958</td>\n",
              "      <td>8.179727</td>\n",
              "      <td>7.501891</td>\n",
              "      <td>7.931099</td>\n",
              "      <td>4.897629</td>\n",
              "      <td>3.710210</td>\n",
              "      <td>3.953584</td>\n",
              "      <td>5.928464</td>\n",
              "      <td>4.910085</td>\n",
              "      <td>4.671537</td>\n",
              "      <td>7.011404</td>\n",
              "      <td>5.452125</td>\n",
              "      <td>6.349551</td>\n",
              "      <td>8.307028</td>\n",
              "      <td>8.440426</td>\n",
              "      <td>8.319234</td>\n",
              "      <td>9.868997</td>\n",
              "      <td>9.655341</td>\n",
              "      <td>12.173642</td>\n",
              "      <td>11.861296</td>\n",
              "      <td>13.797774</td>\n",
              "      <td>13.542206</td>\n",
              "      <td>6.414354</td>\n",
              "      <td>5.040202</td>\n",
              "      <td>5.235318</td>\n",
              "      <td>2.956232</td>\n",
              "      <td>3.445501</td>\n",
              "      <td>3.193947</td>\n",
              "    </tr>\n",
              "  </tbody>\n",
              "</table>\n",
              "<p>5 rows × 54677 columns</p>\n",
              "</div>"
            ],
            "text/plain": [
              "   samples   type  1007_s_at  ...  AFFX-TrpnX-3_at  AFFX-TrpnX-5_at  AFFX-TrpnX-M_at\n",
              "0       84  basal   9.850040  ...         2.966657         3.508495         3.301999\n",
              "1       85  basal   9.861357  ...         2.934763         3.687666         3.064299\n",
              "2       87  basal  10.103478  ...         2.847684         3.550597         3.158535\n",
              "3       90  basal   9.756875  ...         3.031602         3.524981         3.272665\n",
              "4       91  basal   9.408330  ...         2.956232         3.445501         3.193947\n",
              "\n",
              "[5 rows x 54677 columns]"
            ]
          },
          "metadata": {},
          "execution_count": 4
        }
      ]
    },
    {
      "cell_type": "markdown",
      "metadata": {
        "id": "HdI_qZ5reWHj"
      },
      "source": [
        "Turn the target class into categorical "
      ]
    },
    {
      "cell_type": "code",
      "metadata": {
        "colab": {
          "base_uri": "https://localhost:8080/"
        },
        "id": "OAeghbwtPVDp",
        "outputId": "f360cb46-0b52-4975-fe03-a071468557fc"
      },
      "source": [
        "breastdata.dtypes"
      ],
      "execution_count": null,
      "outputs": [
        {
          "output_type": "execute_result",
          "data": {
            "text/plain": [
              "samples              int64\n",
              "type                object\n",
              "1007_s_at          float64\n",
              "1053_at            float64\n",
              "117_at             float64\n",
              "                    ...   \n",
              "AFFX-ThrX-5_at     float64\n",
              "AFFX-ThrX-M_at     float64\n",
              "AFFX-TrpnX-3_at    float64\n",
              "AFFX-TrpnX-5_at    float64\n",
              "AFFX-TrpnX-M_at    float64\n",
              "Length: 54677, dtype: object"
            ]
          },
          "metadata": {},
          "execution_count": 5
        }
      ]
    },
    {
      "cell_type": "code",
      "metadata": {
        "id": "eiejJ8tBdGys"
      },
      "source": [
        "bc = breastdata.copy()\n",
        "#bc.head()\n"
      ],
      "execution_count": null,
      "outputs": []
    },
    {
      "cell_type": "code",
      "metadata": {
        "id": "-YzInLTeh8Ez"
      },
      "source": [
        ""
      ],
      "execution_count": null,
      "outputs": []
    },
    {
      "cell_type": "code",
      "metadata": {
        "colab": {
          "base_uri": "https://localhost:8080/"
        },
        "id": "kWHBioubO63A",
        "outputId": "3df5cb9b-769d-4ac2-ef8a-23d96048dc92"
      },
      "source": [
        "#change the type(target class) column into category \n",
        "bc[\"type\"] = bc[\"type\"].astype('category')\n",
        "bc.dtypes"
      ],
      "execution_count": null,
      "outputs": [
        {
          "output_type": "execute_result",
          "data": {
            "text/plain": [
              "samples               int64\n",
              "type               category\n",
              "1007_s_at           float64\n",
              "1053_at             float64\n",
              "117_at              float64\n",
              "                     ...   \n",
              "AFFX-ThrX-5_at      float64\n",
              "AFFX-ThrX-M_at      float64\n",
              "AFFX-TrpnX-3_at     float64\n",
              "AFFX-TrpnX-5_at     float64\n",
              "AFFX-TrpnX-M_at     float64\n",
              "Length: 54677, dtype: object"
            ]
          },
          "metadata": {},
          "execution_count": 7
        }
      ]
    },
    {
      "cell_type": "code",
      "metadata": {
        "id": "_uf2EsIwQFOn"
      },
      "source": [
        "bc[\"type_cat\"] = bc[\"type\"].cat.codes"
      ],
      "execution_count": null,
      "outputs": []
    },
    {
      "cell_type": "code",
      "metadata": {
        "colab": {
          "base_uri": "https://localhost:8080/"
        },
        "id": "IqQUvTY2QVVO",
        "outputId": "450cbd01-ad3a-4fc7-b8e7-508e8a5d0162"
      },
      "source": [
        "print(bc['type'].unique())\n",
        "print('------------------------------------')\n",
        "print(bc['type_cat'].unique())"
      ],
      "execution_count": null,
      "outputs": [
        {
          "output_type": "stream",
          "text": [
            "['basal', 'HER', 'cell_line', 'normal', 'luminal_A', 'luminal_B']\n",
            "Categories (6, object): ['basal', 'HER', 'cell_line', 'normal', 'luminal_A', 'luminal_B']\n",
            "------------------------------------\n",
            "[1 0 2 5 3 4]\n"
          ],
          "name": "stdout"
        }
      ]
    },
    {
      "cell_type": "code",
      "metadata": {
        "colab": {
          "base_uri": "https://localhost:8080/",
          "height": 304
        },
        "id": "YJRaCD1vQoqQ",
        "outputId": "847d6c58-d1dc-4922-b875-fc2aa193330a"
      },
      "source": [
        "bc.head(5)"
      ],
      "execution_count": null,
      "outputs": [
        {
          "output_type": "execute_result",
          "data": {
            "text/html": [
              "<div>\n",
              "<style scoped>\n",
              "    .dataframe tbody tr th:only-of-type {\n",
              "        vertical-align: middle;\n",
              "    }\n",
              "\n",
              "    .dataframe tbody tr th {\n",
              "        vertical-align: top;\n",
              "    }\n",
              "\n",
              "    .dataframe thead th {\n",
              "        text-align: right;\n",
              "    }\n",
              "</style>\n",
              "<table border=\"1\" class=\"dataframe\">\n",
              "  <thead>\n",
              "    <tr style=\"text-align: right;\">\n",
              "      <th></th>\n",
              "      <th>samples</th>\n",
              "      <th>type</th>\n",
              "      <th>1007_s_at</th>\n",
              "      <th>1053_at</th>\n",
              "      <th>117_at</th>\n",
              "      <th>121_at</th>\n",
              "      <th>1255_g_at</th>\n",
              "      <th>1294_at</th>\n",
              "      <th>1316_at</th>\n",
              "      <th>1320_at</th>\n",
              "      <th>1405_i_at</th>\n",
              "      <th>1431_at</th>\n",
              "      <th>1438_at</th>\n",
              "      <th>1487_at</th>\n",
              "      <th>1494_f_at</th>\n",
              "      <th>1552256_a_at</th>\n",
              "      <th>1552257_a_at</th>\n",
              "      <th>1552258_at</th>\n",
              "      <th>1552261_at</th>\n",
              "      <th>1552263_at</th>\n",
              "      <th>1552264_a_at</th>\n",
              "      <th>1552266_at</th>\n",
              "      <th>1552269_at</th>\n",
              "      <th>1552271_at</th>\n",
              "      <th>1552272_a_at</th>\n",
              "      <th>1552274_at</th>\n",
              "      <th>1552275_s_at</th>\n",
              "      <th>1552276_a_at</th>\n",
              "      <th>1552277_a_at</th>\n",
              "      <th>1552278_a_at</th>\n",
              "      <th>1552279_a_at</th>\n",
              "      <th>1552280_at</th>\n",
              "      <th>1552281_at</th>\n",
              "      <th>1552283_s_at</th>\n",
              "      <th>1552286_at</th>\n",
              "      <th>1552287_s_at</th>\n",
              "      <th>1552288_at</th>\n",
              "      <th>1552289_a_at</th>\n",
              "      <th>1552291_at</th>\n",
              "      <th>1552293_at</th>\n",
              "      <th>...</th>\n",
              "      <th>AFFX-HUMRGE/M10098_3_at</th>\n",
              "      <th>AFFX-HUMRGE/M10098_5_at</th>\n",
              "      <th>AFFX-HUMRGE/M10098_M_at</th>\n",
              "      <th>AFFX-LysX-3_at</th>\n",
              "      <th>AFFX-LysX-5_at</th>\n",
              "      <th>AFFX-LysX-M_at</th>\n",
              "      <th>AFFX-M27830_3_at</th>\n",
              "      <th>AFFX-M27830_5_at</th>\n",
              "      <th>AFFX-M27830_M_at</th>\n",
              "      <th>AFFX-PheX-3_at</th>\n",
              "      <th>AFFX-PheX-5_at</th>\n",
              "      <th>AFFX-PheX-M_at</th>\n",
              "      <th>AFFX-r2-Bs-dap-3_at</th>\n",
              "      <th>AFFX-r2-Bs-dap-5_at</th>\n",
              "      <th>AFFX-r2-Bs-dap-M_at</th>\n",
              "      <th>AFFX-r2-Bs-lys-3_at</th>\n",
              "      <th>AFFX-r2-Bs-lys-5_at</th>\n",
              "      <th>AFFX-r2-Bs-lys-M_at</th>\n",
              "      <th>AFFX-r2-Bs-phe-3_at</th>\n",
              "      <th>AFFX-r2-Bs-phe-5_at</th>\n",
              "      <th>AFFX-r2-Bs-phe-M_at</th>\n",
              "      <th>AFFX-r2-Bs-thr-3_s_at</th>\n",
              "      <th>AFFX-r2-Bs-thr-5_s_at</th>\n",
              "      <th>AFFX-r2-Bs-thr-M_s_at</th>\n",
              "      <th>AFFX-r2-Ec-bioB-3_at</th>\n",
              "      <th>AFFX-r2-Ec-bioB-5_at</th>\n",
              "      <th>AFFX-r2-Ec-bioB-M_at</th>\n",
              "      <th>AFFX-r2-Ec-bioC-3_at</th>\n",
              "      <th>AFFX-r2-Ec-bioC-5_at</th>\n",
              "      <th>AFFX-r2-Ec-bioD-3_at</th>\n",
              "      <th>AFFX-r2-Ec-bioD-5_at</th>\n",
              "      <th>AFFX-r2-P1-cre-3_at</th>\n",
              "      <th>AFFX-r2-P1-cre-5_at</th>\n",
              "      <th>AFFX-ThrX-3_at</th>\n",
              "      <th>AFFX-ThrX-5_at</th>\n",
              "      <th>AFFX-ThrX-M_at</th>\n",
              "      <th>AFFX-TrpnX-3_at</th>\n",
              "      <th>AFFX-TrpnX-5_at</th>\n",
              "      <th>AFFX-TrpnX-M_at</th>\n",
              "      <th>type_cat</th>\n",
              "    </tr>\n",
              "  </thead>\n",
              "  <tbody>\n",
              "    <tr>\n",
              "      <th>0</th>\n",
              "      <td>84</td>\n",
              "      <td>basal</td>\n",
              "      <td>9.850040</td>\n",
              "      <td>8.097927</td>\n",
              "      <td>6.424728</td>\n",
              "      <td>7.353027</td>\n",
              "      <td>3.029122</td>\n",
              "      <td>6.880079</td>\n",
              "      <td>4.963740</td>\n",
              "      <td>4.408328</td>\n",
              "      <td>8.870780</td>\n",
              "      <td>3.278896</td>\n",
              "      <td>7.317273</td>\n",
              "      <td>6.941792</td>\n",
              "      <td>4.753893</td>\n",
              "      <td>9.689422</td>\n",
              "      <td>9.529578</td>\n",
              "      <td>4.416768</td>\n",
              "      <td>4.061347</td>\n",
              "      <td>6.468291</td>\n",
              "      <td>8.671009</td>\n",
              "      <td>3.766666</td>\n",
              "      <td>3.711459</td>\n",
              "      <td>5.076329</td>\n",
              "      <td>4.442042</td>\n",
              "      <td>6.741298</td>\n",
              "      <td>5.627442</td>\n",
              "      <td>5.516712</td>\n",
              "      <td>8.107136</td>\n",
              "      <td>4.956239</td>\n",
              "      <td>5.791279</td>\n",
              "      <td>3.569233</td>\n",
              "      <td>5.687476</td>\n",
              "      <td>4.152096</td>\n",
              "      <td>4.906925</td>\n",
              "      <td>8.206707</td>\n",
              "      <td>4.463950</td>\n",
              "      <td>5.186044</td>\n",
              "      <td>5.942088</td>\n",
              "      <td>4.191142</td>\n",
              "      <td>...</td>\n",
              "      <td>12.050521</td>\n",
              "      <td>14.750905</td>\n",
              "      <td>13.359472</td>\n",
              "      <td>5.576968</td>\n",
              "      <td>3.606041</td>\n",
              "      <td>4.481027</td>\n",
              "      <td>5.509117</td>\n",
              "      <td>10.544533</td>\n",
              "      <td>11.200692</td>\n",
              "      <td>5.932332</td>\n",
              "      <td>4.253946</td>\n",
              "      <td>5.052679</td>\n",
              "      <td>7.782348</td>\n",
              "      <td>7.056759</td>\n",
              "      <td>7.787824</td>\n",
              "      <td>4.784976</td>\n",
              "      <td>3.943038</td>\n",
              "      <td>3.903069</td>\n",
              "      <td>6.119248</td>\n",
              "      <td>4.461984</td>\n",
              "      <td>4.752744</td>\n",
              "      <td>6.761262</td>\n",
              "      <td>5.298281</td>\n",
              "      <td>6.048960</td>\n",
              "      <td>8.292124</td>\n",
              "      <td>8.225293</td>\n",
              "      <td>8.333853</td>\n",
              "      <td>9.854639</td>\n",
              "      <td>9.823275</td>\n",
              "      <td>12.229711</td>\n",
              "      <td>11.852955</td>\n",
              "      <td>13.658701</td>\n",
              "      <td>13.477698</td>\n",
              "      <td>6.265781</td>\n",
              "      <td>5.016196</td>\n",
              "      <td>4.901594</td>\n",
              "      <td>2.966657</td>\n",
              "      <td>3.508495</td>\n",
              "      <td>3.301999</td>\n",
              "      <td>1</td>\n",
              "    </tr>\n",
              "    <tr>\n",
              "      <th>1</th>\n",
              "      <td>85</td>\n",
              "      <td>basal</td>\n",
              "      <td>9.861357</td>\n",
              "      <td>8.212222</td>\n",
              "      <td>7.062593</td>\n",
              "      <td>7.685578</td>\n",
              "      <td>3.149468</td>\n",
              "      <td>7.542283</td>\n",
              "      <td>5.129607</td>\n",
              "      <td>4.584418</td>\n",
              "      <td>7.767646</td>\n",
              "      <td>3.589636</td>\n",
              "      <td>8.768129</td>\n",
              "      <td>7.567034</td>\n",
              "      <td>4.859823</td>\n",
              "      <td>8.459354</td>\n",
              "      <td>8.973671</td>\n",
              "      <td>4.503730</td>\n",
              "      <td>5.390424</td>\n",
              "      <td>6.756707</td>\n",
              "      <td>8.105795</td>\n",
              "      <td>4.651541</td>\n",
              "      <td>3.935309</td>\n",
              "      <td>5.228763</td>\n",
              "      <td>4.454780</td>\n",
              "      <td>6.468014</td>\n",
              "      <td>5.798596</td>\n",
              "      <td>5.306064</td>\n",
              "      <td>7.505800</td>\n",
              "      <td>4.636866</td>\n",
              "      <td>5.898319</td>\n",
              "      <td>3.749061</td>\n",
              "      <td>5.582313</td>\n",
              "      <td>4.449042</td>\n",
              "      <td>5.871074</td>\n",
              "      <td>7.242601</td>\n",
              "      <td>3.938327</td>\n",
              "      <td>4.378953</td>\n",
              "      <td>6.294126</td>\n",
              "      <td>4.058221</td>\n",
              "      <td>...</td>\n",
              "      <td>8.264719</td>\n",
              "      <td>9.938357</td>\n",
              "      <td>9.507651</td>\n",
              "      <td>6.103962</td>\n",
              "      <td>3.983087</td>\n",
              "      <td>4.742306</td>\n",
              "      <td>5.424172</td>\n",
              "      <td>8.881772</td>\n",
              "      <td>11.148811</td>\n",
              "      <td>6.330691</td>\n",
              "      <td>4.755615</td>\n",
              "      <td>5.474167</td>\n",
              "      <td>8.542725</td>\n",
              "      <td>7.617779</td>\n",
              "      <td>8.237535</td>\n",
              "      <td>5.209694</td>\n",
              "      <td>3.939264</td>\n",
              "      <td>4.553344</td>\n",
              "      <td>6.017351</td>\n",
              "      <td>5.425393</td>\n",
              "      <td>4.957182</td>\n",
              "      <td>7.405313</td>\n",
              "      <td>5.615380</td>\n",
              "      <td>6.617585</td>\n",
              "      <td>8.225366</td>\n",
              "      <td>8.409790</td>\n",
              "      <td>8.499343</td>\n",
              "      <td>10.061910</td>\n",
              "      <td>9.796947</td>\n",
              "      <td>12.178531</td>\n",
              "      <td>11.809408</td>\n",
              "      <td>13.750086</td>\n",
              "      <td>13.470146</td>\n",
              "      <td>6.771853</td>\n",
              "      <td>5.291005</td>\n",
              "      <td>5.405839</td>\n",
              "      <td>2.934763</td>\n",
              "      <td>3.687666</td>\n",
              "      <td>3.064299</td>\n",
              "      <td>1</td>\n",
              "    </tr>\n",
              "    <tr>\n",
              "      <th>2</th>\n",
              "      <td>87</td>\n",
              "      <td>basal</td>\n",
              "      <td>10.103478</td>\n",
              "      <td>8.936137</td>\n",
              "      <td>5.735970</td>\n",
              "      <td>7.687822</td>\n",
              "      <td>3.125931</td>\n",
              "      <td>6.562369</td>\n",
              "      <td>4.813449</td>\n",
              "      <td>4.425195</td>\n",
              "      <td>9.417956</td>\n",
              "      <td>3.552253</td>\n",
              "      <td>7.945085</td>\n",
              "      <td>7.238284</td>\n",
              "      <td>4.872635</td>\n",
              "      <td>9.367521</td>\n",
              "      <td>9.133688</td>\n",
              "      <td>4.358608</td>\n",
              "      <td>4.445164</td>\n",
              "      <td>5.476936</td>\n",
              "      <td>8.752115</td>\n",
              "      <td>3.546838</td>\n",
              "      <td>4.263868</td>\n",
              "      <td>5.509159</td>\n",
              "      <td>4.624205</td>\n",
              "      <td>7.103216</td>\n",
              "      <td>6.641263</td>\n",
              "      <td>5.141131</td>\n",
              "      <td>7.072525</td>\n",
              "      <td>4.728196</td>\n",
              "      <td>6.233648</td>\n",
              "      <td>3.766725</td>\n",
              "      <td>6.008163</td>\n",
              "      <td>4.191390</td>\n",
              "      <td>5.717077</td>\n",
              "      <td>7.809222</td>\n",
              "      <td>4.108028</td>\n",
              "      <td>5.012451</td>\n",
              "      <td>7.258626</td>\n",
              "      <td>4.330997</td>\n",
              "      <td>...</td>\n",
              "      <td>10.241912</td>\n",
              "      <td>13.605901</td>\n",
              "      <td>11.784269</td>\n",
              "      <td>5.853014</td>\n",
              "      <td>3.748889</td>\n",
              "      <td>4.407490</td>\n",
              "      <td>5.919699</td>\n",
              "      <td>9.687444</td>\n",
              "      <td>11.601339</td>\n",
              "      <td>6.040000</td>\n",
              "      <td>4.314678</td>\n",
              "      <td>5.274790</td>\n",
              "      <td>8.030696</td>\n",
              "      <td>7.082369</td>\n",
              "      <td>7.912491</td>\n",
              "      <td>4.725483</td>\n",
              "      <td>4.036020</td>\n",
              "      <td>4.141341</td>\n",
              "      <td>5.825904</td>\n",
              "      <td>5.032693</td>\n",
              "      <td>4.764559</td>\n",
              "      <td>7.026349</td>\n",
              "      <td>5.448507</td>\n",
              "      <td>6.386042</td>\n",
              "      <td>8.218749</td>\n",
              "      <td>8.209361</td>\n",
              "      <td>8.280136</td>\n",
              "      <td>9.699647</td>\n",
              "      <td>9.452066</td>\n",
              "      <td>12.125108</td>\n",
              "      <td>11.725766</td>\n",
              "      <td>13.621732</td>\n",
              "      <td>13.295080</td>\n",
              "      <td>6.346952</td>\n",
              "      <td>5.171403</td>\n",
              "      <td>5.184286</td>\n",
              "      <td>2.847684</td>\n",
              "      <td>3.550597</td>\n",
              "      <td>3.158535</td>\n",
              "      <td>1</td>\n",
              "    </tr>\n",
              "    <tr>\n",
              "      <th>3</th>\n",
              "      <td>90</td>\n",
              "      <td>basal</td>\n",
              "      <td>9.756875</td>\n",
              "      <td>7.357148</td>\n",
              "      <td>6.479183</td>\n",
              "      <td>6.986624</td>\n",
              "      <td>3.181638</td>\n",
              "      <td>7.802344</td>\n",
              "      <td>5.490982</td>\n",
              "      <td>4.567956</td>\n",
              "      <td>9.022345</td>\n",
              "      <td>3.312473</td>\n",
              "      <td>7.754670</td>\n",
              "      <td>7.078843</td>\n",
              "      <td>4.867320</td>\n",
              "      <td>7.790225</td>\n",
              "      <td>7.206228</td>\n",
              "      <td>4.680283</td>\n",
              "      <td>4.171577</td>\n",
              "      <td>5.985232</td>\n",
              "      <td>7.205984</td>\n",
              "      <td>3.568459</td>\n",
              "      <td>3.310109</td>\n",
              "      <td>5.166409</td>\n",
              "      <td>4.160049</td>\n",
              "      <td>6.730255</td>\n",
              "      <td>5.774961</td>\n",
              "      <td>6.092539</td>\n",
              "      <td>7.164589</td>\n",
              "      <td>4.903609</td>\n",
              "      <td>5.726683</td>\n",
              "      <td>3.532517</td>\n",
              "      <td>5.652934</td>\n",
              "      <td>3.997426</td>\n",
              "      <td>6.151148</td>\n",
              "      <td>7.189197</td>\n",
              "      <td>4.329053</td>\n",
              "      <td>5.134634</td>\n",
              "      <td>6.300199</td>\n",
              "      <td>4.192591</td>\n",
              "      <td>...</td>\n",
              "      <td>9.191622</td>\n",
              "      <td>12.146083</td>\n",
              "      <td>11.018158</td>\n",
              "      <td>5.972863</td>\n",
              "      <td>3.658838</td>\n",
              "      <td>4.657377</td>\n",
              "      <td>5.508931</td>\n",
              "      <td>9.262102</td>\n",
              "      <td>11.338670</td>\n",
              "      <td>6.194179</td>\n",
              "      <td>4.300024</td>\n",
              "      <td>5.072087</td>\n",
              "      <td>8.148625</td>\n",
              "      <td>7.548858</td>\n",
              "      <td>7.960282</td>\n",
              "      <td>5.226375</td>\n",
              "      <td>3.562438</td>\n",
              "      <td>4.306947</td>\n",
              "      <td>5.979139</td>\n",
              "      <td>5.018239</td>\n",
              "      <td>4.872679</td>\n",
              "      <td>7.066764</td>\n",
              "      <td>5.573531</td>\n",
              "      <td>6.637775</td>\n",
              "      <td>8.183538</td>\n",
              "      <td>8.307374</td>\n",
              "      <td>8.233631</td>\n",
              "      <td>9.911691</td>\n",
              "      <td>9.611842</td>\n",
              "      <td>12.111235</td>\n",
              "      <td>11.719215</td>\n",
              "      <td>13.743108</td>\n",
              "      <td>13.508861</td>\n",
              "      <td>6.610284</td>\n",
              "      <td>5.193356</td>\n",
              "      <td>5.086569</td>\n",
              "      <td>3.031602</td>\n",
              "      <td>3.524981</td>\n",
              "      <td>3.272665</td>\n",
              "      <td>1</td>\n",
              "    </tr>\n",
              "    <tr>\n",
              "      <th>4</th>\n",
              "      <td>91</td>\n",
              "      <td>basal</td>\n",
              "      <td>9.408330</td>\n",
              "      <td>7.746404</td>\n",
              "      <td>6.693980</td>\n",
              "      <td>7.333426</td>\n",
              "      <td>3.169923</td>\n",
              "      <td>7.610457</td>\n",
              "      <td>5.372469</td>\n",
              "      <td>4.424426</td>\n",
              "      <td>9.400056</td>\n",
              "      <td>3.368243</td>\n",
              "      <td>9.052192</td>\n",
              "      <td>6.889370</td>\n",
              "      <td>4.939912</td>\n",
              "      <td>8.432573</td>\n",
              "      <td>9.240390</td>\n",
              "      <td>4.689763</td>\n",
              "      <td>4.224431</td>\n",
              "      <td>6.386138</td>\n",
              "      <td>7.732480</td>\n",
              "      <td>4.233807</td>\n",
              "      <td>4.392973</td>\n",
              "      <td>5.265164</td>\n",
              "      <td>4.161808</td>\n",
              "      <td>6.984456</td>\n",
              "      <td>6.219122</td>\n",
              "      <td>5.187331</td>\n",
              "      <td>8.225413</td>\n",
              "      <td>5.238370</td>\n",
              "      <td>6.165456</td>\n",
              "      <td>3.500029</td>\n",
              "      <td>5.694598</td>\n",
              "      <td>4.298906</td>\n",
              "      <td>5.211584</td>\n",
              "      <td>7.708507</td>\n",
              "      <td>4.991938</td>\n",
              "      <td>5.860185</td>\n",
              "      <td>6.217526</td>\n",
              "      <td>3.997529</td>\n",
              "      <td>...</td>\n",
              "      <td>11.501202</td>\n",
              "      <td>12.598456</td>\n",
              "      <td>11.611006</td>\n",
              "      <td>5.763398</td>\n",
              "      <td>3.517613</td>\n",
              "      <td>4.514921</td>\n",
              "      <td>5.498137</td>\n",
              "      <td>9.336550</td>\n",
              "      <td>11.446506</td>\n",
              "      <td>6.072134</td>\n",
              "      <td>4.312846</td>\n",
              "      <td>5.167958</td>\n",
              "      <td>8.179727</td>\n",
              "      <td>7.501891</td>\n",
              "      <td>7.931099</td>\n",
              "      <td>4.897629</td>\n",
              "      <td>3.710210</td>\n",
              "      <td>3.953584</td>\n",
              "      <td>5.928464</td>\n",
              "      <td>4.910085</td>\n",
              "      <td>4.671537</td>\n",
              "      <td>7.011404</td>\n",
              "      <td>5.452125</td>\n",
              "      <td>6.349551</td>\n",
              "      <td>8.307028</td>\n",
              "      <td>8.440426</td>\n",
              "      <td>8.319234</td>\n",
              "      <td>9.868997</td>\n",
              "      <td>9.655341</td>\n",
              "      <td>12.173642</td>\n",
              "      <td>11.861296</td>\n",
              "      <td>13.797774</td>\n",
              "      <td>13.542206</td>\n",
              "      <td>6.414354</td>\n",
              "      <td>5.040202</td>\n",
              "      <td>5.235318</td>\n",
              "      <td>2.956232</td>\n",
              "      <td>3.445501</td>\n",
              "      <td>3.193947</td>\n",
              "      <td>1</td>\n",
              "    </tr>\n",
              "  </tbody>\n",
              "</table>\n",
              "<p>5 rows × 54678 columns</p>\n",
              "</div>"
            ],
            "text/plain": [
              "   samples   type  1007_s_at  ...  AFFX-TrpnX-5_at  AFFX-TrpnX-M_at  type_cat\n",
              "0       84  basal   9.850040  ...         3.508495         3.301999         1\n",
              "1       85  basal   9.861357  ...         3.687666         3.064299         1\n",
              "2       87  basal  10.103478  ...         3.550597         3.158535         1\n",
              "3       90  basal   9.756875  ...         3.524981         3.272665         1\n",
              "4       91  basal   9.408330  ...         3.445501         3.193947         1\n",
              "\n",
              "[5 rows x 54678 columns]"
            ]
          },
          "metadata": {},
          "execution_count": 10
        }
      ]
    },
    {
      "cell_type": "code",
      "metadata": {
        "id": "WxQ0yDW7Fjvz",
        "colab": {
          "base_uri": "https://localhost:8080/",
          "height": 304
        },
        "outputId": "5d14e2e7-ddd3-4815-f4ba-c51cd48f3396"
      },
      "source": [
        "X = bc.iloc[:, 2:-1]\n",
        "y = bc.type_cat\n",
        "#X.head()"
      ],
      "execution_count": null,
      "outputs": [
        {
          "output_type": "execute_result",
          "data": {
            "text/html": [
              "<div>\n",
              "<style scoped>\n",
              "    .dataframe tbody tr th:only-of-type {\n",
              "        vertical-align: middle;\n",
              "    }\n",
              "\n",
              "    .dataframe tbody tr th {\n",
              "        vertical-align: top;\n",
              "    }\n",
              "\n",
              "    .dataframe thead th {\n",
              "        text-align: right;\n",
              "    }\n",
              "</style>\n",
              "<table border=\"1\" class=\"dataframe\">\n",
              "  <thead>\n",
              "    <tr style=\"text-align: right;\">\n",
              "      <th></th>\n",
              "      <th>1007_s_at</th>\n",
              "      <th>1053_at</th>\n",
              "      <th>117_at</th>\n",
              "      <th>121_at</th>\n",
              "      <th>1255_g_at</th>\n",
              "      <th>1294_at</th>\n",
              "      <th>1316_at</th>\n",
              "      <th>1320_at</th>\n",
              "      <th>1405_i_at</th>\n",
              "      <th>1431_at</th>\n",
              "      <th>1438_at</th>\n",
              "      <th>1487_at</th>\n",
              "      <th>1494_f_at</th>\n",
              "      <th>1552256_a_at</th>\n",
              "      <th>1552257_a_at</th>\n",
              "      <th>1552258_at</th>\n",
              "      <th>1552261_at</th>\n",
              "      <th>1552263_at</th>\n",
              "      <th>1552264_a_at</th>\n",
              "      <th>1552266_at</th>\n",
              "      <th>1552269_at</th>\n",
              "      <th>1552271_at</th>\n",
              "      <th>1552272_a_at</th>\n",
              "      <th>1552274_at</th>\n",
              "      <th>1552275_s_at</th>\n",
              "      <th>1552276_a_at</th>\n",
              "      <th>1552277_a_at</th>\n",
              "      <th>1552278_a_at</th>\n",
              "      <th>1552279_a_at</th>\n",
              "      <th>1552280_at</th>\n",
              "      <th>1552281_at</th>\n",
              "      <th>1552283_s_at</th>\n",
              "      <th>1552286_at</th>\n",
              "      <th>1552287_s_at</th>\n",
              "      <th>1552288_at</th>\n",
              "      <th>1552289_a_at</th>\n",
              "      <th>1552291_at</th>\n",
              "      <th>1552293_at</th>\n",
              "      <th>1552295_a_at</th>\n",
              "      <th>1552296_at</th>\n",
              "      <th>...</th>\n",
              "      <th>AFFX-HUMISGF3A/M97935_MB_at</th>\n",
              "      <th>AFFX-HUMRGE/M10098_3_at</th>\n",
              "      <th>AFFX-HUMRGE/M10098_5_at</th>\n",
              "      <th>AFFX-HUMRGE/M10098_M_at</th>\n",
              "      <th>AFFX-LysX-3_at</th>\n",
              "      <th>AFFX-LysX-5_at</th>\n",
              "      <th>AFFX-LysX-M_at</th>\n",
              "      <th>AFFX-M27830_3_at</th>\n",
              "      <th>AFFX-M27830_5_at</th>\n",
              "      <th>AFFX-M27830_M_at</th>\n",
              "      <th>AFFX-PheX-3_at</th>\n",
              "      <th>AFFX-PheX-5_at</th>\n",
              "      <th>AFFX-PheX-M_at</th>\n",
              "      <th>AFFX-r2-Bs-dap-3_at</th>\n",
              "      <th>AFFX-r2-Bs-dap-5_at</th>\n",
              "      <th>AFFX-r2-Bs-dap-M_at</th>\n",
              "      <th>AFFX-r2-Bs-lys-3_at</th>\n",
              "      <th>AFFX-r2-Bs-lys-5_at</th>\n",
              "      <th>AFFX-r2-Bs-lys-M_at</th>\n",
              "      <th>AFFX-r2-Bs-phe-3_at</th>\n",
              "      <th>AFFX-r2-Bs-phe-5_at</th>\n",
              "      <th>AFFX-r2-Bs-phe-M_at</th>\n",
              "      <th>AFFX-r2-Bs-thr-3_s_at</th>\n",
              "      <th>AFFX-r2-Bs-thr-5_s_at</th>\n",
              "      <th>AFFX-r2-Bs-thr-M_s_at</th>\n",
              "      <th>AFFX-r2-Ec-bioB-3_at</th>\n",
              "      <th>AFFX-r2-Ec-bioB-5_at</th>\n",
              "      <th>AFFX-r2-Ec-bioB-M_at</th>\n",
              "      <th>AFFX-r2-Ec-bioC-3_at</th>\n",
              "      <th>AFFX-r2-Ec-bioC-5_at</th>\n",
              "      <th>AFFX-r2-Ec-bioD-3_at</th>\n",
              "      <th>AFFX-r2-Ec-bioD-5_at</th>\n",
              "      <th>AFFX-r2-P1-cre-3_at</th>\n",
              "      <th>AFFX-r2-P1-cre-5_at</th>\n",
              "      <th>AFFX-ThrX-3_at</th>\n",
              "      <th>AFFX-ThrX-5_at</th>\n",
              "      <th>AFFX-ThrX-M_at</th>\n",
              "      <th>AFFX-TrpnX-3_at</th>\n",
              "      <th>AFFX-TrpnX-5_at</th>\n",
              "      <th>AFFX-TrpnX-M_at</th>\n",
              "    </tr>\n",
              "  </thead>\n",
              "  <tbody>\n",
              "    <tr>\n",
              "      <th>0</th>\n",
              "      <td>9.850040</td>\n",
              "      <td>8.097927</td>\n",
              "      <td>6.424728</td>\n",
              "      <td>7.353027</td>\n",
              "      <td>3.029122</td>\n",
              "      <td>6.880079</td>\n",
              "      <td>4.963740</td>\n",
              "      <td>4.408328</td>\n",
              "      <td>8.870780</td>\n",
              "      <td>3.278896</td>\n",
              "      <td>7.317273</td>\n",
              "      <td>6.941792</td>\n",
              "      <td>4.753893</td>\n",
              "      <td>9.689422</td>\n",
              "      <td>9.529578</td>\n",
              "      <td>4.416768</td>\n",
              "      <td>4.061347</td>\n",
              "      <td>6.468291</td>\n",
              "      <td>8.671009</td>\n",
              "      <td>3.766666</td>\n",
              "      <td>3.711459</td>\n",
              "      <td>5.076329</td>\n",
              "      <td>4.442042</td>\n",
              "      <td>6.741298</td>\n",
              "      <td>5.627442</td>\n",
              "      <td>5.516712</td>\n",
              "      <td>8.107136</td>\n",
              "      <td>4.956239</td>\n",
              "      <td>5.791279</td>\n",
              "      <td>3.569233</td>\n",
              "      <td>5.687476</td>\n",
              "      <td>4.152096</td>\n",
              "      <td>4.906925</td>\n",
              "      <td>8.206707</td>\n",
              "      <td>4.463950</td>\n",
              "      <td>5.186044</td>\n",
              "      <td>5.942088</td>\n",
              "      <td>4.191142</td>\n",
              "      <td>7.413500</td>\n",
              "      <td>3.281950</td>\n",
              "      <td>...</td>\n",
              "      <td>9.015007</td>\n",
              "      <td>12.050521</td>\n",
              "      <td>14.750905</td>\n",
              "      <td>13.359472</td>\n",
              "      <td>5.576968</td>\n",
              "      <td>3.606041</td>\n",
              "      <td>4.481027</td>\n",
              "      <td>5.509117</td>\n",
              "      <td>10.544533</td>\n",
              "      <td>11.200692</td>\n",
              "      <td>5.932332</td>\n",
              "      <td>4.253946</td>\n",
              "      <td>5.052679</td>\n",
              "      <td>7.782348</td>\n",
              "      <td>7.056759</td>\n",
              "      <td>7.787824</td>\n",
              "      <td>4.784976</td>\n",
              "      <td>3.943038</td>\n",
              "      <td>3.903069</td>\n",
              "      <td>6.119248</td>\n",
              "      <td>4.461984</td>\n",
              "      <td>4.752744</td>\n",
              "      <td>6.761262</td>\n",
              "      <td>5.298281</td>\n",
              "      <td>6.048960</td>\n",
              "      <td>8.292124</td>\n",
              "      <td>8.225293</td>\n",
              "      <td>8.333853</td>\n",
              "      <td>9.854639</td>\n",
              "      <td>9.823275</td>\n",
              "      <td>12.229711</td>\n",
              "      <td>11.852955</td>\n",
              "      <td>13.658701</td>\n",
              "      <td>13.477698</td>\n",
              "      <td>6.265781</td>\n",
              "      <td>5.016196</td>\n",
              "      <td>4.901594</td>\n",
              "      <td>2.966657</td>\n",
              "      <td>3.508495</td>\n",
              "      <td>3.301999</td>\n",
              "    </tr>\n",
              "    <tr>\n",
              "      <th>1</th>\n",
              "      <td>9.861357</td>\n",
              "      <td>8.212222</td>\n",
              "      <td>7.062593</td>\n",
              "      <td>7.685578</td>\n",
              "      <td>3.149468</td>\n",
              "      <td>7.542283</td>\n",
              "      <td>5.129607</td>\n",
              "      <td>4.584418</td>\n",
              "      <td>7.767646</td>\n",
              "      <td>3.589636</td>\n",
              "      <td>8.768129</td>\n",
              "      <td>7.567034</td>\n",
              "      <td>4.859823</td>\n",
              "      <td>8.459354</td>\n",
              "      <td>8.973671</td>\n",
              "      <td>4.503730</td>\n",
              "      <td>5.390424</td>\n",
              "      <td>6.756707</td>\n",
              "      <td>8.105795</td>\n",
              "      <td>4.651541</td>\n",
              "      <td>3.935309</td>\n",
              "      <td>5.228763</td>\n",
              "      <td>4.454780</td>\n",
              "      <td>6.468014</td>\n",
              "      <td>5.798596</td>\n",
              "      <td>5.306064</td>\n",
              "      <td>7.505800</td>\n",
              "      <td>4.636866</td>\n",
              "      <td>5.898319</td>\n",
              "      <td>3.749061</td>\n",
              "      <td>5.582313</td>\n",
              "      <td>4.449042</td>\n",
              "      <td>5.871074</td>\n",
              "      <td>7.242601</td>\n",
              "      <td>3.938327</td>\n",
              "      <td>4.378953</td>\n",
              "      <td>6.294126</td>\n",
              "      <td>4.058221</td>\n",
              "      <td>6.799876</td>\n",
              "      <td>3.004077</td>\n",
              "      <td>...</td>\n",
              "      <td>9.371174</td>\n",
              "      <td>8.264719</td>\n",
              "      <td>9.938357</td>\n",
              "      <td>9.507651</td>\n",
              "      <td>6.103962</td>\n",
              "      <td>3.983087</td>\n",
              "      <td>4.742306</td>\n",
              "      <td>5.424172</td>\n",
              "      <td>8.881772</td>\n",
              "      <td>11.148811</td>\n",
              "      <td>6.330691</td>\n",
              "      <td>4.755615</td>\n",
              "      <td>5.474167</td>\n",
              "      <td>8.542725</td>\n",
              "      <td>7.617779</td>\n",
              "      <td>8.237535</td>\n",
              "      <td>5.209694</td>\n",
              "      <td>3.939264</td>\n",
              "      <td>4.553344</td>\n",
              "      <td>6.017351</td>\n",
              "      <td>5.425393</td>\n",
              "      <td>4.957182</td>\n",
              "      <td>7.405313</td>\n",
              "      <td>5.615380</td>\n",
              "      <td>6.617585</td>\n",
              "      <td>8.225366</td>\n",
              "      <td>8.409790</td>\n",
              "      <td>8.499343</td>\n",
              "      <td>10.061910</td>\n",
              "      <td>9.796947</td>\n",
              "      <td>12.178531</td>\n",
              "      <td>11.809408</td>\n",
              "      <td>13.750086</td>\n",
              "      <td>13.470146</td>\n",
              "      <td>6.771853</td>\n",
              "      <td>5.291005</td>\n",
              "      <td>5.405839</td>\n",
              "      <td>2.934763</td>\n",
              "      <td>3.687666</td>\n",
              "      <td>3.064299</td>\n",
              "    </tr>\n",
              "    <tr>\n",
              "      <th>2</th>\n",
              "      <td>10.103478</td>\n",
              "      <td>8.936137</td>\n",
              "      <td>5.735970</td>\n",
              "      <td>7.687822</td>\n",
              "      <td>3.125931</td>\n",
              "      <td>6.562369</td>\n",
              "      <td>4.813449</td>\n",
              "      <td>4.425195</td>\n",
              "      <td>9.417956</td>\n",
              "      <td>3.552253</td>\n",
              "      <td>7.945085</td>\n",
              "      <td>7.238284</td>\n",
              "      <td>4.872635</td>\n",
              "      <td>9.367521</td>\n",
              "      <td>9.133688</td>\n",
              "      <td>4.358608</td>\n",
              "      <td>4.445164</td>\n",
              "      <td>5.476936</td>\n",
              "      <td>8.752115</td>\n",
              "      <td>3.546838</td>\n",
              "      <td>4.263868</td>\n",
              "      <td>5.509159</td>\n",
              "      <td>4.624205</td>\n",
              "      <td>7.103216</td>\n",
              "      <td>6.641263</td>\n",
              "      <td>5.141131</td>\n",
              "      <td>7.072525</td>\n",
              "      <td>4.728196</td>\n",
              "      <td>6.233648</td>\n",
              "      <td>3.766725</td>\n",
              "      <td>6.008163</td>\n",
              "      <td>4.191390</td>\n",
              "      <td>5.717077</td>\n",
              "      <td>7.809222</td>\n",
              "      <td>4.108028</td>\n",
              "      <td>5.012451</td>\n",
              "      <td>7.258626</td>\n",
              "      <td>4.330997</td>\n",
              "      <td>6.901454</td>\n",
              "      <td>4.032173</td>\n",
              "      <td>...</td>\n",
              "      <td>8.842430</td>\n",
              "      <td>10.241912</td>\n",
              "      <td>13.605901</td>\n",
              "      <td>11.784269</td>\n",
              "      <td>5.853014</td>\n",
              "      <td>3.748889</td>\n",
              "      <td>4.407490</td>\n",
              "      <td>5.919699</td>\n",
              "      <td>9.687444</td>\n",
              "      <td>11.601339</td>\n",
              "      <td>6.040000</td>\n",
              "      <td>4.314678</td>\n",
              "      <td>5.274790</td>\n",
              "      <td>8.030696</td>\n",
              "      <td>7.082369</td>\n",
              "      <td>7.912491</td>\n",
              "      <td>4.725483</td>\n",
              "      <td>4.036020</td>\n",
              "      <td>4.141341</td>\n",
              "      <td>5.825904</td>\n",
              "      <td>5.032693</td>\n",
              "      <td>4.764559</td>\n",
              "      <td>7.026349</td>\n",
              "      <td>5.448507</td>\n",
              "      <td>6.386042</td>\n",
              "      <td>8.218749</td>\n",
              "      <td>8.209361</td>\n",
              "      <td>8.280136</td>\n",
              "      <td>9.699647</td>\n",
              "      <td>9.452066</td>\n",
              "      <td>12.125108</td>\n",
              "      <td>11.725766</td>\n",
              "      <td>13.621732</td>\n",
              "      <td>13.295080</td>\n",
              "      <td>6.346952</td>\n",
              "      <td>5.171403</td>\n",
              "      <td>5.184286</td>\n",
              "      <td>2.847684</td>\n",
              "      <td>3.550597</td>\n",
              "      <td>3.158535</td>\n",
              "    </tr>\n",
              "    <tr>\n",
              "      <th>3</th>\n",
              "      <td>9.756875</td>\n",
              "      <td>7.357148</td>\n",
              "      <td>6.479183</td>\n",
              "      <td>6.986624</td>\n",
              "      <td>3.181638</td>\n",
              "      <td>7.802344</td>\n",
              "      <td>5.490982</td>\n",
              "      <td>4.567956</td>\n",
              "      <td>9.022345</td>\n",
              "      <td>3.312473</td>\n",
              "      <td>7.754670</td>\n",
              "      <td>7.078843</td>\n",
              "      <td>4.867320</td>\n",
              "      <td>7.790225</td>\n",
              "      <td>7.206228</td>\n",
              "      <td>4.680283</td>\n",
              "      <td>4.171577</td>\n",
              "      <td>5.985232</td>\n",
              "      <td>7.205984</td>\n",
              "      <td>3.568459</td>\n",
              "      <td>3.310109</td>\n",
              "      <td>5.166409</td>\n",
              "      <td>4.160049</td>\n",
              "      <td>6.730255</td>\n",
              "      <td>5.774961</td>\n",
              "      <td>6.092539</td>\n",
              "      <td>7.164589</td>\n",
              "      <td>4.903609</td>\n",
              "      <td>5.726683</td>\n",
              "      <td>3.532517</td>\n",
              "      <td>5.652934</td>\n",
              "      <td>3.997426</td>\n",
              "      <td>6.151148</td>\n",
              "      <td>7.189197</td>\n",
              "      <td>4.329053</td>\n",
              "      <td>5.134634</td>\n",
              "      <td>6.300199</td>\n",
              "      <td>4.192591</td>\n",
              "      <td>7.082357</td>\n",
              "      <td>3.249017</td>\n",
              "      <td>...</td>\n",
              "      <td>10.554449</td>\n",
              "      <td>9.191622</td>\n",
              "      <td>12.146083</td>\n",
              "      <td>11.018158</td>\n",
              "      <td>5.972863</td>\n",
              "      <td>3.658838</td>\n",
              "      <td>4.657377</td>\n",
              "      <td>5.508931</td>\n",
              "      <td>9.262102</td>\n",
              "      <td>11.338670</td>\n",
              "      <td>6.194179</td>\n",
              "      <td>4.300024</td>\n",
              "      <td>5.072087</td>\n",
              "      <td>8.148625</td>\n",
              "      <td>7.548858</td>\n",
              "      <td>7.960282</td>\n",
              "      <td>5.226375</td>\n",
              "      <td>3.562438</td>\n",
              "      <td>4.306947</td>\n",
              "      <td>5.979139</td>\n",
              "      <td>5.018239</td>\n",
              "      <td>4.872679</td>\n",
              "      <td>7.066764</td>\n",
              "      <td>5.573531</td>\n",
              "      <td>6.637775</td>\n",
              "      <td>8.183538</td>\n",
              "      <td>8.307374</td>\n",
              "      <td>8.233631</td>\n",
              "      <td>9.911691</td>\n",
              "      <td>9.611842</td>\n",
              "      <td>12.111235</td>\n",
              "      <td>11.719215</td>\n",
              "      <td>13.743108</td>\n",
              "      <td>13.508861</td>\n",
              "      <td>6.610284</td>\n",
              "      <td>5.193356</td>\n",
              "      <td>5.086569</td>\n",
              "      <td>3.031602</td>\n",
              "      <td>3.524981</td>\n",
              "      <td>3.272665</td>\n",
              "    </tr>\n",
              "    <tr>\n",
              "      <th>4</th>\n",
              "      <td>9.408330</td>\n",
              "      <td>7.746404</td>\n",
              "      <td>6.693980</td>\n",
              "      <td>7.333426</td>\n",
              "      <td>3.169923</td>\n",
              "      <td>7.610457</td>\n",
              "      <td>5.372469</td>\n",
              "      <td>4.424426</td>\n",
              "      <td>9.400056</td>\n",
              "      <td>3.368243</td>\n",
              "      <td>9.052192</td>\n",
              "      <td>6.889370</td>\n",
              "      <td>4.939912</td>\n",
              "      <td>8.432573</td>\n",
              "      <td>9.240390</td>\n",
              "      <td>4.689763</td>\n",
              "      <td>4.224431</td>\n",
              "      <td>6.386138</td>\n",
              "      <td>7.732480</td>\n",
              "      <td>4.233807</td>\n",
              "      <td>4.392973</td>\n",
              "      <td>5.265164</td>\n",
              "      <td>4.161808</td>\n",
              "      <td>6.984456</td>\n",
              "      <td>6.219122</td>\n",
              "      <td>5.187331</td>\n",
              "      <td>8.225413</td>\n",
              "      <td>5.238370</td>\n",
              "      <td>6.165456</td>\n",
              "      <td>3.500029</td>\n",
              "      <td>5.694598</td>\n",
              "      <td>4.298906</td>\n",
              "      <td>5.211584</td>\n",
              "      <td>7.708507</td>\n",
              "      <td>4.991938</td>\n",
              "      <td>5.860185</td>\n",
              "      <td>6.217526</td>\n",
              "      <td>3.997529</td>\n",
              "      <td>7.031443</td>\n",
              "      <td>3.633830</td>\n",
              "      <td>...</td>\n",
              "      <td>9.660223</td>\n",
              "      <td>11.501202</td>\n",
              "      <td>12.598456</td>\n",
              "      <td>11.611006</td>\n",
              "      <td>5.763398</td>\n",
              "      <td>3.517613</td>\n",
              "      <td>4.514921</td>\n",
              "      <td>5.498137</td>\n",
              "      <td>9.336550</td>\n",
              "      <td>11.446506</td>\n",
              "      <td>6.072134</td>\n",
              "      <td>4.312846</td>\n",
              "      <td>5.167958</td>\n",
              "      <td>8.179727</td>\n",
              "      <td>7.501891</td>\n",
              "      <td>7.931099</td>\n",
              "      <td>4.897629</td>\n",
              "      <td>3.710210</td>\n",
              "      <td>3.953584</td>\n",
              "      <td>5.928464</td>\n",
              "      <td>4.910085</td>\n",
              "      <td>4.671537</td>\n",
              "      <td>7.011404</td>\n",
              "      <td>5.452125</td>\n",
              "      <td>6.349551</td>\n",
              "      <td>8.307028</td>\n",
              "      <td>8.440426</td>\n",
              "      <td>8.319234</td>\n",
              "      <td>9.868997</td>\n",
              "      <td>9.655341</td>\n",
              "      <td>12.173642</td>\n",
              "      <td>11.861296</td>\n",
              "      <td>13.797774</td>\n",
              "      <td>13.542206</td>\n",
              "      <td>6.414354</td>\n",
              "      <td>5.040202</td>\n",
              "      <td>5.235318</td>\n",
              "      <td>2.956232</td>\n",
              "      <td>3.445501</td>\n",
              "      <td>3.193947</td>\n",
              "    </tr>\n",
              "  </tbody>\n",
              "</table>\n",
              "<p>5 rows × 54675 columns</p>\n",
              "</div>"
            ],
            "text/plain": [
              "   1007_s_at   1053_at  ...  AFFX-TrpnX-5_at  AFFX-TrpnX-M_at\n",
              "0   9.850040  8.097927  ...         3.508495         3.301999\n",
              "1   9.861357  8.212222  ...         3.687666         3.064299\n",
              "2  10.103478  8.936137  ...         3.550597         3.158535\n",
              "3   9.756875  7.357148  ...         3.524981         3.272665\n",
              "4   9.408330  7.746404  ...         3.445501         3.193947\n",
              "\n",
              "[5 rows x 54675 columns]"
            ]
          },
          "metadata": {},
          "execution_count": 11
        }
      ]
    },
    {
      "cell_type": "code",
      "metadata": {
        "colab": {
          "base_uri": "https://localhost:8080/"
        },
        "id": "4RzAQfrXRm9B",
        "outputId": "fdb67810-74d4-422a-82c9-da41d42b600e"
      },
      "source": [
        "print(breastdata.shape)\n",
        "print(bc.shape)\n",
        "print(X.shape)"
      ],
      "execution_count": null,
      "outputs": [
        {
          "output_type": "stream",
          "text": [
            "(151, 54677)\n",
            "(151, 54678)\n",
            "(151, 54675)\n"
          ],
          "name": "stdout"
        }
      ]
    },
    {
      "cell_type": "markdown",
      "metadata": {
        "id": "puBTR3Urm0QZ"
      },
      "source": [
        "**SVM Cross validation - 3 fold cross validation log kernel**"
      ]
    },
    {
      "cell_type": "markdown",
      "metadata": {
        "id": "kk8C32casI_j"
      },
      "source": [
        "class sklearn.svm.SVC(*, C=1.0, kernel='rbf', degree=3, gamma='scale', coef0=0.0, shrinking=True, probability=False, tol=0.001, cache_size=200, class_weight=None, verbose=False, max_iter=- 1, decision_function_shape='ovr', break_ties=False, random_state=None)"
      ]
    },
    {
      "cell_type": "code",
      "metadata": {
        "colab": {
          "base_uri": "https://localhost:8080/"
        },
        "id": "OVg1TBQXmzJp",
        "outputId": "3ca73efd-2bfc-4999-9a30-7ee48a84759d"
      },
      "source": [
        "from sklearn.model_selection import cross_val_score, cross_val_predict\n",
        "from sklearn import svm\n",
        "from sklearn.svm import SVC\n",
        "clf = svm.SVC(kernel= 'poly', C=1, random_state= 42)\n",
        "scores = cross_val_score(clf, X, y, cv= 5)\n",
        "scores"
      ],
      "execution_count": null,
      "outputs": [
        {
          "output_type": "execute_result",
          "data": {
            "text/plain": [
              "array([0.96774194, 0.96666667, 0.93333333, 0.93333333, 0.93333333])"
            ]
          },
          "metadata": {},
          "execution_count": 13
        }
      ]
    },
    {
      "cell_type": "code",
      "metadata": {
        "colab": {
          "base_uri": "https://localhost:8080/"
        },
        "id": "YyY6kml63NVO",
        "outputId": "190a892c-1b86-4ca2-f229-703b3318f09f"
      },
      "source": [
        "print(\"%0.2f accuracy with a standard deviation of %0.2f\" % (scores.mean(), scores.std()))"
      ],
      "execution_count": null,
      "outputs": [
        {
          "output_type": "stream",
          "text": [
            "0.95 accuracy with a standard deviation of 0.02\n"
          ],
          "name": "stdout"
        }
      ]
    },
    {
      "cell_type": "code",
      "metadata": {
        "id": "aQgi7Ykg6AQh"
      },
      "source": [
        "from sklearn.model_selection import cross_val_predict\n",
        "from sklearn.metrics import classification_report, confusion_matrix, accuracy_score, ConfusionMatrixDisplay, roc_auc_score,roc_curve\n",
        "from sklearn.datasets import make_classification\n",
        "import matplotlib.pyplot as plt  \n",
        "from sklearn.metrics import plot_confusion_matrix\n",
        "from sklearn.metrics import matthews_corrcoef"
      ],
      "execution_count": null,
      "outputs": []
    },
    {
      "cell_type": "code",
      "metadata": {
        "colab": {
          "base_uri": "https://localhost:8080/",
          "height": 352
        },
        "id": "paVcuOBUqa4Q",
        "outputId": "2953570b-8984-452a-eef1-546940cf74f7"
      },
      "source": [
        "label = [ 'HER','basal','cell_line', 'luminal_A','luminal_B','normal'] \n",
        "y_pred=cross_val_predict(clf, X,y,cv=5)  \n",
        "cm = confusion_matrix(y, y_pred)\n",
        "#disp = ConfusionMatrixDisplay(confusion_matrix=cm,display_labels= label)\n",
        "disp = ConfusionMatrixDisplay(confusion_matrix=cm,display_labels= label)\n",
        "print(\"             SVM Confusion Matrix CV=5         \")\n",
        "disp.plot(xticks_rotation='vertical')\n"
      ],
      "execution_count": null,
      "outputs": [
        {
          "output_type": "stream",
          "text": [
            "             SVM Confusion Matrix CV=5         \n"
          ],
          "name": "stdout"
        },
        {
          "output_type": "execute_result",
          "data": {
            "text/plain": [
              "<sklearn.metrics._plot.confusion_matrix.ConfusionMatrixDisplay at 0x7ff322820290>"
            ]
          },
          "metadata": {},
          "execution_count": 16
        },
        {
          "output_type": "display_data",
          "data": {
            "image/png": "[encoded data removed]",
            "text/plain": [
              "<Figure size 432x288 with 2 Axes>"
            ]
          },
          "metadata": {
            "needs_background": "light"
          }
        }
      ]
    },
    {
      "cell_type": "code",
      "metadata": {
        "id": "wxpwgDf09G9r"
      },
      "source": [
        ""
      ],
      "execution_count": null,
      "outputs": []
    },
    {
      "cell_type": "code",
      "metadata": {
        "colab": {
          "base_uri": "https://localhost:8080/"
        },
        "id": "ps_Kzce37dAF",
        "outputId": "3defb62e-c856-4cc3-cea6-47c87e405c3c"
      },
      "source": [
        "print(\"\\033[1m\"  +'      ' +  'SVM Stratified cross-validation CV=5'  + \"\\033[0m\"    )\n",
        "print(\"                                                          \")\n",
        "print(\"Correctly Classified Instances = {}.\".format(accuracy_score(y, y_pred, normalize=False)))\n",
        "print(\"Percentage of Correctly Classified Instances = {:.2f}.\".format(accuracy_score(y, y_pred,)))\n",
        "print('Kappa statistic= {:.2f}.'. format(cohen_kappa_score(y , y_pred)))\n",
        "print('Mean absolute error = {:.2f}.'. format(mean_absolute_error(y , y_pred, multioutput= 'uniform_average')))\n",
        "print('Root Mean Squared error = {:.2f}.'. format(mean_squared_error (y , y_pred, squared=False)))\n",
        "print('Matthews Corrcoef = {:.2f}.'. format(matthews_corrcoef(y, y_pred)))\n",
        "print(\"Accuracy =% 0.2f with a %0.2f standard deviation\" % (scores.mean(), scores.std()))\n",
        "print(\"                                                          \")\n",
        "print(\"\\033[1m\"  +'                 ' +  'Detailed Accuracy By Class' + \"\\033[0m\" )\n",
        "print(classification_report(y,y_pred,target_names=label ))\n"
      ],
      "execution_count": null,
      "outputs": [
        {
          "output_type": "stream",
          "text": [
            "\u001b[1m      SVM Stratified cross-validation CV=5\u001b[0m\n",
            "                                                          \n",
            "Correctly Classified Instances = 143.\n",
            "Percentage of Correctly Classified Instances = 0.95.\n",
            "Kappa statistic= 0.93.\n",
            "Mean absolute error = 0.05.\n",
            "Root Mean Squared error = 0.23.\n",
            "Matthews Corrcoef = 0.93.\n",
            "Accuracy = 0.95 with a 0.02 standard deviation\n",
            "                                                          \n",
            "\u001b[1m                 Detailed Accuracy By Class\u001b[0m\n",
            "              precision    recall  f1-score   support\n",
            "\n",
            "         HER       0.88      0.97      0.92        30\n",
            "       basal       0.97      0.90      0.94        41\n",
            "   cell_line       1.00      1.00      1.00        14\n",
            "   luminal_A       0.96      0.93      0.95        29\n",
            "   luminal_B       0.94      0.97      0.95        30\n",
            "      normal       1.00      1.00      1.00         7\n",
            "\n",
            "    accuracy                           0.95       151\n",
            "   macro avg       0.96      0.96      0.96       151\n",
            "weighted avg       0.95      0.95      0.95       151\n",
            "\n"
          ],
          "name": "stdout"
        }
      ]
    },
    {
      "cell_type": "code",
      "metadata": {
        "id": "3d9aSy5-VcAo"
      },
      "source": [
        ""
      ],
      "execution_count": null,
      "outputs": []
    },
    {
      "cell_type": "markdown",
      "metadata": {
        "id": "-VRbGOQafCvv"
      },
      "source": [
        "**Decision Tree 3 fold cross validation - CrossValidation CV=5**"
      ]
    },
    {
      "cell_type": "code",
      "metadata": {
        "id": "gMcRwrztfB8t"
      },
      "source": [
        "from sklearn.model_selection import cross_val_score\n",
        "from sklearn import tree\n",
        "from sklearn.tree import DecisionTreeClassifier\n"
      ],
      "execution_count": null,
      "outputs": []
    },
    {
      "cell_type": "markdown",
      "metadata": {
        "id": "eKw-iGDGmpQE"
      },
      "source": [
        "**criterion** :{“gini”, “entropy”}, default=”gini”\n",
        "The function to measure the quality of a split. Supported criteria are “gini” for the Gini impurity and “entropy” for the information gain.(C4.5 in python and J48 in WEKA)\n",
        "\n",
        "**min_samples_leaf** : int or float, default=1\n",
        "The minimum number of samples required to be at a leaf node. A split point at any depth will only be considered if it leaves at least min_samples_leaf training samples in each of the left and right branches. This may have the effect of smoothing the model, especially in regression.\n",
        "If int, then consider min_samples_leaf as the minimum number.\n",
        "If float, then min_samples_leaf is a fraction and ceil(min_samples_leaf * n_samples) are the minimum number of samples for each node.\n",
        "\n",
        "def __init__(criterion='gini', splitter='best', max_depth=None, min_samples_split=2, min_samples_leaf=1, min_weight_fraction_leaf=0.0, max_features=None, random_state=None, max_leaf_nodes=None, min_impurity_decrease=0.0, min_impurity_split=None, class_weight=None, presort='deprecated', ccp_alpha=0.0)"
      ]
    },
    {
      "cell_type": "code",
      "metadata": {
        "colab": {
          "base_uri": "https://localhost:8080/"
        },
        "id": "WHqbgqlDSsrM",
        "outputId": "86579307-1ad0-4624-c5d3-c7b4adab2a48"
      },
      "source": [
        "#clf_dt = tree.DecisionTreeClassifier(criterion = 'entropy', min_samples_leaf = 2, ccp_alpha = 0.25)\n",
        "clf_dt = tree.DecisionTreeClassifier(criterion = 'entropy', min_samples_leaf = 2)\n",
        "#clf_dt = tree.DecisionTreeClassifier(random_state = 0)\n",
        "scores_dt = cross_val_score(clf_dt, X, y, cv= 5)\n",
        "scores_dt"
      ],
      "execution_count": null,
      "outputs": [
        {
          "output_type": "execute_result",
          "data": {
            "text/plain": [
              "array([0.77419355, 0.83333333, 0.83333333, 0.7       , 0.86666667])"
            ]
          },
          "metadata": {},
          "execution_count": 19
        }
      ]
    },
    {
      "cell_type": "code",
      "metadata": {
        "colab": {
          "base_uri": "https://localhost:8080/"
        },
        "id": "7S4OrcGQ1LL7",
        "outputId": "f4673db0-c819-400a-cb12-e9e6e4dc4823"
      },
      "source": [
        "print(\"%0.2f accuracy with a standard deviation of %0.2f\" % (scores_dt.mean(), scores_dt.std()))"
      ],
      "execution_count": null,
      "outputs": [
        {
          "output_type": "stream",
          "text": [
            "0.80 accuracy with a standard deviation of 0.06\n"
          ],
          "name": "stdout"
        }
      ]
    },
    {
      "cell_type": "code",
      "metadata": {
        "colab": {
          "base_uri": "https://localhost:8080/",
          "height": 352
        },
        "id": "-iMbro2_9JBd",
        "outputId": "81947a41-bed4-4483-b40c-df704c784797"
      },
      "source": [
        "label = [ 'HER','basal','cell_line', 'luminal_A','luminal_B','normal'] \n",
        "y_pred_dt=cross_val_predict(clf_dt, X,y,cv=5)  \n",
        "cm_dt = confusion_matrix(y, y_pred_dt)\n",
        "disp_dt = ConfusionMatrixDisplay(confusion_matrix=cm_dt,display_labels= label)\n",
        "\n",
        "print(\"             Decision Tree Confusion Matrix CV=5      \")\n",
        "disp_dt.plot(xticks_rotation='vertical')"
      ],
      "execution_count": null,
      "outputs": [
        {
          "output_type": "stream",
          "text": [
            "             Decision Tree Confusion Matrix CV=5      \n"
          ],
          "name": "stdout"
        },
        {
          "output_type": "execute_result",
          "data": {
            "text/plain": [
              "<sklearn.metrics._plot.confusion_matrix.ConfusionMatrixDisplay at 0x7ff322614410>"
            ]
          },
          "metadata": {},
          "execution_count": 21
        },
        {
          "output_type": "display_data",
          "data": {
            "image/png": "[encoded data removed]",
            "text/plain": [
              "<Figure size 432x288 with 2 Axes>"
            ]
          },
          "metadata": {
            "needs_background": "light"
          }
        }
      ]
    },
    {
      "cell_type": "code",
      "metadata": {
        "colab": {
          "base_uri": "https://localhost:8080/"
        },
        "id": "umOkBuoM94PE",
        "outputId": "521b81dc-3efe-4096-b2c7-f6cad7717828"
      },
      "source": [
        "print(\"\\033[1m\"  +'      ' +  ' Decison Tree Stratified cross-validation CV=5'  + \"\\033[0m\"    )\n",
        "print(\"                                                          \")\n",
        "print(\"Correctly Classified Instances = {}.\".format(accuracy_score(y, y_pred_dt, normalize=False)))\n",
        "print(\"Percentage of Correctly Classified Instances = {:.2f}.\".format(accuracy_score(y, y_pred_dt,)))\n",
        "print('Kappa statistic= {:.2f}.'. format(cohen_kappa_score(y , y_pred_dt)))\n",
        "print('Mean absolute error = {:.2f}.'. format(mean_absolute_error(y , y_pred_dt, multioutput= 'uniform_average')))\n",
        "print('Root Mean Squared error = {:.2f}.'. format(mean_squared_error (y , y_pred_dt, squared=False)))\n",
        "print('Matthews Corrcoef = {:.2f}.'. format(matthews_corrcoef(y, y_pred_dt)))\n",
        "print(\"Accuracy =% 0.2f with a %0.2f standard deviation\" % (scores_dt.mean(), scores_dt.std()))\n",
        "print(\"                                                          \")\n",
        "print(\"\\033[1m\"  +'                 ' +  'Detailed Accuracy By Class' + \"\\033[0m\" )\n",
        "print(classification_report(y, y_pred_dt, target_names=label ))"
      ],
      "execution_count": null,
      "outputs": [
        {
          "output_type": "stream",
          "text": [
            "\u001b[1m       Decison Tree Stratified cross-validation CV=5\u001b[0m\n",
            "                                                          \n",
            "Correctly Classified Instances = 122.\n",
            "Percentage of Correctly Classified Instances = 0.81.\n",
            "Kappa statistic= 0.76.\n",
            "Mean absolute error = 0.36.\n",
            "Root Mean Squared error = 0.99.\n",
            "Matthews Corrcoef = 0.76.\n",
            "Accuracy = 0.80 with a 0.06 standard deviation\n",
            "                                                          \n",
            "\u001b[1m                 Detailed Accuracy By Class\u001b[0m\n",
            "              precision    recall  f1-score   support\n",
            "\n",
            "         HER       0.81      0.87      0.84        30\n",
            "       basal       0.93      0.90      0.91        41\n",
            "   cell_line       0.82      1.00      0.90        14\n",
            "   luminal_A       0.67      0.83      0.74        29\n",
            "   luminal_B       0.85      0.57      0.68        30\n",
            "      normal       0.67      0.57      0.62         7\n",
            "\n",
            "    accuracy                           0.81       151\n",
            "   macro avg       0.79      0.79      0.78       151\n",
            "weighted avg       0.82      0.81      0.80       151\n",
            "\n"
          ],
          "name": "stdout"
        }
      ]
    },
    {
      "cell_type": "code",
      "metadata": {
        "id": "lEsuGOnL_kII"
      },
      "source": [
        ""
      ],
      "execution_count": null,
      "outputs": []
    },
    {
      "cell_type": "markdown",
      "metadata": {
        "id": "sU0ZwkUnH15u"
      },
      "source": [
        "**Random Forest 3 fold cross validation**"
      ]
    },
    {
      "cell_type": "code",
      "metadata": {
        "id": "lXeTgE3qX1pe"
      },
      "source": [
        " from sklearn.ensemble import RandomForestClassifier"
      ],
      "execution_count": null,
      "outputs": []
    },
    {
      "cell_type": "code",
      "metadata": {
        "colab": {
          "base_uri": "https://localhost:8080/"
        },
        "id": "5XGp4qnaX_Sd",
        "outputId": "314be95d-5c19-44b1-c99d-10d768e0a618"
      },
      "source": [
        "clf_rf = RandomForestClassifier()\n",
        "scores_rf=cross_val_score(clf_rf, X , y, cv=5)\n",
        "scores_rf"
      ],
      "execution_count": null,
      "outputs": [
        {
          "output_type": "execute_result",
          "data": {
            "text/plain": [
              "array([0.96774194, 0.96666667, 0.96666667, 1.        , 0.86666667])"
            ]
          },
          "metadata": {},
          "execution_count": 24
        }
      ]
    },
    {
      "cell_type": "code",
      "metadata": {
        "colab": {
          "base_uri": "https://localhost:8080/"
        },
        "id": "pqYtfmnHYiX-",
        "outputId": "b8d2ccff-e319-4946-e1f1-81f042b750ab"
      },
      "source": [
        "print(\"%0.2f accuracy with a standard deviation of %0.2f\" % (scores_rf.mean(), scores_rf.std()))"
      ],
      "execution_count": null,
      "outputs": [
        {
          "output_type": "stream",
          "text": [
            "0.95 accuracy with a standard deviation of 0.05\n"
          ],
          "name": "stdout"
        }
      ]
    },
    {
      "cell_type": "code",
      "metadata": {
        "colab": {
          "base_uri": "https://localhost:8080/",
          "height": 352
        },
        "id": "vQfyEV5Fcbrs",
        "outputId": "dbe9b958-6bff-42d3-d590-fcdbbb68715e"
      },
      "source": [
        "label = [ 'HER','basal','cell_line', 'luminal_A','luminal_B','normal'] \n",
        "y_pred_rf=cross_val_predict(clf_rf, X,y,cv=5)  \n",
        "cm_rf = confusion_matrix(y, y_pred_rf)\n",
        "disp_rf = ConfusionMatrixDisplay(confusion_matrix=cm_rf,display_labels= label)\n",
        "print(\"             Random Forest Confusion Matrix CV=5     \")\n",
        "disp_rf.plot(xticks_rotation='vertical')"
      ],
      "execution_count": null,
      "outputs": [
        {
          "output_type": "stream",
          "text": [
            "             Random Forest Confusion Matrix CV=5     \n"
          ],
          "name": "stdout"
        },
        {
          "output_type": "execute_result",
          "data": {
            "text/plain": [
              "<sklearn.metrics._plot.confusion_matrix.ConfusionMatrixDisplay at 0x7ff31f939890>"
            ]
          },
          "metadata": {},
          "execution_count": 26
        },
        {
          "output_type": "display_data",
          "data": {
            "image/png": "[encoded data removed]",
            "text/plain": [
              "<Figure size 432x288 with 2 Axes>"
            ]
          },
          "metadata": {
            "needs_background": "light"
          }
        }
      ]
    },
    {
      "cell_type": "code",
      "metadata": {
        "colab": {
          "base_uri": "https://localhost:8080/"
        },
        "id": "UOt1ncocczLP",
        "outputId": "fac1e88e-a26e-42ae-eefa-7ef5a6659b26"
      },
      "source": [
        "print(\"\\033[1m\"  +'      ' +  ' Random Forest Stratified cross-validation CV=5'  + \"\\033[0m\"    )\n",
        "print(\"                                                          \")\n",
        "print(\"Correctly Classified Instances = {}.\".format(accuracy_score(y, y_pred_rf, normalize=False)))\n",
        "print(\"Percentage of Correctly Classified Instances = {:.2f}.\".format(accuracy_score(y, y_pred_rf,)))\n",
        "print('Kappa statistic= {:.2f}.'. format(cohen_kappa_score(y , y_pred_rf)))\n",
        "print('Mean absolute error = {:.2f}.'. format(mean_absolute_error(y , y_pred_rf, multioutput= 'uniform_average')))\n",
        "print('Root Mean Squared error = {:.2f}.'. format(mean_squared_error (y , y_pred_rf, squared=False)))\n",
        "print('Matthews Corrcoef = {:.2f}.'. format(matthews_corrcoef(y, y_pred_rf)))\n",
        "print(\"Accuracy =% 0.2f with a %0.2f standard deviation\" % (scores_rf.mean(), scores_rf.std()))\n",
        "print(\"                                                          \")\n",
        "print(\"\\033[1m\"  +'                 ' +  'Detailed Accuracy By Class' + \"\\033[0m\" )\n",
        "print(classification_report(y, y_pred_rf, target_names=label ))"
      ],
      "execution_count": null,
      "outputs": [
        {
          "output_type": "stream",
          "text": [
            "\u001b[1m       Random Forest Stratified cross-validation CV=5\u001b[0m\n",
            "                                                          \n",
            "Correctly Classified Instances = 141.\n",
            "Percentage of Correctly Classified Instances = 0.93.\n",
            "Kappa statistic= 0.92.\n",
            "Mean absolute error = 0.09.\n",
            "Root Mean Squared error = 0.43.\n",
            "Matthews Corrcoef = 0.92.\n",
            "Accuracy = 0.95 with a 0.05 standard deviation\n",
            "                                                          \n",
            "\u001b[1m                 Detailed Accuracy By Class\u001b[0m\n",
            "              precision    recall  f1-score   support\n",
            "\n",
            "         HER       0.93      0.87      0.90        30\n",
            "       basal       0.93      0.95      0.94        41\n",
            "   cell_line       1.00      1.00      1.00        14\n",
            "   luminal_A       0.90      0.97      0.93        29\n",
            "   luminal_B       0.93      0.93      0.93        30\n",
            "      normal       1.00      0.86      0.92         7\n",
            "\n",
            "    accuracy                           0.93       151\n",
            "   macro avg       0.95      0.93      0.94       151\n",
            "weighted avg       0.93      0.93      0.93       151\n",
            "\n"
          ],
          "name": "stdout"
        }
      ]
    },
    {
      "cell_type": "code",
      "metadata": {
        "id": "xMaO81MLdQTB"
      },
      "source": [
        ""
      ],
      "execution_count": null,
      "outputs": []
    },
    {
      "cell_type": "markdown",
      "metadata": {
        "id": "L0pLrtGzeHL2"
      },
      "source": [
        "**Naive Bayes**"
      ]
    },
    {
      "cell_type": "code",
      "metadata": {
        "id": "PsMR0swqj1FZ"
      },
      "source": [
        "from sklearn.naive_bayes import MultinomialNB"
      ],
      "execution_count": null,
      "outputs": []
    },
    {
      "cell_type": "code",
      "metadata": {
        "colab": {
          "base_uri": "https://localhost:8080/"
        },
        "id": "6UCTKkJai_sL",
        "outputId": "5109e716-78ad-4d5f-c132-c1181510e27a"
      },
      "source": [
        "clf_nb = MultinomialNB()\n",
        "scores_nb=cross_val_score(clf_nb, X , y, cv=5)\n",
        "scores_nb"
      ],
      "execution_count": null,
      "outputs": [
        {
          "output_type": "execute_result",
          "data": {
            "text/plain": [
              "array([1.        , 0.96666667, 0.96666667, 0.9       , 0.83333333])"
            ]
          },
          "metadata": {},
          "execution_count": 29
        }
      ]
    },
    {
      "cell_type": "code",
      "metadata": {
        "colab": {
          "base_uri": "https://localhost:8080/"
        },
        "id": "cDx2GvnKjZkX",
        "outputId": "b1e9de5a-8194-4d61-f376-4d401f9dddc8"
      },
      "source": [
        "print(\"%0.2f accuracy with a standard deviation of %0.2f\" % (scores_nb.mean(), scores_nb.std()))"
      ],
      "execution_count": null,
      "outputs": [
        {
          "output_type": "stream",
          "text": [
            "0.93 accuracy with a standard deviation of 0.06\n"
          ],
          "name": "stdout"
        }
      ]
    },
    {
      "cell_type": "code",
      "metadata": {
        "colab": {
          "base_uri": "https://localhost:8080/",
          "height": 352
        },
        "id": "yaCYA-3wkYE7",
        "outputId": "b120076a-2e8b-4237-d5a8-6a76d1e5b199"
      },
      "source": [
        "label = [ 'HER','basal','cell_line', 'luminal_A','luminal_B','normal'] \n",
        "y_pred_nb=cross_val_predict(clf_nb, X,y,cv=5)  \n",
        "cm_nb = confusion_matrix(y, y_pred_nb)\n",
        "disp_nb = ConfusionMatrixDisplay(confusion_matrix=cm_nb,display_labels= label)\n",
        "\n",
        "print(\"             Naive Bayes Confusion Matrix CV=5   \")\n",
        "disp_nb.plot(xticks_rotation='vertical')"
      ],
      "execution_count": null,
      "outputs": [
        {
          "output_type": "stream",
          "text": [
            "             Naive Bayes Confusion Matrix CV=5   \n"
          ],
          "name": "stdout"
        },
        {
          "output_type": "execute_result",
          "data": {
            "text/plain": [
              "<sklearn.metrics._plot.confusion_matrix.ConfusionMatrixDisplay at 0x7ff31ed67590>"
            ]
          },
          "metadata": {},
          "execution_count": 31
        },
        {
          "output_type": "display_data",
          "data": {
            "image/png": "[encoded data removed]",
            "text/plain": [
              "<Figure size 432x288 with 2 Axes>"
            ]
          },
          "metadata": {
            "needs_background": "light"
          }
        }
      ]
    },
    {
      "cell_type": "code",
      "metadata": {
        "colab": {
          "base_uri": "https://localhost:8080/"
        },
        "id": "oeyUAS9YlCDV",
        "outputId": "5e0478b9-b3b5-4a55-c321-89ff7460bbdc"
      },
      "source": [
        "print(\"\\033[1m\"  +'      ' +  'Naive Bayes Stratified cross-validation  CV=5'  + \"\\033[0m\"    )\n",
        "print(\"                                                          \")\n",
        "print(\"Correctly Classified Instances = {}.\".format(accuracy_score(y, y_pred_nb, normalize=False)))\n",
        "print(\"Percentage of Correctly Classified Instances = {:.2f}.\".format(accuracy_score(y, y_pred_nb,)))\n",
        "print('Kappa statistic= {:.2f}.'. format(cohen_kappa_score(y , y_pred_nb)))\n",
        "print('Mean absolute error = {:.2f}.'. format(mean_absolute_error(y , y_pred_nb, multioutput= 'uniform_average')))\n",
        "print('Root Mean Squared error = {:.2f}.'. format(mean_squared_error (y , y_pred_nb, squared=False)))\n",
        "print('Matthews Corrcoef = {:.2f}.'. format(matthews_corrcoef(y, y_pred_nb)))\n",
        "print(\"Accuracy =% 0.2f with a %0.2f standard deviation\" % (scores_nb.mean(), scores_nb.std()))\n",
        "print(\"                                                          \")\n",
        "print(\"\\033[1m\"  +'                 ' +  'Detailed Accuracy By Class' + \"\\033[0m\" )\n",
        "print(classification_report(y, y_pred_nb, target_names=label ))"
      ],
      "execution_count": null,
      "outputs": [
        {
          "output_type": "stream",
          "text": [
            "\u001b[1m      Naive Bayes Stratified cross-validation  CV=5\u001b[0m\n",
            "                                                          \n",
            "Correctly Classified Instances = 141.\n",
            "Percentage of Correctly Classified Instances = 0.93.\n",
            "Kappa statistic= 0.92.\n",
            "Mean absolute error = 0.09.\n",
            "Root Mean Squared error = 0.41.\n",
            "Matthews Corrcoef = 0.92.\n",
            "Accuracy = 0.93 with a 0.06 standard deviation\n",
            "                                                          \n",
            "\u001b[1m                 Detailed Accuracy By Class\u001b[0m\n",
            "              precision    recall  f1-score   support\n",
            "\n",
            "         HER       0.88      0.93      0.90        30\n",
            "       basal       0.95      0.93      0.94        41\n",
            "   cell_line       1.00      1.00      1.00        14\n",
            "   luminal_A       0.93      0.93      0.93        29\n",
            "   luminal_B       0.93      0.90      0.92        30\n",
            "      normal       1.00      1.00      1.00         7\n",
            "\n",
            "    accuracy                           0.93       151\n",
            "   macro avg       0.95      0.95      0.95       151\n",
            "weighted avg       0.93      0.93      0.93       151\n",
            "\n"
          ],
          "name": "stdout"
        }
      ]
    },
    {
      "cell_type": "code",
      "metadata": {
        "id": "kBaSGyGNlH9f"
      },
      "source": [
        ""
      ],
      "execution_count": null,
      "outputs": []
    },
    {
      "cell_type": "markdown",
      "metadata": {
        "id": "FTZB3wxqljGN"
      },
      "source": [
        "**Multilayer Perceptron**"
      ]
    },
    {
      "cell_type": "markdown",
      "metadata": {
        "id": "cEVr3X3p01qz"
      },
      "source": [
        "def __init__(hidden_layer_sizes=(100,), activation='relu', solver='adam', alpha=0.0001, batch_size='auto', learning_rate='constant', learning_rate_init=0.001, power_t=0.5, max_iter=200, shuffle=True, random_state=None, tol=0.0001, verbose=False, warm_start=False, momentum=0.9, nesterovs_momentum=True, early_stopping=False, validation_fraction=0.1, beta_1=0.9, beta_2=0.999, epsilon=1e-08, n_iter_no_change=10, max_fun=15000)"
      ]
    },
    {
      "cell_type": "code",
      "metadata": {
        "id": "tKb_sYhy06QK"
      },
      "source": [
        "from sklearn.neural_network import MLPClassifier\n"
      ],
      "execution_count": null,
      "outputs": []
    },
    {
      "cell_type": "code",
      "metadata": {
        "colab": {
          "base_uri": "https://localhost:8080/"
        },
        "id": "twTdLndQlsZ_",
        "outputId": "60ce67fe-5245-4724-8d0f-8a279fb31033"
      },
      "source": [
        "model = MLPClassifier(hidden_layer_sizes =(10,), batch_size = 100, learning_rate_init = 0.3, momentum= 0.2, validation_fraction=0,\n",
        "                      activation= 'identity') \n",
        "\n",
        "cv_results = cross_val_score(model, X, y, cv=5 )\n",
        "cv_results"
      ],
      "execution_count": null,
      "outputs": [
        {
          "output_type": "execute_result",
          "data": {
            "text/plain": [
              "array([0.90322581, 0.73333333, 0.93333333, 0.8       , 0.86666667])"
            ]
          },
          "metadata": {},
          "execution_count": 34
        }
      ]
    },
    {
      "cell_type": "code",
      "metadata": {
        "colab": {
          "base_uri": "https://localhost:8080/"
        },
        "id": "OSU1NRl1B75S",
        "outputId": "89404fd6-ed46-4812-fba2-8da1cd34dd11"
      },
      "source": [
        "model"
      ],
      "execution_count": null,
      "outputs": [
        {
          "output_type": "execute_result",
          "data": {
            "text/plain": [
              "MLPClassifier(activation='identity', alpha=0.0001, batch_size=100, beta_1=0.9,\n",
              "              beta_2=0.999, early_stopping=False, epsilon=1e-08,\n",
              "              hidden_layer_sizes=(10,), learning_rate='constant',\n",
              "              learning_rate_init=0.3, max_fun=15000, max_iter=200, momentum=0.2,\n",
              "              n_iter_no_change=10, nesterovs_momentum=True, power_t=0.5,\n",
              "              random_state=None, shuffle=True, solver='adam', tol=0.0001,\n",
              "              validation_fraction=0, verbose=False, warm_start=False)"
            ]
          },
          "metadata": {},
          "execution_count": 35
        }
      ]
    },
    {
      "cell_type": "code",
      "metadata": {
        "colab": {
          "base_uri": "https://localhost:8080/"
        },
        "id": "E_iWvpuT23mC",
        "outputId": "d88f90dc-4a4f-4067-cc54-e4068628f1bd"
      },
      "source": [
        "print(\"%0.2f accuracy with a standard deviation of %0.2f\" % (cv_results.mean(), cv_results.std()))"
      ],
      "execution_count": null,
      "outputs": [
        {
          "output_type": "stream",
          "text": [
            "0.85 accuracy with a standard deviation of 0.07\n"
          ],
          "name": "stdout"
        }
      ]
    },
    {
      "cell_type": "code",
      "metadata": {
        "colab": {
          "base_uri": "https://localhost:8080/",
          "height": 352
        },
        "id": "4RhjrBuZ4Izt",
        "outputId": "a30798db-cac4-4212-c6ba-ff107902b28a"
      },
      "source": [
        "label = [ 'HER','basal','cell_line', 'luminal_A','luminal_B','normal'] \n",
        "\n",
        "y_pred_mlp=cross_val_predict(model, X,y,cv=5)  \n",
        "\n",
        "cm_mlp = confusion_matrix(y, y_pred_mlp)\n",
        "disp_mlp = ConfusionMatrixDisplay(confusion_matrix=cm_mlp,display_labels= label)\n",
        "\n",
        "print(\"             MLP Confusion Matrix  CV=5    \")\n",
        "disp_mlp.plot(xticks_rotation='vertical')"
      ],
      "execution_count": null,
      "outputs": [
        {
          "output_type": "stream",
          "text": [
            "             MLP Confusion Matrix  CV=5    \n"
          ],
          "name": "stdout"
        },
        {
          "output_type": "execute_result",
          "data": {
            "text/plain": [
              "<sklearn.metrics._plot.confusion_matrix.ConfusionMatrixDisplay at 0x7ff3207ff790>"
            ]
          },
          "metadata": {},
          "execution_count": 37
        },
        {
          "output_type": "display_data",
          "data": {
            "image/png": "[encoded data removed]",
            "text/plain": [
              "<Figure size 432x288 with 2 Axes>"
            ]
          },
          "metadata": {
            "needs_background": "light"
          }
        }
      ]
    },
    {
      "cell_type": "code",
      "metadata": {
        "colab": {
          "base_uri": "https://localhost:8080/"
        },
        "id": "riwznbT95ABl",
        "outputId": "c5babd69-0aa2-43de-d8e8-6214fc8672fc"
      },
      "source": [
        "print(\"\\033[1m\"  +'      ' +  'MLP Stratified cross-validation CV=5'  + \"\\033[0m\"    )\n",
        "print(\"                                                          \")\n",
        "print(\"Correctly Classified Instances = {}.\".format(accuracy_score(y, y_pred_mlp, normalize=False)))\n",
        "print(\"Percentage of Correctly Classified Instances = {:.2f}.\".format(accuracy_score(y, y_pred_mlp,)))\n",
        "print('Kappa statistic= {:.2f}.'. format(cohen_kappa_score(y , y_pred_mlp)))\n",
        "print('Mean absolute error = {:.2f}.'. format(mean_absolute_error(y , y_pred_mlp, multioutput= 'uniform_average')))\n",
        "print('Root Mean Squared error = {:.2f}.'. format(mean_squared_error (y , y_pred_mlp, squared=False)))\n",
        "print('Matthews Corrcoef = {:.2f}.'. format(matthews_corrcoef(y, y_pred_mlp)))\n",
        "print(\"Accuracy =% 0.2f with a %0.2f standard deviation\" % (cv_results.mean(), cv_results.std()))\n",
        "print(\"                                                          \")\n",
        "print(\"\\033[1m\"  +'                 ' +  'Detailed Accuracy By Class' + \"\\033[0m\" )\n",
        "print(classification_report(y, y_pred_mlp, target_names=label ))"
      ],
      "execution_count": null,
      "outputs": [
        {
          "output_type": "stream",
          "text": [
            "\u001b[1m      MLP Stratified cross-validation CV=5\u001b[0m\n",
            "                                                          \n",
            "Correctly Classified Instances = 134.\n",
            "Percentage of Correctly Classified Instances = 0.89.\n",
            "Kappa statistic= 0.86.\n",
            "Mean absolute error = 0.22.\n",
            "Root Mean Squared error = 0.79.\n",
            "Matthews Corrcoef = 0.86.\n",
            "Accuracy = 0.85 with a 0.07 standard deviation\n",
            "                                                          \n",
            "\u001b[1m                 Detailed Accuracy By Class\u001b[0m\n",
            "              precision    recall  f1-score   support\n",
            "\n",
            "         HER       0.81      0.73      0.77        30\n",
            "       basal       0.89      0.95      0.92        41\n",
            "   cell_line       1.00      0.93      0.96        14\n",
            "   luminal_A       0.93      0.93      0.93        29\n",
            "   luminal_B       0.84      0.87      0.85        30\n",
            "      normal       1.00      1.00      1.00         7\n",
            "\n",
            "    accuracy                           0.89       151\n",
            "   macro avg       0.91      0.90      0.91       151\n",
            "weighted avg       0.89      0.89      0.89       151\n",
            "\n"
          ],
          "name": "stdout"
        }
      ]
    },
    {
      "cell_type": "markdown",
      "metadata": {
        "id": "CRBujHHWltOj"
      },
      "source": [
        "**K-Nearest Neighbour**"
      ]
    },
    {
      "cell_type": "markdown",
      "metadata": {
        "id": "hCJQei42OFql"
      },
      "source": [
        "KNeighborsClassifier(algorithm='brute', leaf_size=30, metric='minkowski',\n",
        "                     metric_params=None, n_jobs=None, n_neighbors=1, p=2,\n",
        "                     weights='uniform')"
      ]
    },
    {
      "cell_type": "code",
      "metadata": {
        "id": "J_-vectWlyoH"
      },
      "source": [
        "from sklearn.neighbors import KNeighborsClassifier"
      ],
      "execution_count": null,
      "outputs": []
    },
    {
      "cell_type": "code",
      "metadata": {
        "colab": {
          "base_uri": "https://localhost:8080/"
        },
        "id": "SUjFEQnbKzfH",
        "outputId": "8805d1b3-efa9-4b78-ceab-bc89c72f6043"
      },
      "source": [
        "neigh = KNeighborsClassifier(n_neighbors=5, algorithm= 'brute')\n",
        "#neigh.fit(X, y)\n",
        "scores_knn=cross_val_score(neigh, X , y, cv=5)\n",
        "scores_knn"
      ],
      "execution_count": null,
      "outputs": [
        {
          "output_type": "execute_result",
          "data": {
            "text/plain": [
              "array([0.93548387, 0.83333333, 0.9       , 0.8       , 0.83333333])"
            ]
          },
          "metadata": {},
          "execution_count": 40
        }
      ]
    },
    {
      "cell_type": "code",
      "metadata": {
        "colab": {
          "base_uri": "https://localhost:8080/"
        },
        "id": "zhEpvrDtcrCL",
        "outputId": "27798ac5-01de-43a0-ffcd-2a7ef5e6925e"
      },
      "source": [
        "neigh"
      ],
      "execution_count": null,
      "outputs": [
        {
          "output_type": "execute_result",
          "data": {
            "text/plain": [
              "KNeighborsClassifier(algorithm='brute', leaf_size=30, metric='minkowski',\n",
              "                     metric_params=None, n_jobs=None, n_neighbors=5, p=2,\n",
              "                     weights='uniform')"
            ]
          },
          "metadata": {},
          "execution_count": 41
        }
      ]
    },
    {
      "cell_type": "code",
      "metadata": {
        "colab": {
          "base_uri": "https://localhost:8080/"
        },
        "id": "uCMjFqqkPj_a",
        "outputId": "d4cea659-ba46-47ba-c375-12e713773a32"
      },
      "source": [
        "print(\"%0.2f accuracy with a standard deviation of %0.2f\" % (scores_knn.mean(), scores_knn.std()))\n"
      ],
      "execution_count": null,
      "outputs": [
        {
          "output_type": "stream",
          "text": [
            "0.86 accuracy with a standard deviation of 0.05\n"
          ],
          "name": "stdout"
        }
      ]
    },
    {
      "cell_type": "code",
      "metadata": {
        "colab": {
          "base_uri": "https://localhost:8080/",
          "height": 352
        },
        "id": "ihDG_4iuSDA1",
        "outputId": "831c912f-ff9a-4cfe-c2f1-84581ff6fbce"
      },
      "source": [
        "label = [ 'HER','basal','cell_line', 'luminal_A','luminal_B','normal'] \n",
        "\n",
        "y_pred_knn=cross_val_predict(neigh, X,y,cv=5)\n",
        "  \n",
        "cm_knn = confusion_matrix(y, y_pred_knn)\n",
        "disp_knn = ConfusionMatrixDisplay(confusion_matrix=cm_knn,display_labels= label)\n",
        "\n",
        "print(\"             k-NN Confusion Matrix CV=5       \")\n",
        "disp_knn.plot(xticks_rotation='vertical')"
      ],
      "execution_count": null,
      "outputs": [
        {
          "output_type": "stream",
          "text": [
            "             k-NN Confusion Matrix CV=5       \n"
          ],
          "name": "stdout"
        },
        {
          "output_type": "execute_result",
          "data": {
            "text/plain": [
              "<sklearn.metrics._plot.confusion_matrix.ConfusionMatrixDisplay at 0x7ff31f8fe2d0>"
            ]
          },
          "metadata": {},
          "execution_count": 43
        },
        {
          "output_type": "display_data",
          "data": {
            "image/png": "[encoded data removed]",
            "text/plain": [
              "<Figure size 432x288 with 2 Axes>"
            ]
          },
          "metadata": {
            "needs_background": "light"
          }
        }
      ]
    },
    {
      "cell_type": "code",
      "metadata": {
        "colab": {
          "base_uri": "https://localhost:8080/"
        },
        "id": "hdQCpzEHVEQz",
        "outputId": "addc1870-a74b-48d2-8949-1936aec5604c"
      },
      "source": [
        "print(\"\\033[1m\"  +'      ' +  'k-NN Stratified cross-validation  CV=5'  + \"\\033[0m\"    )\n",
        "print(\"                                                          \")\n",
        "print(\"Correctly Classified Instances = {}.\".format(accuracy_score(y, y_pred_knn, normalize=False)))\n",
        "print(\"Percentage of Correctly Classified Instances = {:.2f}.\".format(accuracy_score(y, y_pred_knn,)))\n",
        "print('Kappa statistic= {:.2f}.'. format(cohen_kappa_score(y , y_pred_knn)))\n",
        "print('Mean absolute error = {:.2f}.'. format(mean_absolute_error(y , y_pred_knn, multioutput= 'uniform_average')))\n",
        "print('Root Mean Squared error = {:.2f}.'. format(mean_squared_error (y , y_pred_knn, squared=False)))\n",
        "print('Matthews Corrcoef = {:.2f}.'. format(matthews_corrcoef(y, y_pred_knn)))\n",
        "print(\"Accuracy =% 0.2f with a %0.2f standard deviation\" % (scores_knn.mean(), scores_knn.std()))\n",
        "print(\"                                                          \")\n",
        "print(\"\\033[1m\"  +'                 ' +  'Detailed Accuracy By Class' + \"\\033[0m\" )\n",
        "print(classification_report(y, y_pred_knn, target_names=label ))"
      ],
      "execution_count": null,
      "outputs": [
        {
          "output_type": "stream",
          "text": [
            "\u001b[1m      k-NN Stratified cross-validation  CV=5\u001b[0m\n",
            "                                                          \n",
            "Correctly Classified Instances = 130.\n",
            "Percentage of Correctly Classified Instances = 0.86.\n",
            "Kappa statistic= 0.83.\n",
            "Mean absolute error = 0.16.\n",
            "Root Mean Squared error = 0.49.\n",
            "Matthews Corrcoef = 0.84.\n",
            "Accuracy = 0.86 with a 0.05 standard deviation\n",
            "                                                          \n",
            "\u001b[1m                 Detailed Accuracy By Class\u001b[0m\n",
            "              precision    recall  f1-score   support\n",
            "\n",
            "         HER       0.85      0.93      0.89        30\n",
            "       basal       0.97      0.88      0.92        41\n",
            "   cell_line       1.00      1.00      1.00        14\n",
            "   luminal_A       0.67      1.00      0.81        29\n",
            "   luminal_B       0.94      0.53      0.68        30\n",
            "      normal       1.00      1.00      1.00         7\n",
            "\n",
            "    accuracy                           0.86       151\n",
            "   macro avg       0.91      0.89      0.88       151\n",
            "weighted avg       0.89      0.86      0.86       151\n",
            "\n"
          ],
          "name": "stdout"
        }
      ]
    },
    {
      "cell_type": "code",
      "metadata": {
        "id": "0k-X4Wg_VE_J"
      },
      "source": [
        ""
      ],
      "execution_count": null,
      "outputs": []
    }
  ]
}