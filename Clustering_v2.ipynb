{
  "nbformat": 4,
  "nbformat_minor": 0,
  "metadata": {
    "colab": {
      "name": " Clustering_v2.ipynb",
      "provenance": [],
      "collapsed_sections": [],
      "authorship_tag": "ABX9TyNMHaiIuplh49yryQudZ+cR",
      "include_colab_link": true
    },
    "kernelspec": {
      "name": "python3",
      "display_name": "Python 3"
    },
    "language_info": {
      "name": "python"
    }
  },
  "cells": [
    {
      "cell_type": "markdown",
      "metadata": {
        "id": "view-in-github",
        "colab_type": "text"
      },
      "source": [
        "<a href=\"https://colab.research.google.com/github/DaniSumaili/7048CEM/blob/main/Clustering_v2.ipynb\" target=\"_parent\"><img src=\"https://colab.research.google.com/assets/colab-badge.svg\" alt=\"Open In Colab\"/></a>"
      ]
    },
    {
      "cell_type": "code",
      "metadata": {
        "id": "BuPmZB9PHf0w"
      },
      "source": [
        "# Import all the libraries that we shall be using\n",
        "import numpy as np\n",
        "import pandas as pd\n",
        "\n",
        "import matplotlib.pyplot as plt\n",
        "import seaborn as sns\n",
        "from mpl_toolkits.mplot3d import Axes3D\n",
        "%matplotlib inline\n",
        "\n",
        "from sklearn.preprocessing import StandardScaler\n",
        "from sklearn.decomposition import PCA\n",
        "from sklearn.model_selection import GridSearchCV, cross_val_score\n",
        "from sklearn.metrics import accuracy_score, confusion_matrix\n",
        "from sklearn.cluster import KMeans\n",
        "\n",
        "from sklearn.metrics import matthews_corrcoef,cohen_kappa_score, mean_absolute_error,mean_squared_error "
      ],
      "execution_count": null,
      "outputs": []
    },
    {
      "cell_type": "code",
      "metadata": {
        "id": "wC48XmXbZkWU"
      },
      "source": [
        "import warnings\n",
        "warnings.filterwarnings(\"ignore\")"
      ],
      "execution_count": null,
      "outputs": []
    },
    {
      "cell_type": "code",
      "metadata": {
        "colab": {
          "base_uri": "https://localhost:8080/"
        },
        "id": "XFgHWb4EZlec",
        "outputId": "92a583bb-7c2e-44c0-92cd-071aea81e9dd"
      },
      "source": [
        "from google.colab import drive\n",
        "drive.mount('/content/drive')"
      ],
      "execution_count": null,
      "outputs": [
        {
          "output_type": "stream",
          "text": [
            "Mounted at /content/drive\n"
          ],
          "name": "stdout"
        }
      ]
    },
    {
      "cell_type": "code",
      "metadata": {
        "id": "IntbH0P4qwPw"
      },
      "source": [
        ""
      ],
      "execution_count": null,
      "outputs": []
    },
    {
      "cell_type": "code",
      "metadata": {
        "colab": {
          "base_uri": "https://localhost:8080/",
          "height": 304
        },
        "id": "kORrWB2iZo9p",
        "outputId": "d97c1d19-055e-41f1-bea2-f59e9ea5ae73"
      },
      "source": [
        "breastdata = pd.read_csv('/content/drive/My Drive/BreastCancer/Breast_GSE45827.csv')\n",
        "breastdata.head()"
      ],
      "execution_count": null,
      "outputs": [
        {
          "output_type": "execute_result",
          "data": {
            "text/html": [
              "<div>\n",
              "<style scoped>\n",
              "    .dataframe tbody tr th:only-of-type {\n",
              "        vertical-align: middle;\n",
              "    }\n",
              "\n",
              "    .dataframe tbody tr th {\n",
              "        vertical-align: top;\n",
              "    }\n",
              "\n",
              "    .dataframe thead th {\n",
              "        text-align: right;\n",
              "    }\n",
              "</style>\n",
              "<table border=\"1\" class=\"dataframe\">\n",
              "  <thead>\n",
              "    <tr style=\"text-align: right;\">\n",
              "      <th></th>\n",
              "      <th>samples</th>\n",
              "      <th>type</th>\n",
              "      <th>1007_s_at</th>\n",
              "      <th>1053_at</th>\n",
              "      <th>117_at</th>\n",
              "      <th>121_at</th>\n",
              "      <th>1255_g_at</th>\n",
              "      <th>1294_at</th>\n",
              "      <th>1316_at</th>\n",
              "      <th>1320_at</th>\n",
              "      <th>1405_i_at</th>\n",
              "      <th>1431_at</th>\n",
              "      <th>1438_at</th>\n",
              "      <th>1487_at</th>\n",
              "      <th>1494_f_at</th>\n",
              "      <th>1552256_a_at</th>\n",
              "      <th>1552257_a_at</th>\n",
              "      <th>1552258_at</th>\n",
              "      <th>1552261_at</th>\n",
              "      <th>1552263_at</th>\n",
              "      <th>1552264_a_at</th>\n",
              "      <th>1552266_at</th>\n",
              "      <th>1552269_at</th>\n",
              "      <th>1552271_at</th>\n",
              "      <th>1552272_a_at</th>\n",
              "      <th>1552274_at</th>\n",
              "      <th>1552275_s_at</th>\n",
              "      <th>1552276_a_at</th>\n",
              "      <th>1552277_a_at</th>\n",
              "      <th>1552278_a_at</th>\n",
              "      <th>1552279_a_at</th>\n",
              "      <th>1552280_at</th>\n",
              "      <th>1552281_at</th>\n",
              "      <th>1552283_s_at</th>\n",
              "      <th>1552286_at</th>\n",
              "      <th>1552287_s_at</th>\n",
              "      <th>1552288_at</th>\n",
              "      <th>1552289_a_at</th>\n",
              "      <th>1552291_at</th>\n",
              "      <th>1552293_at</th>\n",
              "      <th>...</th>\n",
              "      <th>AFFX-HUMISGF3A/M97935_MB_at</th>\n",
              "      <th>AFFX-HUMRGE/M10098_3_at</th>\n",
              "      <th>AFFX-HUMRGE/M10098_5_at</th>\n",
              "      <th>AFFX-HUMRGE/M10098_M_at</th>\n",
              "      <th>AFFX-LysX-3_at</th>\n",
              "      <th>AFFX-LysX-5_at</th>\n",
              "      <th>AFFX-LysX-M_at</th>\n",
              "      <th>AFFX-M27830_3_at</th>\n",
              "      <th>AFFX-M27830_5_at</th>\n",
              "      <th>AFFX-M27830_M_at</th>\n",
              "      <th>AFFX-PheX-3_at</th>\n",
              "      <th>AFFX-PheX-5_at</th>\n",
              "      <th>AFFX-PheX-M_at</th>\n",
              "      <th>AFFX-r2-Bs-dap-3_at</th>\n",
              "      <th>AFFX-r2-Bs-dap-5_at</th>\n",
              "      <th>AFFX-r2-Bs-dap-M_at</th>\n",
              "      <th>AFFX-r2-Bs-lys-3_at</th>\n",
              "      <th>AFFX-r2-Bs-lys-5_at</th>\n",
              "      <th>AFFX-r2-Bs-lys-M_at</th>\n",
              "      <th>AFFX-r2-Bs-phe-3_at</th>\n",
              "      <th>AFFX-r2-Bs-phe-5_at</th>\n",
              "      <th>AFFX-r2-Bs-phe-M_at</th>\n",
              "      <th>AFFX-r2-Bs-thr-3_s_at</th>\n",
              "      <th>AFFX-r2-Bs-thr-5_s_at</th>\n",
              "      <th>AFFX-r2-Bs-thr-M_s_at</th>\n",
              "      <th>AFFX-r2-Ec-bioB-3_at</th>\n",
              "      <th>AFFX-r2-Ec-bioB-5_at</th>\n",
              "      <th>AFFX-r2-Ec-bioB-M_at</th>\n",
              "      <th>AFFX-r2-Ec-bioC-3_at</th>\n",
              "      <th>AFFX-r2-Ec-bioC-5_at</th>\n",
              "      <th>AFFX-r2-Ec-bioD-3_at</th>\n",
              "      <th>AFFX-r2-Ec-bioD-5_at</th>\n",
              "      <th>AFFX-r2-P1-cre-3_at</th>\n",
              "      <th>AFFX-r2-P1-cre-5_at</th>\n",
              "      <th>AFFX-ThrX-3_at</th>\n",
              "      <th>AFFX-ThrX-5_at</th>\n",
              "      <th>AFFX-ThrX-M_at</th>\n",
              "      <th>AFFX-TrpnX-3_at</th>\n",
              "      <th>AFFX-TrpnX-5_at</th>\n",
              "      <th>AFFX-TrpnX-M_at</th>\n",
              "    </tr>\n",
              "  </thead>\n",
              "  <tbody>\n",
              "    <tr>\n",
              "      <th>0</th>\n",
              "      <td>84</td>\n",
              "      <td>basal</td>\n",
              "      <td>9.850040</td>\n",
              "      <td>8.097927</td>\n",
              "      <td>6.424728</td>\n",
              "      <td>7.353027</td>\n",
              "      <td>3.029122</td>\n",
              "      <td>6.880079</td>\n",
              "      <td>4.963740</td>\n",
              "      <td>4.408328</td>\n",
              "      <td>8.870780</td>\n",
              "      <td>3.278896</td>\n",
              "      <td>7.317273</td>\n",
              "      <td>6.941792</td>\n",
              "      <td>4.753893</td>\n",
              "      <td>9.689422</td>\n",
              "      <td>9.529578</td>\n",
              "      <td>4.416768</td>\n",
              "      <td>4.061347</td>\n",
              "      <td>6.468291</td>\n",
              "      <td>8.671009</td>\n",
              "      <td>3.766666</td>\n",
              "      <td>3.711459</td>\n",
              "      <td>5.076329</td>\n",
              "      <td>4.442042</td>\n",
              "      <td>6.741298</td>\n",
              "      <td>5.627442</td>\n",
              "      <td>5.516712</td>\n",
              "      <td>8.107136</td>\n",
              "      <td>4.956239</td>\n",
              "      <td>5.791279</td>\n",
              "      <td>3.569233</td>\n",
              "      <td>5.687476</td>\n",
              "      <td>4.152096</td>\n",
              "      <td>4.906925</td>\n",
              "      <td>8.206707</td>\n",
              "      <td>4.463950</td>\n",
              "      <td>5.186044</td>\n",
              "      <td>5.942088</td>\n",
              "      <td>4.191142</td>\n",
              "      <td>...</td>\n",
              "      <td>9.015007</td>\n",
              "      <td>12.050521</td>\n",
              "      <td>14.750905</td>\n",
              "      <td>13.359472</td>\n",
              "      <td>5.576968</td>\n",
              "      <td>3.606041</td>\n",
              "      <td>4.481027</td>\n",
              "      <td>5.509117</td>\n",
              "      <td>10.544533</td>\n",
              "      <td>11.200692</td>\n",
              "      <td>5.932332</td>\n",
              "      <td>4.253946</td>\n",
              "      <td>5.052679</td>\n",
              "      <td>7.782348</td>\n",
              "      <td>7.056759</td>\n",
              "      <td>7.787824</td>\n",
              "      <td>4.784976</td>\n",
              "      <td>3.943038</td>\n",
              "      <td>3.903069</td>\n",
              "      <td>6.119248</td>\n",
              "      <td>4.461984</td>\n",
              "      <td>4.752744</td>\n",
              "      <td>6.761262</td>\n",
              "      <td>5.298281</td>\n",
              "      <td>6.048960</td>\n",
              "      <td>8.292124</td>\n",
              "      <td>8.225293</td>\n",
              "      <td>8.333853</td>\n",
              "      <td>9.854639</td>\n",
              "      <td>9.823275</td>\n",
              "      <td>12.229711</td>\n",
              "      <td>11.852955</td>\n",
              "      <td>13.658701</td>\n",
              "      <td>13.477698</td>\n",
              "      <td>6.265781</td>\n",
              "      <td>5.016196</td>\n",
              "      <td>4.901594</td>\n",
              "      <td>2.966657</td>\n",
              "      <td>3.508495</td>\n",
              "      <td>3.301999</td>\n",
              "    </tr>\n",
              "    <tr>\n",
              "      <th>1</th>\n",
              "      <td>85</td>\n",
              "      <td>basal</td>\n",
              "      <td>9.861357</td>\n",
              "      <td>8.212222</td>\n",
              "      <td>7.062593</td>\n",
              "      <td>7.685578</td>\n",
              "      <td>3.149468</td>\n",
              "      <td>7.542283</td>\n",
              "      <td>5.129607</td>\n",
              "      <td>4.584418</td>\n",
              "      <td>7.767646</td>\n",
              "      <td>3.589636</td>\n",
              "      <td>8.768129</td>\n",
              "      <td>7.567034</td>\n",
              "      <td>4.859823</td>\n",
              "      <td>8.459354</td>\n",
              "      <td>8.973671</td>\n",
              "      <td>4.503730</td>\n",
              "      <td>5.390424</td>\n",
              "      <td>6.756707</td>\n",
              "      <td>8.105795</td>\n",
              "      <td>4.651541</td>\n",
              "      <td>3.935309</td>\n",
              "      <td>5.228763</td>\n",
              "      <td>4.454780</td>\n",
              "      <td>6.468014</td>\n",
              "      <td>5.798596</td>\n",
              "      <td>5.306064</td>\n",
              "      <td>7.505800</td>\n",
              "      <td>4.636866</td>\n",
              "      <td>5.898319</td>\n",
              "      <td>3.749061</td>\n",
              "      <td>5.582313</td>\n",
              "      <td>4.449042</td>\n",
              "      <td>5.871074</td>\n",
              "      <td>7.242601</td>\n",
              "      <td>3.938327</td>\n",
              "      <td>4.378953</td>\n",
              "      <td>6.294126</td>\n",
              "      <td>4.058221</td>\n",
              "      <td>...</td>\n",
              "      <td>9.371174</td>\n",
              "      <td>8.264719</td>\n",
              "      <td>9.938357</td>\n",
              "      <td>9.507651</td>\n",
              "      <td>6.103962</td>\n",
              "      <td>3.983087</td>\n",
              "      <td>4.742306</td>\n",
              "      <td>5.424172</td>\n",
              "      <td>8.881772</td>\n",
              "      <td>11.148811</td>\n",
              "      <td>6.330691</td>\n",
              "      <td>4.755615</td>\n",
              "      <td>5.474167</td>\n",
              "      <td>8.542725</td>\n",
              "      <td>7.617779</td>\n",
              "      <td>8.237535</td>\n",
              "      <td>5.209694</td>\n",
              "      <td>3.939264</td>\n",
              "      <td>4.553344</td>\n",
              "      <td>6.017351</td>\n",
              "      <td>5.425393</td>\n",
              "      <td>4.957182</td>\n",
              "      <td>7.405313</td>\n",
              "      <td>5.615380</td>\n",
              "      <td>6.617585</td>\n",
              "      <td>8.225366</td>\n",
              "      <td>8.409790</td>\n",
              "      <td>8.499343</td>\n",
              "      <td>10.061910</td>\n",
              "      <td>9.796947</td>\n",
              "      <td>12.178531</td>\n",
              "      <td>11.809408</td>\n",
              "      <td>13.750086</td>\n",
              "      <td>13.470146</td>\n",
              "      <td>6.771853</td>\n",
              "      <td>5.291005</td>\n",
              "      <td>5.405839</td>\n",
              "      <td>2.934763</td>\n",
              "      <td>3.687666</td>\n",
              "      <td>3.064299</td>\n",
              "    </tr>\n",
              "    <tr>\n",
              "      <th>2</th>\n",
              "      <td>87</td>\n",
              "      <td>basal</td>\n",
              "      <td>10.103478</td>\n",
              "      <td>8.936137</td>\n",
              "      <td>5.735970</td>\n",
              "      <td>7.687822</td>\n",
              "      <td>3.125931</td>\n",
              "      <td>6.562369</td>\n",
              "      <td>4.813449</td>\n",
              "      <td>4.425195</td>\n",
              "      <td>9.417956</td>\n",
              "      <td>3.552253</td>\n",
              "      <td>7.945085</td>\n",
              "      <td>7.238284</td>\n",
              "      <td>4.872635</td>\n",
              "      <td>9.367521</td>\n",
              "      <td>9.133688</td>\n",
              "      <td>4.358608</td>\n",
              "      <td>4.445164</td>\n",
              "      <td>5.476936</td>\n",
              "      <td>8.752115</td>\n",
              "      <td>3.546838</td>\n",
              "      <td>4.263868</td>\n",
              "      <td>5.509159</td>\n",
              "      <td>4.624205</td>\n",
              "      <td>7.103216</td>\n",
              "      <td>6.641263</td>\n",
              "      <td>5.141131</td>\n",
              "      <td>7.072525</td>\n",
              "      <td>4.728196</td>\n",
              "      <td>6.233648</td>\n",
              "      <td>3.766725</td>\n",
              "      <td>6.008163</td>\n",
              "      <td>4.191390</td>\n",
              "      <td>5.717077</td>\n",
              "      <td>7.809222</td>\n",
              "      <td>4.108028</td>\n",
              "      <td>5.012451</td>\n",
              "      <td>7.258626</td>\n",
              "      <td>4.330997</td>\n",
              "      <td>...</td>\n",
              "      <td>8.842430</td>\n",
              "      <td>10.241912</td>\n",
              "      <td>13.605901</td>\n",
              "      <td>11.784269</td>\n",
              "      <td>5.853014</td>\n",
              "      <td>3.748889</td>\n",
              "      <td>4.407490</td>\n",
              "      <td>5.919699</td>\n",
              "      <td>9.687444</td>\n",
              "      <td>11.601339</td>\n",
              "      <td>6.040000</td>\n",
              "      <td>4.314678</td>\n",
              "      <td>5.274790</td>\n",
              "      <td>8.030696</td>\n",
              "      <td>7.082369</td>\n",
              "      <td>7.912491</td>\n",
              "      <td>4.725483</td>\n",
              "      <td>4.036020</td>\n",
              "      <td>4.141341</td>\n",
              "      <td>5.825904</td>\n",
              "      <td>5.032693</td>\n",
              "      <td>4.764559</td>\n",
              "      <td>7.026349</td>\n",
              "      <td>5.448507</td>\n",
              "      <td>6.386042</td>\n",
              "      <td>8.218749</td>\n",
              "      <td>8.209361</td>\n",
              "      <td>8.280136</td>\n",
              "      <td>9.699647</td>\n",
              "      <td>9.452066</td>\n",
              "      <td>12.125108</td>\n",
              "      <td>11.725766</td>\n",
              "      <td>13.621732</td>\n",
              "      <td>13.295080</td>\n",
              "      <td>6.346952</td>\n",
              "      <td>5.171403</td>\n",
              "      <td>5.184286</td>\n",
              "      <td>2.847684</td>\n",
              "      <td>3.550597</td>\n",
              "      <td>3.158535</td>\n",
              "    </tr>\n",
              "    <tr>\n",
              "      <th>3</th>\n",
              "      <td>90</td>\n",
              "      <td>basal</td>\n",
              "      <td>9.756875</td>\n",
              "      <td>7.357148</td>\n",
              "      <td>6.479183</td>\n",
              "      <td>6.986624</td>\n",
              "      <td>3.181638</td>\n",
              "      <td>7.802344</td>\n",
              "      <td>5.490982</td>\n",
              "      <td>4.567956</td>\n",
              "      <td>9.022345</td>\n",
              "      <td>3.312473</td>\n",
              "      <td>7.754670</td>\n",
              "      <td>7.078843</td>\n",
              "      <td>4.867320</td>\n",
              "      <td>7.790225</td>\n",
              "      <td>7.206228</td>\n",
              "      <td>4.680283</td>\n",
              "      <td>4.171577</td>\n",
              "      <td>5.985232</td>\n",
              "      <td>7.205984</td>\n",
              "      <td>3.568459</td>\n",
              "      <td>3.310109</td>\n",
              "      <td>5.166409</td>\n",
              "      <td>4.160049</td>\n",
              "      <td>6.730255</td>\n",
              "      <td>5.774961</td>\n",
              "      <td>6.092539</td>\n",
              "      <td>7.164589</td>\n",
              "      <td>4.903609</td>\n",
              "      <td>5.726683</td>\n",
              "      <td>3.532517</td>\n",
              "      <td>5.652934</td>\n",
              "      <td>3.997426</td>\n",
              "      <td>6.151148</td>\n",
              "      <td>7.189197</td>\n",
              "      <td>4.329053</td>\n",
              "      <td>5.134634</td>\n",
              "      <td>6.300199</td>\n",
              "      <td>4.192591</td>\n",
              "      <td>...</td>\n",
              "      <td>10.554449</td>\n",
              "      <td>9.191622</td>\n",
              "      <td>12.146083</td>\n",
              "      <td>11.018158</td>\n",
              "      <td>5.972863</td>\n",
              "      <td>3.658838</td>\n",
              "      <td>4.657377</td>\n",
              "      <td>5.508931</td>\n",
              "      <td>9.262102</td>\n",
              "      <td>11.338670</td>\n",
              "      <td>6.194179</td>\n",
              "      <td>4.300024</td>\n",
              "      <td>5.072087</td>\n",
              "      <td>8.148625</td>\n",
              "      <td>7.548858</td>\n",
              "      <td>7.960282</td>\n",
              "      <td>5.226375</td>\n",
              "      <td>3.562438</td>\n",
              "      <td>4.306947</td>\n",
              "      <td>5.979139</td>\n",
              "      <td>5.018239</td>\n",
              "      <td>4.872679</td>\n",
              "      <td>7.066764</td>\n",
              "      <td>5.573531</td>\n",
              "      <td>6.637775</td>\n",
              "      <td>8.183538</td>\n",
              "      <td>8.307374</td>\n",
              "      <td>8.233631</td>\n",
              "      <td>9.911691</td>\n",
              "      <td>9.611842</td>\n",
              "      <td>12.111235</td>\n",
              "      <td>11.719215</td>\n",
              "      <td>13.743108</td>\n",
              "      <td>13.508861</td>\n",
              "      <td>6.610284</td>\n",
              "      <td>5.193356</td>\n",
              "      <td>5.086569</td>\n",
              "      <td>3.031602</td>\n",
              "      <td>3.524981</td>\n",
              "      <td>3.272665</td>\n",
              "    </tr>\n",
              "    <tr>\n",
              "      <th>4</th>\n",
              "      <td>91</td>\n",
              "      <td>basal</td>\n",
              "      <td>9.408330</td>\n",
              "      <td>7.746404</td>\n",
              "      <td>6.693980</td>\n",
              "      <td>7.333426</td>\n",
              "      <td>3.169923</td>\n",
              "      <td>7.610457</td>\n",
              "      <td>5.372469</td>\n",
              "      <td>4.424426</td>\n",
              "      <td>9.400056</td>\n",
              "      <td>3.368243</td>\n",
              "      <td>9.052192</td>\n",
              "      <td>6.889370</td>\n",
              "      <td>4.939912</td>\n",
              "      <td>8.432573</td>\n",
              "      <td>9.240390</td>\n",
              "      <td>4.689763</td>\n",
              "      <td>4.224431</td>\n",
              "      <td>6.386138</td>\n",
              "      <td>7.732480</td>\n",
              "      <td>4.233807</td>\n",
              "      <td>4.392973</td>\n",
              "      <td>5.265164</td>\n",
              "      <td>4.161808</td>\n",
              "      <td>6.984456</td>\n",
              "      <td>6.219122</td>\n",
              "      <td>5.187331</td>\n",
              "      <td>8.225413</td>\n",
              "      <td>5.238370</td>\n",
              "      <td>6.165456</td>\n",
              "      <td>3.500029</td>\n",
              "      <td>5.694598</td>\n",
              "      <td>4.298906</td>\n",
              "      <td>5.211584</td>\n",
              "      <td>7.708507</td>\n",
              "      <td>4.991938</td>\n",
              "      <td>5.860185</td>\n",
              "      <td>6.217526</td>\n",
              "      <td>3.997529</td>\n",
              "      <td>...</td>\n",
              "      <td>9.660223</td>\n",
              "      <td>11.501202</td>\n",
              "      <td>12.598456</td>\n",
              "      <td>11.611006</td>\n",
              "      <td>5.763398</td>\n",
              "      <td>3.517613</td>\n",
              "      <td>4.514921</td>\n",
              "      <td>5.498137</td>\n",
              "      <td>9.336550</td>\n",
              "      <td>11.446506</td>\n",
              "      <td>6.072134</td>\n",
              "      <td>4.312846</td>\n",
              "      <td>5.167958</td>\n",
              "      <td>8.179727</td>\n",
              "      <td>7.501891</td>\n",
              "      <td>7.931099</td>\n",
              "      <td>4.897629</td>\n",
              "      <td>3.710210</td>\n",
              "      <td>3.953584</td>\n",
              "      <td>5.928464</td>\n",
              "      <td>4.910085</td>\n",
              "      <td>4.671537</td>\n",
              "      <td>7.011404</td>\n",
              "      <td>5.452125</td>\n",
              "      <td>6.349551</td>\n",
              "      <td>8.307028</td>\n",
              "      <td>8.440426</td>\n",
              "      <td>8.319234</td>\n",
              "      <td>9.868997</td>\n",
              "      <td>9.655341</td>\n",
              "      <td>12.173642</td>\n",
              "      <td>11.861296</td>\n",
              "      <td>13.797774</td>\n",
              "      <td>13.542206</td>\n",
              "      <td>6.414354</td>\n",
              "      <td>5.040202</td>\n",
              "      <td>5.235318</td>\n",
              "      <td>2.956232</td>\n",
              "      <td>3.445501</td>\n",
              "      <td>3.193947</td>\n",
              "    </tr>\n",
              "  </tbody>\n",
              "</table>\n",
              "<p>5 rows × 54677 columns</p>\n",
              "</div>"
            ],
            "text/plain": [
              "   samples   type  1007_s_at  ...  AFFX-TrpnX-3_at  AFFX-TrpnX-5_at  AFFX-TrpnX-M_at\n",
              "0       84  basal   9.850040  ...         2.966657         3.508495         3.301999\n",
              "1       85  basal   9.861357  ...         2.934763         3.687666         3.064299\n",
              "2       87  basal  10.103478  ...         2.847684         3.550597         3.158535\n",
              "3       90  basal   9.756875  ...         3.031602         3.524981         3.272665\n",
              "4       91  basal   9.408330  ...         2.956232         3.445501         3.193947\n",
              "\n",
              "[5 rows x 54677 columns]"
            ]
          },
          "metadata": {},
          "execution_count": 4
        }
      ]
    },
    {
      "cell_type": "code",
      "metadata": {
        "id": "rYEyDKZ-Z9H9"
      },
      "source": [
        "bc = breastdata.copy()"
      ],
      "execution_count": null,
      "outputs": []
    },
    {
      "cell_type": "code",
      "metadata": {
        "id": "OOuKcnn5W8L-"
      },
      "source": [
        "#bc.head()"
      ],
      "execution_count": null,
      "outputs": []
    },
    {
      "cell_type": "code",
      "metadata": {
        "colab": {
          "base_uri": "https://localhost:8080/"
        },
        "id": "TFujUjTW-Kjz",
        "outputId": "35a8fa3c-583c-4dbf-cde2-b889dc231542"
      },
      "source": [
        "data = bc.iloc[:,2:].values\n",
        "data "
      ],
      "execution_count": null,
      "outputs": [
        {
          "output_type": "execute_result",
          "data": {
            "text/plain": [
              "array([[ 9.85003997,  8.09792735,  6.42472816, ...,  2.9666567 ,\n",
              "         3.50849465,  3.30199869],\n",
              "       [ 9.86135737,  8.21222225,  7.06259284, ...,  2.9347635 ,\n",
              "         3.68766637,  3.06429903],\n",
              "       [10.1034785 ,  8.93613685,  5.73596977, ...,  2.84768393,\n",
              "         3.55059675,  3.15853522],\n",
              "       ...,\n",
              "       [11.02709803,  7.18087582,  6.30473602, ...,  3.0851274 ,\n",
              "         3.62884807,  3.21580734],\n",
              "       [10.44439499,  7.5251525 ,  5.9644598 , ...,  3.01852519,\n",
              "         3.77059745,  3.10229782],\n",
              "       [11.34581728,  7.3792993 ,  5.89117177, ...,  3.06158533,\n",
              "         3.85752548,  3.12982746]])"
            ]
          },
          "metadata": {},
          "execution_count": 7
        }
      ]
    },
    {
      "cell_type": "code",
      "metadata": {
        "id": "k7raKKxxGqfr"
      },
      "source": [
        "#change the type(target class) column into category \n",
        "#bc[\"type\"] = bc[\"type\"].astype('category')\n",
        "#bc.dtypes"
      ],
      "execution_count": null,
      "outputs": []
    },
    {
      "cell_type": "code",
      "metadata": {
        "id": "M7UvBWNUHBkq"
      },
      "source": [
        "#bc[\"type_cat\"] = bc[\"type\"].cat.codes"
      ],
      "execution_count": null,
      "outputs": []
    },
    {
      "cell_type": "code",
      "metadata": {
        "colab": {
          "base_uri": "https://localhost:8080/"
        },
        "id": "GgW4vdUeC1TR",
        "outputId": "285cfb49-ff63-490c-ed68-14b7e978376c"
      },
      "source": [
        "# assign labels to variable y\n",
        "y = bc['type']\n",
        "y"
      ],
      "execution_count": null,
      "outputs": [
        {
          "output_type": "execute_result",
          "data": {
            "text/plain": [
              "0          basal\n",
              "1          basal\n",
              "2          basal\n",
              "3          basal\n",
              "4          basal\n",
              "         ...    \n",
              "146    luminal_B\n",
              "147    luminal_B\n",
              "148    luminal_B\n",
              "149    luminal_B\n",
              "150    luminal_B\n",
              "Name: type, Length: 151, dtype: object"
            ]
          },
          "metadata": {},
          "execution_count": 10
        }
      ]
    },
    {
      "cell_type": "markdown",
      "metadata": {
        "id": "_wJMsvolYhxY"
      },
      "source": [
        "**K-means**"
      ]
    },
    {
      "cell_type": "code",
      "metadata": {
        "id": "Jtc-chXbYmFS"
      },
      "source": [
        "from sklearn.cluster import KMeans\n",
        "from sklearn.metrics import classification_report, confusion_matrix, ConfusionMatrixDisplay, matthews_corrcoef\n",
        "from sklearn.preprocessing import StandardScaler\n",
        "import scipy\n",
        "from scipy.cluster.hierarchy import linkage, dendrogram, fcluster\n",
        "\n",
        "from scipy.cluster.vq import kmeans,vq,whiten,kmeans2"
      ],
      "execution_count": null,
      "outputs": []
    },
    {
      "cell_type": "markdown",
      "metadata": {
        "id": "aRGTDxRIcZyM"
      },
      "source": [
        "Normalize a group of observations on a per feature basis. Before running K-Means, it is beneficial to rescale each feature dimension of the observation set with whitening. Each feature is divided by its standard deviation across all observations to give it unit variance."
      ]
    },
    {
      "cell_type": "code",
      "metadata": {
        "id": "PdXfjEU_cQkd"
      },
      "source": [
        "# whitening of data\n",
        "data_kms = whiten(data)"
      ],
      "execution_count": null,
      "outputs": []
    },
    {
      "cell_type": "markdown",
      "metadata": {
        "id": "Z3x5FAJ2c022"
      },
      "source": [
        "Compute K-Means with Six Clusters"
      ]
    },
    {
      "cell_type": "code",
      "metadata": {
        "id": "nJpXtCmUc8ac"
      },
      "source": [
        "# computing K-Means with K = 6 (6 clusters)\n",
        "centroids,_ = kmeans2(data_kms, 6)"
      ],
      "execution_count": null,
      "outputs": []
    },
    {
      "cell_type": "code",
      "metadata": {
        "id": "GybW7WBm46Fk"
      },
      "source": [
        ""
      ],
      "execution_count": null,
      "outputs": []
    },
    {
      "cell_type": "markdown",
      "metadata": {
        "id": "7t2bpQXvi_I4"
      },
      "source": [
        "The above code performs K-Means on a set of observation vectors forming K clusters. The K-Means algorithm adjusts the centroids until sufficient progress cannot be made, i.e. the change in distortion, since the last iteration is less than some threshold. Here, we can observe the centroid of the cluster by printing the centroids variable using the code given below."
      ]
    },
    {
      "cell_type": "code",
      "metadata": {
        "colab": {
          "base_uri": "https://localhost:8080/"
        },
        "id": "Z-4Ns5zLi5ZX",
        "outputId": "98fea165-1f7a-4432-df3f-b0e4575d354b"
      },
      "source": [
        "print(centroids)"
      ],
      "execution_count": null,
      "outputs": [
        {
          "output_type": "stream",
          "text": [
            "[[16.77364321 11.1998472   9.9065379  ... 31.05101997 25.04195358\n",
            "  30.69811087]\n",
            " [16.35185384  9.79290747  9.54542332 ... 30.88947215 24.77342806\n",
            "  32.50146581]\n",
            " [16.46609191 11.00593702 10.00109072 ... 31.23206711 24.3157043\n",
            "  31.59968815]\n",
            " [16.20001301 12.50983723  8.21759294 ... 32.85163233 26.52125528\n",
            "  32.15023526]\n",
            " [16.82849799  9.11091354  8.7764509  ... 31.3795906  24.66971489\n",
            "  31.41169949]\n",
            " [17.47499297 10.25553594  9.80202012 ... 31.55001372 25.02106352\n",
            "  31.23393194]]\n"
          ],
          "name": "stdout"
        }
      ]
    },
    {
      "cell_type": "markdown",
      "metadata": {
        "id": "rdVpcnoPjK9r"
      },
      "source": [
        "Assign each value to a cluster by using the code given below.\n",
        "\n",
        "The vq function compares each observation vector in the ‘M’ by ‘N’ obs array with the centroids and assigns the observation to the closest cluster. It returns the cluster of each observation and the distortion. We can check the distortion as well. Let us check the cluster of each observation using the following code.\n"
      ]
    },
    {
      "cell_type": "code",
      "metadata": {
        "id": "e6mhYPO1jIK_"
      },
      "source": [
        "# assign each sample to a cluster\n",
        "clx,_ = vq(data_kms,centroids)\n"
      ],
      "execution_count": null,
      "outputs": []
    },
    {
      "cell_type": "code",
      "metadata": {
        "colab": {
          "base_uri": "https://localhost:8080/"
        },
        "id": "o-m8ztCyjp0K",
        "outputId": "d9cdcf71-7fc1-4075-9d28-d6113654360d"
      },
      "source": [
        "# check clusters of observation\n",
        "print(clx)"
      ],
      "execution_count": null,
      "outputs": [
        {
          "output_type": "stream",
          "text": [
            "[2 2 2 2 2 2 2 2 2 2 2 0 0 0 0 0 0 0 0 0 0 0 0 0 0 0 0 0 0 0 0 0 0 0 0 0 0\n",
            " 0 0 0 0 2 2 2 2 2 2 2 2 2 2 2 5 0 0 0 0 0 0 0 2 0 0 0 5 0 0 0 5 0 0 3 3 3\n",
            " 3 3 3 3 3 3 3 3 3 3 3 4 5 4 4 4 4 4 5 5 5 5 2 5 5 5 5 5 5 5 5 5 5 5 2 2 1\n",
            " 5 5 5 5 5 2 5 5 5 5 5 2 5 5 5 5 5 5 5 5 5 5 5 5 5 5 5 5 5 4 2 2 5 5 5 5 5\n",
            " 5 5 5]\n"
          ],
          "name": "stdout"
        }
      ]
    },
    {
      "cell_type": "code",
      "metadata": {
        "id": "VPOoYqBYBCVq"
      },
      "source": [
        "## creating a new dataframe only for clx and converting it into categorical variable\n",
        "df_labels_km2 = pd.DataFrame(clx , columns = list(['label']))\n",
        "\n",
        "df_labels_km2['label'] = df_labels_km2['label'].astype('category')"
      ],
      "execution_count": null,
      "outputs": []
    },
    {
      "cell_type": "code",
      "metadata": {
        "colab": {
          "base_uri": "https://localhost:8080/",
          "height": 304
        },
        "id": "m2DLfSrFBeWK",
        "outputId": "185de086-6c02-46c4-eb73-584f4d589c35"
      },
      "source": [
        "## Joining the label dataframe with the original data frame. \n",
        "df_labels_km2 = bc.join(df_labels_km2)\n",
        "df_labels_km2.head()"
      ],
      "execution_count": null,
      "outputs": [
        {
          "output_type": "execute_result",
          "data": {
            "text/html": [
              "<div>\n",
              "<style scoped>\n",
              "    .dataframe tbody tr th:only-of-type {\n",
              "        vertical-align: middle;\n",
              "    }\n",
              "\n",
              "    .dataframe tbody tr th {\n",
              "        vertical-align: top;\n",
              "    }\n",
              "\n",
              "    .dataframe thead th {\n",
              "        text-align: right;\n",
              "    }\n",
              "</style>\n",
              "<table border=\"1\" class=\"dataframe\">\n",
              "  <thead>\n",
              "    <tr style=\"text-align: right;\">\n",
              "      <th></th>\n",
              "      <th>samples</th>\n",
              "      <th>type</th>\n",
              "      <th>1007_s_at</th>\n",
              "      <th>1053_at</th>\n",
              "      <th>117_at</th>\n",
              "      <th>121_at</th>\n",
              "      <th>1255_g_at</th>\n",
              "      <th>1294_at</th>\n",
              "      <th>1316_at</th>\n",
              "      <th>1320_at</th>\n",
              "      <th>1405_i_at</th>\n",
              "      <th>1431_at</th>\n",
              "      <th>1438_at</th>\n",
              "      <th>1487_at</th>\n",
              "      <th>1494_f_at</th>\n",
              "      <th>1552256_a_at</th>\n",
              "      <th>1552257_a_at</th>\n",
              "      <th>1552258_at</th>\n",
              "      <th>1552261_at</th>\n",
              "      <th>1552263_at</th>\n",
              "      <th>1552264_a_at</th>\n",
              "      <th>1552266_at</th>\n",
              "      <th>1552269_at</th>\n",
              "      <th>1552271_at</th>\n",
              "      <th>1552272_a_at</th>\n",
              "      <th>1552274_at</th>\n",
              "      <th>1552275_s_at</th>\n",
              "      <th>1552276_a_at</th>\n",
              "      <th>1552277_a_at</th>\n",
              "      <th>1552278_a_at</th>\n",
              "      <th>1552279_a_at</th>\n",
              "      <th>1552280_at</th>\n",
              "      <th>1552281_at</th>\n",
              "      <th>1552283_s_at</th>\n",
              "      <th>1552286_at</th>\n",
              "      <th>1552287_s_at</th>\n",
              "      <th>1552288_at</th>\n",
              "      <th>1552289_a_at</th>\n",
              "      <th>1552291_at</th>\n",
              "      <th>1552293_at</th>\n",
              "      <th>...</th>\n",
              "      <th>AFFX-HUMRGE/M10098_3_at</th>\n",
              "      <th>AFFX-HUMRGE/M10098_5_at</th>\n",
              "      <th>AFFX-HUMRGE/M10098_M_at</th>\n",
              "      <th>AFFX-LysX-3_at</th>\n",
              "      <th>AFFX-LysX-5_at</th>\n",
              "      <th>AFFX-LysX-M_at</th>\n",
              "      <th>AFFX-M27830_3_at</th>\n",
              "      <th>AFFX-M27830_5_at</th>\n",
              "      <th>AFFX-M27830_M_at</th>\n",
              "      <th>AFFX-PheX-3_at</th>\n",
              "      <th>AFFX-PheX-5_at</th>\n",
              "      <th>AFFX-PheX-M_at</th>\n",
              "      <th>AFFX-r2-Bs-dap-3_at</th>\n",
              "      <th>AFFX-r2-Bs-dap-5_at</th>\n",
              "      <th>AFFX-r2-Bs-dap-M_at</th>\n",
              "      <th>AFFX-r2-Bs-lys-3_at</th>\n",
              "      <th>AFFX-r2-Bs-lys-5_at</th>\n",
              "      <th>AFFX-r2-Bs-lys-M_at</th>\n",
              "      <th>AFFX-r2-Bs-phe-3_at</th>\n",
              "      <th>AFFX-r2-Bs-phe-5_at</th>\n",
              "      <th>AFFX-r2-Bs-phe-M_at</th>\n",
              "      <th>AFFX-r2-Bs-thr-3_s_at</th>\n",
              "      <th>AFFX-r2-Bs-thr-5_s_at</th>\n",
              "      <th>AFFX-r2-Bs-thr-M_s_at</th>\n",
              "      <th>AFFX-r2-Ec-bioB-3_at</th>\n",
              "      <th>AFFX-r2-Ec-bioB-5_at</th>\n",
              "      <th>AFFX-r2-Ec-bioB-M_at</th>\n",
              "      <th>AFFX-r2-Ec-bioC-3_at</th>\n",
              "      <th>AFFX-r2-Ec-bioC-5_at</th>\n",
              "      <th>AFFX-r2-Ec-bioD-3_at</th>\n",
              "      <th>AFFX-r2-Ec-bioD-5_at</th>\n",
              "      <th>AFFX-r2-P1-cre-3_at</th>\n",
              "      <th>AFFX-r2-P1-cre-5_at</th>\n",
              "      <th>AFFX-ThrX-3_at</th>\n",
              "      <th>AFFX-ThrX-5_at</th>\n",
              "      <th>AFFX-ThrX-M_at</th>\n",
              "      <th>AFFX-TrpnX-3_at</th>\n",
              "      <th>AFFX-TrpnX-5_at</th>\n",
              "      <th>AFFX-TrpnX-M_at</th>\n",
              "      <th>label</th>\n",
              "    </tr>\n",
              "  </thead>\n",
              "  <tbody>\n",
              "    <tr>\n",
              "      <th>0</th>\n",
              "      <td>84</td>\n",
              "      <td>basal</td>\n",
              "      <td>9.850040</td>\n",
              "      <td>8.097927</td>\n",
              "      <td>6.424728</td>\n",
              "      <td>7.353027</td>\n",
              "      <td>3.029122</td>\n",
              "      <td>6.880079</td>\n",
              "      <td>4.963740</td>\n",
              "      <td>4.408328</td>\n",
              "      <td>8.870780</td>\n",
              "      <td>3.278896</td>\n",
              "      <td>7.317273</td>\n",
              "      <td>6.941792</td>\n",
              "      <td>4.753893</td>\n",
              "      <td>9.689422</td>\n",
              "      <td>9.529578</td>\n",
              "      <td>4.416768</td>\n",
              "      <td>4.061347</td>\n",
              "      <td>6.468291</td>\n",
              "      <td>8.671009</td>\n",
              "      <td>3.766666</td>\n",
              "      <td>3.711459</td>\n",
              "      <td>5.076329</td>\n",
              "      <td>4.442042</td>\n",
              "      <td>6.741298</td>\n",
              "      <td>5.627442</td>\n",
              "      <td>5.516712</td>\n",
              "      <td>8.107136</td>\n",
              "      <td>4.956239</td>\n",
              "      <td>5.791279</td>\n",
              "      <td>3.569233</td>\n",
              "      <td>5.687476</td>\n",
              "      <td>4.152096</td>\n",
              "      <td>4.906925</td>\n",
              "      <td>8.206707</td>\n",
              "      <td>4.463950</td>\n",
              "      <td>5.186044</td>\n",
              "      <td>5.942088</td>\n",
              "      <td>4.191142</td>\n",
              "      <td>...</td>\n",
              "      <td>12.050521</td>\n",
              "      <td>14.750905</td>\n",
              "      <td>13.359472</td>\n",
              "      <td>5.576968</td>\n",
              "      <td>3.606041</td>\n",
              "      <td>4.481027</td>\n",
              "      <td>5.509117</td>\n",
              "      <td>10.544533</td>\n",
              "      <td>11.200692</td>\n",
              "      <td>5.932332</td>\n",
              "      <td>4.253946</td>\n",
              "      <td>5.052679</td>\n",
              "      <td>7.782348</td>\n",
              "      <td>7.056759</td>\n",
              "      <td>7.787824</td>\n",
              "      <td>4.784976</td>\n",
              "      <td>3.943038</td>\n",
              "      <td>3.903069</td>\n",
              "      <td>6.119248</td>\n",
              "      <td>4.461984</td>\n",
              "      <td>4.752744</td>\n",
              "      <td>6.761262</td>\n",
              "      <td>5.298281</td>\n",
              "      <td>6.048960</td>\n",
              "      <td>8.292124</td>\n",
              "      <td>8.225293</td>\n",
              "      <td>8.333853</td>\n",
              "      <td>9.854639</td>\n",
              "      <td>9.823275</td>\n",
              "      <td>12.229711</td>\n",
              "      <td>11.852955</td>\n",
              "      <td>13.658701</td>\n",
              "      <td>13.477698</td>\n",
              "      <td>6.265781</td>\n",
              "      <td>5.016196</td>\n",
              "      <td>4.901594</td>\n",
              "      <td>2.966657</td>\n",
              "      <td>3.508495</td>\n",
              "      <td>3.301999</td>\n",
              "      <td>2</td>\n",
              "    </tr>\n",
              "    <tr>\n",
              "      <th>1</th>\n",
              "      <td>85</td>\n",
              "      <td>basal</td>\n",
              "      <td>9.861357</td>\n",
              "      <td>8.212222</td>\n",
              "      <td>7.062593</td>\n",
              "      <td>7.685578</td>\n",
              "      <td>3.149468</td>\n",
              "      <td>7.542283</td>\n",
              "      <td>5.129607</td>\n",
              "      <td>4.584418</td>\n",
              "      <td>7.767646</td>\n",
              "      <td>3.589636</td>\n",
              "      <td>8.768129</td>\n",
              "      <td>7.567034</td>\n",
              "      <td>4.859823</td>\n",
              "      <td>8.459354</td>\n",
              "      <td>8.973671</td>\n",
              "      <td>4.503730</td>\n",
              "      <td>5.390424</td>\n",
              "      <td>6.756707</td>\n",
              "      <td>8.105795</td>\n",
              "      <td>4.651541</td>\n",
              "      <td>3.935309</td>\n",
              "      <td>5.228763</td>\n",
              "      <td>4.454780</td>\n",
              "      <td>6.468014</td>\n",
              "      <td>5.798596</td>\n",
              "      <td>5.306064</td>\n",
              "      <td>7.505800</td>\n",
              "      <td>4.636866</td>\n",
              "      <td>5.898319</td>\n",
              "      <td>3.749061</td>\n",
              "      <td>5.582313</td>\n",
              "      <td>4.449042</td>\n",
              "      <td>5.871074</td>\n",
              "      <td>7.242601</td>\n",
              "      <td>3.938327</td>\n",
              "      <td>4.378953</td>\n",
              "      <td>6.294126</td>\n",
              "      <td>4.058221</td>\n",
              "      <td>...</td>\n",
              "      <td>8.264719</td>\n",
              "      <td>9.938357</td>\n",
              "      <td>9.507651</td>\n",
              "      <td>6.103962</td>\n",
              "      <td>3.983087</td>\n",
              "      <td>4.742306</td>\n",
              "      <td>5.424172</td>\n",
              "      <td>8.881772</td>\n",
              "      <td>11.148811</td>\n",
              "      <td>6.330691</td>\n",
              "      <td>4.755615</td>\n",
              "      <td>5.474167</td>\n",
              "      <td>8.542725</td>\n",
              "      <td>7.617779</td>\n",
              "      <td>8.237535</td>\n",
              "      <td>5.209694</td>\n",
              "      <td>3.939264</td>\n",
              "      <td>4.553344</td>\n",
              "      <td>6.017351</td>\n",
              "      <td>5.425393</td>\n",
              "      <td>4.957182</td>\n",
              "      <td>7.405313</td>\n",
              "      <td>5.615380</td>\n",
              "      <td>6.617585</td>\n",
              "      <td>8.225366</td>\n",
              "      <td>8.409790</td>\n",
              "      <td>8.499343</td>\n",
              "      <td>10.061910</td>\n",
              "      <td>9.796947</td>\n",
              "      <td>12.178531</td>\n",
              "      <td>11.809408</td>\n",
              "      <td>13.750086</td>\n",
              "      <td>13.470146</td>\n",
              "      <td>6.771853</td>\n",
              "      <td>5.291005</td>\n",
              "      <td>5.405839</td>\n",
              "      <td>2.934763</td>\n",
              "      <td>3.687666</td>\n",
              "      <td>3.064299</td>\n",
              "      <td>2</td>\n",
              "    </tr>\n",
              "    <tr>\n",
              "      <th>2</th>\n",
              "      <td>87</td>\n",
              "      <td>basal</td>\n",
              "      <td>10.103478</td>\n",
              "      <td>8.936137</td>\n",
              "      <td>5.735970</td>\n",
              "      <td>7.687822</td>\n",
              "      <td>3.125931</td>\n",
              "      <td>6.562369</td>\n",
              "      <td>4.813449</td>\n",
              "      <td>4.425195</td>\n",
              "      <td>9.417956</td>\n",
              "      <td>3.552253</td>\n",
              "      <td>7.945085</td>\n",
              "      <td>7.238284</td>\n",
              "      <td>4.872635</td>\n",
              "      <td>9.367521</td>\n",
              "      <td>9.133688</td>\n",
              "      <td>4.358608</td>\n",
              "      <td>4.445164</td>\n",
              "      <td>5.476936</td>\n",
              "      <td>8.752115</td>\n",
              "      <td>3.546838</td>\n",
              "      <td>4.263868</td>\n",
              "      <td>5.509159</td>\n",
              "      <td>4.624205</td>\n",
              "      <td>7.103216</td>\n",
              "      <td>6.641263</td>\n",
              "      <td>5.141131</td>\n",
              "      <td>7.072525</td>\n",
              "      <td>4.728196</td>\n",
              "      <td>6.233648</td>\n",
              "      <td>3.766725</td>\n",
              "      <td>6.008163</td>\n",
              "      <td>4.191390</td>\n",
              "      <td>5.717077</td>\n",
              "      <td>7.809222</td>\n",
              "      <td>4.108028</td>\n",
              "      <td>5.012451</td>\n",
              "      <td>7.258626</td>\n",
              "      <td>4.330997</td>\n",
              "      <td>...</td>\n",
              "      <td>10.241912</td>\n",
              "      <td>13.605901</td>\n",
              "      <td>11.784269</td>\n",
              "      <td>5.853014</td>\n",
              "      <td>3.748889</td>\n",
              "      <td>4.407490</td>\n",
              "      <td>5.919699</td>\n",
              "      <td>9.687444</td>\n",
              "      <td>11.601339</td>\n",
              "      <td>6.040000</td>\n",
              "      <td>4.314678</td>\n",
              "      <td>5.274790</td>\n",
              "      <td>8.030696</td>\n",
              "      <td>7.082369</td>\n",
              "      <td>7.912491</td>\n",
              "      <td>4.725483</td>\n",
              "      <td>4.036020</td>\n",
              "      <td>4.141341</td>\n",
              "      <td>5.825904</td>\n",
              "      <td>5.032693</td>\n",
              "      <td>4.764559</td>\n",
              "      <td>7.026349</td>\n",
              "      <td>5.448507</td>\n",
              "      <td>6.386042</td>\n",
              "      <td>8.218749</td>\n",
              "      <td>8.209361</td>\n",
              "      <td>8.280136</td>\n",
              "      <td>9.699647</td>\n",
              "      <td>9.452066</td>\n",
              "      <td>12.125108</td>\n",
              "      <td>11.725766</td>\n",
              "      <td>13.621732</td>\n",
              "      <td>13.295080</td>\n",
              "      <td>6.346952</td>\n",
              "      <td>5.171403</td>\n",
              "      <td>5.184286</td>\n",
              "      <td>2.847684</td>\n",
              "      <td>3.550597</td>\n",
              "      <td>3.158535</td>\n",
              "      <td>2</td>\n",
              "    </tr>\n",
              "    <tr>\n",
              "      <th>3</th>\n",
              "      <td>90</td>\n",
              "      <td>basal</td>\n",
              "      <td>9.756875</td>\n",
              "      <td>7.357148</td>\n",
              "      <td>6.479183</td>\n",
              "      <td>6.986624</td>\n",
              "      <td>3.181638</td>\n",
              "      <td>7.802344</td>\n",
              "      <td>5.490982</td>\n",
              "      <td>4.567956</td>\n",
              "      <td>9.022345</td>\n",
              "      <td>3.312473</td>\n",
              "      <td>7.754670</td>\n",
              "      <td>7.078843</td>\n",
              "      <td>4.867320</td>\n",
              "      <td>7.790225</td>\n",
              "      <td>7.206228</td>\n",
              "      <td>4.680283</td>\n",
              "      <td>4.171577</td>\n",
              "      <td>5.985232</td>\n",
              "      <td>7.205984</td>\n",
              "      <td>3.568459</td>\n",
              "      <td>3.310109</td>\n",
              "      <td>5.166409</td>\n",
              "      <td>4.160049</td>\n",
              "      <td>6.730255</td>\n",
              "      <td>5.774961</td>\n",
              "      <td>6.092539</td>\n",
              "      <td>7.164589</td>\n",
              "      <td>4.903609</td>\n",
              "      <td>5.726683</td>\n",
              "      <td>3.532517</td>\n",
              "      <td>5.652934</td>\n",
              "      <td>3.997426</td>\n",
              "      <td>6.151148</td>\n",
              "      <td>7.189197</td>\n",
              "      <td>4.329053</td>\n",
              "      <td>5.134634</td>\n",
              "      <td>6.300199</td>\n",
              "      <td>4.192591</td>\n",
              "      <td>...</td>\n",
              "      <td>9.191622</td>\n",
              "      <td>12.146083</td>\n",
              "      <td>11.018158</td>\n",
              "      <td>5.972863</td>\n",
              "      <td>3.658838</td>\n",
              "      <td>4.657377</td>\n",
              "      <td>5.508931</td>\n",
              "      <td>9.262102</td>\n",
              "      <td>11.338670</td>\n",
              "      <td>6.194179</td>\n",
              "      <td>4.300024</td>\n",
              "      <td>5.072087</td>\n",
              "      <td>8.148625</td>\n",
              "      <td>7.548858</td>\n",
              "      <td>7.960282</td>\n",
              "      <td>5.226375</td>\n",
              "      <td>3.562438</td>\n",
              "      <td>4.306947</td>\n",
              "      <td>5.979139</td>\n",
              "      <td>5.018239</td>\n",
              "      <td>4.872679</td>\n",
              "      <td>7.066764</td>\n",
              "      <td>5.573531</td>\n",
              "      <td>6.637775</td>\n",
              "      <td>8.183538</td>\n",
              "      <td>8.307374</td>\n",
              "      <td>8.233631</td>\n",
              "      <td>9.911691</td>\n",
              "      <td>9.611842</td>\n",
              "      <td>12.111235</td>\n",
              "      <td>11.719215</td>\n",
              "      <td>13.743108</td>\n",
              "      <td>13.508861</td>\n",
              "      <td>6.610284</td>\n",
              "      <td>5.193356</td>\n",
              "      <td>5.086569</td>\n",
              "      <td>3.031602</td>\n",
              "      <td>3.524981</td>\n",
              "      <td>3.272665</td>\n",
              "      <td>2</td>\n",
              "    </tr>\n",
              "    <tr>\n",
              "      <th>4</th>\n",
              "      <td>91</td>\n",
              "      <td>basal</td>\n",
              "      <td>9.408330</td>\n",
              "      <td>7.746404</td>\n",
              "      <td>6.693980</td>\n",
              "      <td>7.333426</td>\n",
              "      <td>3.169923</td>\n",
              "      <td>7.610457</td>\n",
              "      <td>5.372469</td>\n",
              "      <td>4.424426</td>\n",
              "      <td>9.400056</td>\n",
              "      <td>3.368243</td>\n",
              "      <td>9.052192</td>\n",
              "      <td>6.889370</td>\n",
              "      <td>4.939912</td>\n",
              "      <td>8.432573</td>\n",
              "      <td>9.240390</td>\n",
              "      <td>4.689763</td>\n",
              "      <td>4.224431</td>\n",
              "      <td>6.386138</td>\n",
              "      <td>7.732480</td>\n",
              "      <td>4.233807</td>\n",
              "      <td>4.392973</td>\n",
              "      <td>5.265164</td>\n",
              "      <td>4.161808</td>\n",
              "      <td>6.984456</td>\n",
              "      <td>6.219122</td>\n",
              "      <td>5.187331</td>\n",
              "      <td>8.225413</td>\n",
              "      <td>5.238370</td>\n",
              "      <td>6.165456</td>\n",
              "      <td>3.500029</td>\n",
              "      <td>5.694598</td>\n",
              "      <td>4.298906</td>\n",
              "      <td>5.211584</td>\n",
              "      <td>7.708507</td>\n",
              "      <td>4.991938</td>\n",
              "      <td>5.860185</td>\n",
              "      <td>6.217526</td>\n",
              "      <td>3.997529</td>\n",
              "      <td>...</td>\n",
              "      <td>11.501202</td>\n",
              "      <td>12.598456</td>\n",
              "      <td>11.611006</td>\n",
              "      <td>5.763398</td>\n",
              "      <td>3.517613</td>\n",
              "      <td>4.514921</td>\n",
              "      <td>5.498137</td>\n",
              "      <td>9.336550</td>\n",
              "      <td>11.446506</td>\n",
              "      <td>6.072134</td>\n",
              "      <td>4.312846</td>\n",
              "      <td>5.167958</td>\n",
              "      <td>8.179727</td>\n",
              "      <td>7.501891</td>\n",
              "      <td>7.931099</td>\n",
              "      <td>4.897629</td>\n",
              "      <td>3.710210</td>\n",
              "      <td>3.953584</td>\n",
              "      <td>5.928464</td>\n",
              "      <td>4.910085</td>\n",
              "      <td>4.671537</td>\n",
              "      <td>7.011404</td>\n",
              "      <td>5.452125</td>\n",
              "      <td>6.349551</td>\n",
              "      <td>8.307028</td>\n",
              "      <td>8.440426</td>\n",
              "      <td>8.319234</td>\n",
              "      <td>9.868997</td>\n",
              "      <td>9.655341</td>\n",
              "      <td>12.173642</td>\n",
              "      <td>11.861296</td>\n",
              "      <td>13.797774</td>\n",
              "      <td>13.542206</td>\n",
              "      <td>6.414354</td>\n",
              "      <td>5.040202</td>\n",
              "      <td>5.235318</td>\n",
              "      <td>2.956232</td>\n",
              "      <td>3.445501</td>\n",
              "      <td>3.193947</td>\n",
              "      <td>2</td>\n",
              "    </tr>\n",
              "  </tbody>\n",
              "</table>\n",
              "<p>5 rows × 54678 columns</p>\n",
              "</div>"
            ],
            "text/plain": [
              "   samples   type  1007_s_at  ...  AFFX-TrpnX-5_at  AFFX-TrpnX-M_at  label\n",
              "0       84  basal   9.850040  ...         3.508495         3.301999      2\n",
              "1       85  basal   9.861357  ...         3.687666         3.064299      2\n",
              "2       87  basal  10.103478  ...         3.550597         3.158535      2\n",
              "3       90  basal   9.756875  ...         3.524981         3.272665      2\n",
              "4       91  basal   9.408330  ...         3.445501         3.193947      2\n",
              "\n",
              "[5 rows x 54678 columns]"
            ]
          },
          "metadata": {},
          "execution_count": 18
        }
      ]
    },
    {
      "cell_type": "code",
      "metadata": {
        "colab": {
          "base_uri": "https://localhost:8080/"
        },
        "id": "OAX8LrjuB0ex",
        "outputId": "81dcb0d4-9bb0-48b6-9c33-8098021aaa1c"
      },
      "source": [
        "df_labels_km2['label'].value_counts()"
      ],
      "execution_count": null,
      "outputs": [
        {
          "output_type": "execute_result",
          "data": {
            "text/plain": [
              "5    54\n",
              "0    45\n",
              "2    30\n",
              "3    14\n",
              "4     7\n",
              "1     1\n",
              "Name: label, dtype: int64"
            ]
          },
          "metadata": {},
          "execution_count": 19
        }
      ]
    },
    {
      "cell_type": "markdown",
      "metadata": {
        "id": "RiUmQlY3B-2y"
      },
      "source": [
        "**Evaluate k-means Clustering**"
      ]
    },
    {
      "cell_type": "code",
      "metadata": {
        "id": "hIeVsOkPCFEs"
      },
      "source": [
        "#print('Distortion: %.2f' % kmeans.inertia_)"
      ],
      "execution_count": null,
      "outputs": []
    },
    {
      "cell_type": "markdown",
      "metadata": {
        "id": "qdtUXByUCVp5"
      },
      "source": [
        "Calculation of accuracy score. Since the k-means algorithm doesn´t have any knowledge on the true cluster labels, the permutations need to be found before comparing to the true labels."
      ]
    },
    {
      "cell_type": "code",
      "metadata": {
        "id": "dmu3Z0C-CSNo"
      },
      "source": [
        "def find_permutation(n_clusters, real_labels, labels):\n",
        "  permutation=[]\n",
        "  for i in range(n_clusters):\n",
        "    idx = labels == i\n",
        "    new_label=scipy.stats.mode(real_labels[idx])[0][0]  # Choose the most common label among data points in the cluster\n",
        "    permutation.append(new_label)\n",
        "  return permutation"
      ],
      "execution_count": null,
      "outputs": []
    },
    {
      "cell_type": "code",
      "metadata": {
        "colab": {
          "base_uri": "https://localhost:8080/"
        },
        "id": "7qFsCBEcClK_",
        "outputId": "c703dd8d-ed4f-4bf6-c7e2-18fcac746933"
      },
      "source": [
        "permutation_km2 = find_permutation(6, y, clx)\n",
        "print(permutation_km2)"
      ],
      "execution_count": null,
      "outputs": [
        {
          "output_type": "stream",
          "text": [
            "['basal', 'luminal_A', 'HER', 'cell_line', 'normal', 'luminal_B']\n"
          ],
          "name": "stdout"
        }
      ]
    },
    {
      "cell_type": "code",
      "metadata": {
        "colab": {
          "base_uri": "https://localhost:8080/"
        },
        "id": "kywAqoS6DCek",
        "outputId": "3f58d665-d638-4d73-ae25-dcdc1ff35675"
      },
      "source": [
        "new_labels_km2 = [ permutation_km2[label] for label in clx]   # permute the labels\n",
        "print(\"Accuracy score is\", accuracy_score(y, new_labels_km2))"
      ],
      "execution_count": null,
      "outputs": [
        {
          "output_type": "stream",
          "text": [
            "Accuracy score is 0.5894039735099338\n"
          ],
          "name": "stdout"
        }
      ]
    },
    {
      "cell_type": "code",
      "metadata": {
        "colab": {
          "base_uri": "https://localhost:8080/",
          "height": 334
        },
        "id": "A55UxHeTDSma",
        "outputId": "5238138a-7067-47f7-83dc-b5c389e43bd7"
      },
      "source": [
        "## plot confusion matrix\n",
        "label = [ 'HER','basal','cell_line', 'luminal_A','luminal_B','normal']\n",
        "mat_km2 = confusion_matrix(y, new_labels_km2)\n",
        "sns.heatmap(mat_km2.T, square=True, annot=True, fmt='d', cbar=False,\n",
        "            xticklabels=label,\n",
        "            yticklabels=label\n",
        "            )\n",
        "plt.title(\"K-Means Spicy  Confusion Matrix \")\n",
        "plt.xlabel('predicted label')\n",
        "plt.ylabel('true label');\n",
        "#plt.savefig('confustion_matrix_1')"
      ],
      "execution_count": null,
      "outputs": [
        {
          "output_type": "display_data",
          "data": {
            "image/png": "[encoded data removed]",
            "text/plain": [
              "<Figure size 432x288 with 1 Axes>"
            ]
          },
          "metadata": {
            "needs_background": "light"
          }
        }
      ]
    },
    {
      "cell_type": "code",
      "metadata": {
        "colab": {
          "base_uri": "https://localhost:8080/"
        },
        "id": "w_RNekNsJCX8",
        "outputId": "9e0d9c27-c2e0-4c22-a3fd-262f30a3c3b3"
      },
      "source": [
        "print(\"\\033[1m\"  +'      ' +  ' K-Means spicy Model 2'  + \"\\033[0m\"    )\n",
        "print(\"                                                          \")\n",
        "print(\"Correctly Classified Instances = {}.\".format(accuracy_score(y, new_labels_km2, normalize=False)))\n",
        "print(\"Percentage of Correctly Classified Instances = {:.2f}.\".format(accuracy_score(y, new_labels_km2,)))\n",
        "print('Kappa statistic= {:.2f}.'. format(cohen_kappa_score(y , new_labels_km2)))\n",
        "#print('Mean absolute error = {:.2f}.'. format(mean_absolute_error(y , new_labels_KMeans,)))# multioutput= 'uniform_average'\n",
        "#print('Root Mean Squared error = {:.2f}.'. format(mean_squared_error (y , new_labels_KMeans, squared=False)))\n",
        "print('Matthews Corrcoef = {:.2f}.'. format(matthews_corrcoef(y, new_labels_km2)))\n",
        "print(\"Accuracy =% 0.2f \" % (accuracy_score(y, new_labels_km2)))\n",
        "print(\"                                                          \")\n",
        "print(\"\\033[1m\"  +'                 ' +  'Detailed Accuracy By Class' + \"\\033[0m\" )\n",
        "print(classification_report(y, new_labels_km2, target_names=permutation_km2 ))"
      ],
      "execution_count": null,
      "outputs": [
        {
          "output_type": "stream",
          "text": [
            "\u001b[1m       K-Means spicy Model 2\u001b[0m\n",
            "                                                          \n",
            "Correctly Classified Instances = 89.\n",
            "Percentage of Correctly Classified Instances = 0.59.\n",
            "Kappa statistic= 0.48.\n",
            "Matthews Corrcoef = 0.50.\n",
            "Accuracy = 0.59 \n",
            "                                                          \n",
            "\u001b[1m                 Detailed Accuracy By Class\u001b[0m\n",
            "              precision    recall  f1-score   support\n",
            "\n",
            "       basal       0.40      0.40      0.40        30\n",
            "   luminal_A       0.67      0.73      0.70        41\n",
            "         HER       1.00      1.00      1.00        14\n",
            "   cell_line       1.00      0.03      0.07        29\n",
            "      normal       0.48      0.87      0.62        30\n",
            "   luminal_B       0.86      0.86      0.86         7\n",
            "\n",
            "    accuracy                           0.59       151\n",
            "   macro avg       0.73      0.65      0.61       151\n",
            "weighted avg       0.68      0.59      0.54       151\n",
            "\n"
          ],
          "name": "stdout"
        }
      ]
    },
    {
      "cell_type": "markdown",
      "metadata": {
        "id": "o4wFF8ELv9Si"
      },
      "source": [
        "**TSNE**\n",
        "\n",
        "**Accuracy didnt improve will try apply t-SNE to the original data**"
      ]
    },
    {
      "cell_type": "code",
      "metadata": {
        "id": "45wcJQyAq0QY"
      },
      "source": [
        "from sklearn.manifold import TSNE"
      ],
      "execution_count": null,
      "outputs": []
    },
    {
      "cell_type": "code",
      "metadata": {
        "id": "2bK7vWPVwSmv"
      },
      "source": [
        "tsne = TSNE(random_state = 0)"
      ],
      "execution_count": null,
      "outputs": []
    },
    {
      "cell_type": "code",
      "metadata": {
        "colab": {
          "base_uri": "https://localhost:8080/"
        },
        "id": "cbT3dXqOAdyt",
        "outputId": "13a149b0-700d-42b2-d1a7-34ee02ad6136"
      },
      "source": [
        "tsne"
      ],
      "execution_count": null,
      "outputs": [
        {
          "output_type": "execute_result",
          "data": {
            "text/plain": [
              "TSNE(angle=0.5, early_exaggeration=12.0, init='random', learning_rate=200.0,\n",
              "     method='barnes_hut', metric='euclidean', min_grad_norm=1e-07,\n",
              "     n_components=2, n_iter=1000, n_iter_without_progress=300, n_jobs=None,\n",
              "     perplexity=30.0, random_state=0, verbose=0)"
            ]
          },
          "metadata": {},
          "execution_count": 28
        }
      ]
    },
    {
      "cell_type": "code",
      "metadata": {
        "id": "tCoJquPHywQ7"
      },
      "source": [
        "tsne_result = tsne.fit_transform(data)"
      ],
      "execution_count": null,
      "outputs": []
    },
    {
      "cell_type": "code",
      "metadata": {
        "id": "IURewn-QzCCY"
      },
      "source": [
        "km_tsne = KMeans(n_clusters= 6, random_state= 0)"
      ],
      "execution_count": null,
      "outputs": []
    },
    {
      "cell_type": "code",
      "metadata": {
        "colab": {
          "base_uri": "https://localhost:8080/"
        },
        "id": "olkL0qkfeS86",
        "outputId": "5e72d361-a216-4a63-8cb6-cc350461e334"
      },
      "source": [
        "km_tsne"
      ],
      "execution_count": null,
      "outputs": [
        {
          "output_type": "execute_result",
          "data": {
            "text/plain": [
              "KMeans(algorithm='auto', copy_x=True, init='k-means++', max_iter=300,\n",
              "       n_clusters=6, n_init=10, n_jobs=None, precompute_distances='auto',\n",
              "       random_state=0, tol=0.0001, verbose=0)"
            ]
          },
          "metadata": {},
          "execution_count": 31
        }
      ]
    },
    {
      "cell_type": "code",
      "metadata": {
        "id": "UeDFrl9HzYo6"
      },
      "source": [
        "#Predict the cluster labels\n",
        "labels_tsne =km_tsne.fit_predict(tsne_result)"
      ],
      "execution_count": null,
      "outputs": []
    },
    {
      "cell_type": "code",
      "metadata": {
        "colab": {
          "base_uri": "https://localhost:8080/"
        },
        "id": "FyQFXDj70Drl",
        "outputId": "d2a91fff-be00-4709-c032-eb4cfa54e2c4"
      },
      "source": [
        "labels_tsne.shape"
      ],
      "execution_count": null,
      "outputs": [
        {
          "output_type": "execute_result",
          "data": {
            "text/plain": [
              "(151,)"
            ]
          },
          "metadata": {},
          "execution_count": 33
        }
      ]
    },
    {
      "cell_type": "code",
      "metadata": {
        "colab": {
          "base_uri": "https://localhost:8080/"
        },
        "id": "E-x-nO5d0SbA",
        "outputId": "57e07304-4f98-4862-d955-2304f506c060"
      },
      "source": [
        "labels_tsne"
      ],
      "execution_count": null,
      "outputs": [
        {
          "output_type": "execute_result",
          "data": {
            "text/plain": [
              "array([2, 2, 2, 2, 2, 2, 2, 2, 2, 2, 2, 2, 1, 2, 2, 2, 2, 2, 2, 2, 2, 2,\n",
              "       2, 2, 1, 2, 1, 2, 2, 2, 2, 2, 2, 2, 2, 2, 1, 2, 2, 2, 2, 1, 1, 1,\n",
              "       1, 1, 1, 1, 1, 1, 1, 1, 1, 1, 1, 1, 1, 1, 1, 1, 1, 1, 1, 1, 1, 1,\n",
              "       2, 1, 1, 4, 1, 5, 5, 5, 5, 5, 5, 5, 5, 5, 5, 5, 5, 5, 5, 0, 0, 0,\n",
              "       0, 0, 0, 0, 3, 3, 3, 3, 3, 4, 3, 3, 3, 3, 3, 3, 3, 3, 3, 0, 3, 3,\n",
              "       0, 3, 3, 0, 3, 3, 3, 3, 3, 3, 3, 3, 1, 4, 4, 4, 4, 4, 4, 4, 4, 0,\n",
              "       4, 4, 0, 4, 3, 4, 4, 4, 0, 4, 1, 4, 4, 4, 3, 4, 4, 3, 3],\n",
              "      dtype=int32)"
            ]
          },
          "metadata": {},
          "execution_count": 34
        }
      ]
    },
    {
      "cell_type": "code",
      "metadata": {
        "colab": {
          "base_uri": "https://localhost:8080/",
          "height": 204
        },
        "id": "ya5IN8nQz0Od",
        "outputId": "a71b5eba-1e60-4bae-ecee-0e6db271f6ad"
      },
      "source": [
        "## creating a new dataframe only for labels and converting it into categorical variable\n",
        "df_labels_tsne = pd.DataFrame(km_tsne.labels_, columns= list(['label']))\n",
        "df_labels_tsne['label'] =df_labels_tsne['label'].astype('category')\n",
        "df_labels_tsne.head()"
      ],
      "execution_count": null,
      "outputs": [
        {
          "output_type": "execute_result",
          "data": {
            "text/html": [
              "<div>\n",
              "<style scoped>\n",
              "    .dataframe tbody tr th:only-of-type {\n",
              "        vertical-align: middle;\n",
              "    }\n",
              "\n",
              "    .dataframe tbody tr th {\n",
              "        vertical-align: top;\n",
              "    }\n",
              "\n",
              "    .dataframe thead th {\n",
              "        text-align: right;\n",
              "    }\n",
              "</style>\n",
              "<table border=\"1\" class=\"dataframe\">\n",
              "  <thead>\n",
              "    <tr style=\"text-align: right;\">\n",
              "      <th></th>\n",
              "      <th>label</th>\n",
              "    </tr>\n",
              "  </thead>\n",
              "  <tbody>\n",
              "    <tr>\n",
              "      <th>0</th>\n",
              "      <td>2</td>\n",
              "    </tr>\n",
              "    <tr>\n",
              "      <th>1</th>\n",
              "      <td>2</td>\n",
              "    </tr>\n",
              "    <tr>\n",
              "      <th>2</th>\n",
              "      <td>2</td>\n",
              "    </tr>\n",
              "    <tr>\n",
              "      <th>3</th>\n",
              "      <td>2</td>\n",
              "    </tr>\n",
              "    <tr>\n",
              "      <th>4</th>\n",
              "      <td>2</td>\n",
              "    </tr>\n",
              "  </tbody>\n",
              "</table>\n",
              "</div>"
            ],
            "text/plain": [
              "  label\n",
              "0     2\n",
              "1     2\n",
              "2     2\n",
              "3     2\n",
              "4     2"
            ]
          },
          "metadata": {},
          "execution_count": 35
        }
      ]
    },
    {
      "cell_type": "code",
      "metadata": {
        "colab": {
          "base_uri": "https://localhost:8080/"
        },
        "id": "qOzYlirZ2oU2",
        "outputId": "f236d3ca-4d95-4214-a1c8-bc30f694db8f"
      },
      "source": [
        "df_labels_tsne['label'].value_counts()"
      ],
      "execution_count": null,
      "outputs": [
        {
          "output_type": "execute_result",
          "data": {
            "text/plain": [
              "2    38\n",
              "1    34\n",
              "3    30\n",
              "4    22\n",
              "5    14\n",
              "0    13\n",
              "Name: label, dtype: int64"
            ]
          },
          "metadata": {},
          "execution_count": 36
        }
      ]
    },
    {
      "cell_type": "code",
      "metadata": {
        "colab": {
          "base_uri": "https://localhost:8080/"
        },
        "id": "H2IG7JBc3FMB",
        "outputId": "a2456159-1071-4ed3-aca7-1e3a192c650a"
      },
      "source": [
        "permutation_tsne = find_permutation(6, y, km_tsne.labels_)\n",
        "print(permutation_tsne)"
      ],
      "execution_count": null,
      "outputs": [
        {
          "output_type": "stream",
          "text": [
            "['normal', 'HER', 'basal', 'luminal_A', 'luminal_B', 'cell_line']\n"
          ],
          "name": "stdout"
        }
      ]
    },
    {
      "cell_type": "code",
      "metadata": {
        "colab": {
          "base_uri": "https://localhost:8080/"
        },
        "id": "6oJnkS513tqP",
        "outputId": "c5165b54-a02f-456c-b6dc-3b352230df21"
      },
      "source": [
        "new_labels_tsne = [permutation_tsne[label] for label in km_tsne.labels_]\n",
        "print(\"Accuracy score is\", accuracy_score(y, new_labels_tsne))"
      ],
      "execution_count": null,
      "outputs": [
        {
          "output_type": "stream",
          "text": [
            "Accuracy score is 0.8675496688741722\n"
          ],
          "name": "stdout"
        }
      ]
    },
    {
      "cell_type": "code",
      "metadata": {
        "colab": {
          "base_uri": "https://localhost:8080/",
          "height": 334
        },
        "id": "NLGH7tAp4nhU",
        "outputId": "e488ebe2-3358-450a-fecd-26c1d6f693b7"
      },
      "source": [
        "# plot confusion matrix\n",
        "label = [ 'HER','basal','cell_line', 'luminal_A','luminal_B','normal']\n",
        "mat_tsne = confusion_matrix(y, new_labels_tsne)\n",
        "sns.heatmap(mat_tsne.T, square=True, annot=True, fmt='d', cbar=False,\n",
        "            xticklabels=label,\n",
        "            yticklabels=label\n",
        "            )\n",
        "plt.title(\" K-Means tsne Confusion Matrix \")\n",
        "plt.xlabel('predicted label')\n",
        "plt.ylabel('true label');\n",
        "#plt.savefig('confustion_matrix_2')"
      ],
      "execution_count": null,
      "outputs": [
        {
          "output_type": "display_data",
          "data": {
            "image/png": "[encoded data removed]",
            "text/plain": [
              "<Figure size 432x288 with 1 Axes>"
            ]
          },
          "metadata": {
            "needs_background": "light"
          }
        }
      ]
    },
    {
      "cell_type": "code",
      "metadata": {
        "colab": {
          "base_uri": "https://localhost:8080/"
        },
        "id": "q-lInU-yJSxS",
        "outputId": "291ae0ac-c242-4d72-8b8e-5d68b450882b"
      },
      "source": [
        "print(\"\\033[1m\"  +'      ' +  ' K-Means TSNE Model 3'  + \"\\033[0m\"    )\n",
        "print(\"                                                          \")\n",
        "print(\"Correctly Classified Instances = {}.\".format(accuracy_score(y, new_labels_tsne, normalize=False)))\n",
        "print(\"Percentage of Correctly Classified Instances = {:.2f}.\".format(accuracy_score(y, new_labels_tsne,)))\n",
        "print('Kappa statistic= {:.2f}.'. format(cohen_kappa_score(y , new_labels_tsne)))\n",
        "#print('Mean absolute error = {:.2f}.'. format(mean_absolute_error(y , new_labels_KMeans,)))# multioutput= 'uniform_average'\n",
        "#print('Root Mean Squared error = {:.2f}.'. format(mean_squared_error (y , new_labels_KMeans, squared=False)))\n",
        "print('Matthews Corrcoef = {:.2f}.'. format(matthews_corrcoef(y, new_labels_tsne)))\n",
        "print(\"Accuracy =% 0.2f \" % (accuracy_score(y, new_labels_tsne)))\n",
        "print(\"                                                          \")\n",
        "print(\"\\033[1m\"  +'                 ' +  'Detailed Accuracy By Class' + \"\\033[0m\" )\n",
        "print(classification_report(y, new_labels_tsne, target_names=label ))"
      ],
      "execution_count": null,
      "outputs": [
        {
          "output_type": "stream",
          "text": [
            "\u001b[1m       K-Means TSNE Model 3\u001b[0m\n",
            "                                                          \n",
            "Correctly Classified Instances = 131.\n",
            "Percentage of Correctly Classified Instances = 0.87.\n",
            "Kappa statistic= 0.84.\n",
            "Matthews Corrcoef = 0.84.\n",
            "Accuracy = 0.87 \n",
            "                                                          \n",
            "\u001b[1m                 Detailed Accuracy By Class\u001b[0m\n",
            "              precision    recall  f1-score   support\n",
            "\n",
            "         HER       0.82      0.93      0.87        30\n",
            "       basal       0.97      0.90      0.94        41\n",
            "   cell_line       1.00      1.00      1.00        14\n",
            "   luminal_A       0.83      0.86      0.85        29\n",
            "   luminal_B       0.91      0.67      0.77        30\n",
            "      normal       0.54      1.00      0.70         7\n",
            "\n",
            "    accuracy                           0.87       151\n",
            "   macro avg       0.85      0.89      0.85       151\n",
            "weighted avg       0.89      0.87      0.87       151\n",
            "\n"
          ],
          "name": "stdout"
        }
      ]
    },
    {
      "cell_type": "code",
      "metadata": {
        "id": "WtFqxjcK4nzX"
      },
      "source": [
        ""
      ],
      "execution_count": null,
      "outputs": []
    },
    {
      "cell_type": "code",
      "metadata": {
        "id": "QXFEA8UI4n-n"
      },
      "source": [
        ""
      ],
      "execution_count": null,
      "outputs": []
    },
    {
      "cell_type": "markdown",
      "metadata": {
        "id": "ZvEBxblfYnda"
      },
      "source": [
        "**Hierarchical clustering**"
      ]
    },
    {
      "cell_type": "code",
      "metadata": {
        "id": "iTkgd9MhYxsH"
      },
      "source": [
        "# for hierarchical clusterization\n",
        "from scipy.cluster.hierarchy import dendrogram, linkage  \n",
        "from scipy.spatial.distance import  pdist\n",
        "from matplotlib import pyplot as plt\n",
        "from sklearn.preprocessing import MinMaxScaler"
      ],
      "execution_count": null,
      "outputs": []
    },
    {
      "cell_type": "markdown",
      "metadata": {
        "id": "I1uq6N7weKFC"
      },
      "source": [
        "**Preprocessing**"
      ]
    },
    {
      "cell_type": "code",
      "metadata": {
        "colab": {
          "base_uri": "https://localhost:8080/"
        },
        "id": "NlpLvmE5TjzM",
        "outputId": "9b88ac24-1477-455b-d3eb-815f6e2db6f6"
      },
      "source": [
        "col = bc.columns[2:]\n",
        "col"
      ],
      "execution_count": null,
      "outputs": [
        {
          "output_type": "execute_result",
          "data": {
            "text/plain": [
              "Index(['1007_s_at', '1053_at', '117_at', '121_at', '1255_g_at', '1294_at',\n",
              "       '1316_at', '1320_at', '1405_i_at', '1431_at',\n",
              "       ...\n",
              "       'AFFX-r2-Ec-bioD-3_at', 'AFFX-r2-Ec-bioD-5_at', 'AFFX-r2-P1-cre-3_at',\n",
              "       'AFFX-r2-P1-cre-5_at', 'AFFX-ThrX-3_at', 'AFFX-ThrX-5_at',\n",
              "       'AFFX-ThrX-M_at', 'AFFX-TrpnX-3_at', 'AFFX-TrpnX-5_at',\n",
              "       'AFFX-TrpnX-M_at'],\n",
              "      dtype='object', length=54675)"
            ]
          },
          "metadata": {},
          "execution_count": 42
        }
      ]
    },
    {
      "cell_type": "code",
      "metadata": {
        "colab": {
          "base_uri": "https://localhost:8080/",
          "height": 302
        },
        "id": "l_lHOfdkrew1",
        "outputId": "3e7451ce-da5c-4433-f81c-762ca22c4e0e"
      },
      "source": [
        "from sklearn.preprocessing import normalize\n",
        "data_scaled = normalize(data)\n",
        "data_scaled = pd.DataFrame(data_scaled, columns=col)\n",
        "data_scaled.head()"
      ],
      "execution_count": null,
      "outputs": [
        {
          "output_type": "execute_result",
          "data": {
            "text/html": [
              "<div>\n",
              "<style scoped>\n",
              "    .dataframe tbody tr th:only-of-type {\n",
              "        vertical-align: middle;\n",
              "    }\n",
              "\n",
              "    .dataframe tbody tr th {\n",
              "        vertical-align: top;\n",
              "    }\n",
              "\n",
              "    .dataframe thead th {\n",
              "        text-align: right;\n",
              "    }\n",
              "</style>\n",
              "<table border=\"1\" class=\"dataframe\">\n",
              "  <thead>\n",
              "    <tr style=\"text-align: right;\">\n",
              "      <th></th>\n",
              "      <th>1007_s_at</th>\n",
              "      <th>1053_at</th>\n",
              "      <th>117_at</th>\n",
              "      <th>121_at</th>\n",
              "      <th>1255_g_at</th>\n",
              "      <th>1294_at</th>\n",
              "      <th>1316_at</th>\n",
              "      <th>1320_at</th>\n",
              "      <th>1405_i_at</th>\n",
              "      <th>1431_at</th>\n",
              "      <th>1438_at</th>\n",
              "      <th>1487_at</th>\n",
              "      <th>1494_f_at</th>\n",
              "      <th>1552256_a_at</th>\n",
              "      <th>1552257_a_at</th>\n",
              "      <th>1552258_at</th>\n",
              "      <th>1552261_at</th>\n",
              "      <th>1552263_at</th>\n",
              "      <th>1552264_a_at</th>\n",
              "      <th>1552266_at</th>\n",
              "      <th>1552269_at</th>\n",
              "      <th>1552271_at</th>\n",
              "      <th>1552272_a_at</th>\n",
              "      <th>1552274_at</th>\n",
              "      <th>1552275_s_at</th>\n",
              "      <th>1552276_a_at</th>\n",
              "      <th>1552277_a_at</th>\n",
              "      <th>1552278_a_at</th>\n",
              "      <th>1552279_a_at</th>\n",
              "      <th>1552280_at</th>\n",
              "      <th>1552281_at</th>\n",
              "      <th>1552283_s_at</th>\n",
              "      <th>1552286_at</th>\n",
              "      <th>1552287_s_at</th>\n",
              "      <th>1552288_at</th>\n",
              "      <th>1552289_a_at</th>\n",
              "      <th>1552291_at</th>\n",
              "      <th>1552293_at</th>\n",
              "      <th>1552295_a_at</th>\n",
              "      <th>1552296_at</th>\n",
              "      <th>...</th>\n",
              "      <th>AFFX-HUMISGF3A/M97935_MB_at</th>\n",
              "      <th>AFFX-HUMRGE/M10098_3_at</th>\n",
              "      <th>AFFX-HUMRGE/M10098_5_at</th>\n",
              "      <th>AFFX-HUMRGE/M10098_M_at</th>\n",
              "      <th>AFFX-LysX-3_at</th>\n",
              "      <th>AFFX-LysX-5_at</th>\n",
              "      <th>AFFX-LysX-M_at</th>\n",
              "      <th>AFFX-M27830_3_at</th>\n",
              "      <th>AFFX-M27830_5_at</th>\n",
              "      <th>AFFX-M27830_M_at</th>\n",
              "      <th>AFFX-PheX-3_at</th>\n",
              "      <th>AFFX-PheX-5_at</th>\n",
              "      <th>AFFX-PheX-M_at</th>\n",
              "      <th>AFFX-r2-Bs-dap-3_at</th>\n",
              "      <th>AFFX-r2-Bs-dap-5_at</th>\n",
              "      <th>AFFX-r2-Bs-dap-M_at</th>\n",
              "      <th>AFFX-r2-Bs-lys-3_at</th>\n",
              "      <th>AFFX-r2-Bs-lys-5_at</th>\n",
              "      <th>AFFX-r2-Bs-lys-M_at</th>\n",
              "      <th>AFFX-r2-Bs-phe-3_at</th>\n",
              "      <th>AFFX-r2-Bs-phe-5_at</th>\n",
              "      <th>AFFX-r2-Bs-phe-M_at</th>\n",
              "      <th>AFFX-r2-Bs-thr-3_s_at</th>\n",
              "      <th>AFFX-r2-Bs-thr-5_s_at</th>\n",
              "      <th>AFFX-r2-Bs-thr-M_s_at</th>\n",
              "      <th>AFFX-r2-Ec-bioB-3_at</th>\n",
              "      <th>AFFX-r2-Ec-bioB-5_at</th>\n",
              "      <th>AFFX-r2-Ec-bioB-M_at</th>\n",
              "      <th>AFFX-r2-Ec-bioC-3_at</th>\n",
              "      <th>AFFX-r2-Ec-bioC-5_at</th>\n",
              "      <th>AFFX-r2-Ec-bioD-3_at</th>\n",
              "      <th>AFFX-r2-Ec-bioD-5_at</th>\n",
              "      <th>AFFX-r2-P1-cre-3_at</th>\n",
              "      <th>AFFX-r2-P1-cre-5_at</th>\n",
              "      <th>AFFX-ThrX-3_at</th>\n",
              "      <th>AFFX-ThrX-5_at</th>\n",
              "      <th>AFFX-ThrX-M_at</th>\n",
              "      <th>AFFX-TrpnX-3_at</th>\n",
              "      <th>AFFX-TrpnX-5_at</th>\n",
              "      <th>AFFX-TrpnX-M_at</th>\n",
              "    </tr>\n",
              "  </thead>\n",
              "  <tbody>\n",
              "    <tr>\n",
              "      <th>0</th>\n",
              "      <td>0.006955</td>\n",
              "      <td>0.005717</td>\n",
              "      <td>0.004536</td>\n",
              "      <td>0.005192</td>\n",
              "      <td>0.002139</td>\n",
              "      <td>0.004858</td>\n",
              "      <td>0.003505</td>\n",
              "      <td>0.003112</td>\n",
              "      <td>0.006263</td>\n",
              "      <td>0.002315</td>\n",
              "      <td>0.005166</td>\n",
              "      <td>0.004901</td>\n",
              "      <td>0.003356</td>\n",
              "      <td>0.006841</td>\n",
              "      <td>0.006728</td>\n",
              "      <td>0.003118</td>\n",
              "      <td>0.002867</td>\n",
              "      <td>0.004567</td>\n",
              "      <td>0.006122</td>\n",
              "      <td>0.002659</td>\n",
              "      <td>0.002620</td>\n",
              "      <td>0.003584</td>\n",
              "      <td>0.003136</td>\n",
              "      <td>0.004760</td>\n",
              "      <td>0.003973</td>\n",
              "      <td>0.003895</td>\n",
              "      <td>0.005724</td>\n",
              "      <td>0.003499</td>\n",
              "      <td>0.004089</td>\n",
              "      <td>0.002520</td>\n",
              "      <td>0.004016</td>\n",
              "      <td>0.002932</td>\n",
              "      <td>0.003464</td>\n",
              "      <td>0.005794</td>\n",
              "      <td>0.003152</td>\n",
              "      <td>0.003662</td>\n",
              "      <td>0.004195</td>\n",
              "      <td>0.002959</td>\n",
              "      <td>0.005234</td>\n",
              "      <td>0.002317</td>\n",
              "      <td>...</td>\n",
              "      <td>0.006365</td>\n",
              "      <td>0.008508</td>\n",
              "      <td>0.010415</td>\n",
              "      <td>0.009432</td>\n",
              "      <td>0.003938</td>\n",
              "      <td>0.002546</td>\n",
              "      <td>0.003164</td>\n",
              "      <td>0.003890</td>\n",
              "      <td>0.007445</td>\n",
              "      <td>0.007908</td>\n",
              "      <td>0.004188</td>\n",
              "      <td>0.003003</td>\n",
              "      <td>0.003567</td>\n",
              "      <td>0.005495</td>\n",
              "      <td>0.004982</td>\n",
              "      <td>0.005499</td>\n",
              "      <td>0.003378</td>\n",
              "      <td>0.002784</td>\n",
              "      <td>0.002756</td>\n",
              "      <td>0.004320</td>\n",
              "      <td>0.003150</td>\n",
              "      <td>0.003356</td>\n",
              "      <td>0.004774</td>\n",
              "      <td>0.003741</td>\n",
              "      <td>0.004271</td>\n",
              "      <td>0.005855</td>\n",
              "      <td>0.005807</td>\n",
              "      <td>0.005884</td>\n",
              "      <td>0.006958</td>\n",
              "      <td>0.006936</td>\n",
              "      <td>0.008635</td>\n",
              "      <td>0.008369</td>\n",
              "      <td>0.009644</td>\n",
              "      <td>0.009516</td>\n",
              "      <td>0.004424</td>\n",
              "      <td>0.003542</td>\n",
              "      <td>0.003461</td>\n",
              "      <td>0.002095</td>\n",
              "      <td>0.002477</td>\n",
              "      <td>0.002331</td>\n",
              "    </tr>\n",
              "    <tr>\n",
              "      <th>1</th>\n",
              "      <td>0.006941</td>\n",
              "      <td>0.005780</td>\n",
              "      <td>0.004971</td>\n",
              "      <td>0.005409</td>\n",
              "      <td>0.002217</td>\n",
              "      <td>0.005308</td>\n",
              "      <td>0.003610</td>\n",
              "      <td>0.003227</td>\n",
              "      <td>0.005467</td>\n",
              "      <td>0.002526</td>\n",
              "      <td>0.006171</td>\n",
              "      <td>0.005326</td>\n",
              "      <td>0.003420</td>\n",
              "      <td>0.005954</td>\n",
              "      <td>0.006316</td>\n",
              "      <td>0.003170</td>\n",
              "      <td>0.003794</td>\n",
              "      <td>0.004755</td>\n",
              "      <td>0.005705</td>\n",
              "      <td>0.003274</td>\n",
              "      <td>0.002770</td>\n",
              "      <td>0.003680</td>\n",
              "      <td>0.003135</td>\n",
              "      <td>0.004552</td>\n",
              "      <td>0.004081</td>\n",
              "      <td>0.003734</td>\n",
              "      <td>0.005283</td>\n",
              "      <td>0.003263</td>\n",
              "      <td>0.004151</td>\n",
              "      <td>0.002639</td>\n",
              "      <td>0.003929</td>\n",
              "      <td>0.003131</td>\n",
              "      <td>0.004132</td>\n",
              "      <td>0.005097</td>\n",
              "      <td>0.002772</td>\n",
              "      <td>0.003082</td>\n",
              "      <td>0.004430</td>\n",
              "      <td>0.002856</td>\n",
              "      <td>0.004786</td>\n",
              "      <td>0.002114</td>\n",
              "      <td>...</td>\n",
              "      <td>0.006596</td>\n",
              "      <td>0.005817</td>\n",
              "      <td>0.006995</td>\n",
              "      <td>0.006692</td>\n",
              "      <td>0.004296</td>\n",
              "      <td>0.002803</td>\n",
              "      <td>0.003338</td>\n",
              "      <td>0.003818</td>\n",
              "      <td>0.006251</td>\n",
              "      <td>0.007847</td>\n",
              "      <td>0.004456</td>\n",
              "      <td>0.003347</td>\n",
              "      <td>0.003853</td>\n",
              "      <td>0.006012</td>\n",
              "      <td>0.005361</td>\n",
              "      <td>0.005798</td>\n",
              "      <td>0.003667</td>\n",
              "      <td>0.002772</td>\n",
              "      <td>0.003205</td>\n",
              "      <td>0.004235</td>\n",
              "      <td>0.003818</td>\n",
              "      <td>0.003489</td>\n",
              "      <td>0.005212</td>\n",
              "      <td>0.003952</td>\n",
              "      <td>0.004658</td>\n",
              "      <td>0.005789</td>\n",
              "      <td>0.005919</td>\n",
              "      <td>0.005982</td>\n",
              "      <td>0.007082</td>\n",
              "      <td>0.006895</td>\n",
              "      <td>0.008571</td>\n",
              "      <td>0.008312</td>\n",
              "      <td>0.009677</td>\n",
              "      <td>0.009480</td>\n",
              "      <td>0.004766</td>\n",
              "      <td>0.003724</td>\n",
              "      <td>0.003805</td>\n",
              "      <td>0.002066</td>\n",
              "      <td>0.002595</td>\n",
              "      <td>0.002157</td>\n",
              "    </tr>\n",
              "    <tr>\n",
              "      <th>2</th>\n",
              "      <td>0.007136</td>\n",
              "      <td>0.006312</td>\n",
              "      <td>0.004052</td>\n",
              "      <td>0.005430</td>\n",
              "      <td>0.002208</td>\n",
              "      <td>0.004635</td>\n",
              "      <td>0.003400</td>\n",
              "      <td>0.003126</td>\n",
              "      <td>0.006652</td>\n",
              "      <td>0.002509</td>\n",
              "      <td>0.005612</td>\n",
              "      <td>0.005113</td>\n",
              "      <td>0.003442</td>\n",
              "      <td>0.006617</td>\n",
              "      <td>0.006451</td>\n",
              "      <td>0.003079</td>\n",
              "      <td>0.003140</td>\n",
              "      <td>0.003869</td>\n",
              "      <td>0.006182</td>\n",
              "      <td>0.002505</td>\n",
              "      <td>0.003012</td>\n",
              "      <td>0.003891</td>\n",
              "      <td>0.003266</td>\n",
              "      <td>0.005017</td>\n",
              "      <td>0.004691</td>\n",
              "      <td>0.003631</td>\n",
              "      <td>0.004996</td>\n",
              "      <td>0.003340</td>\n",
              "      <td>0.004403</td>\n",
              "      <td>0.002661</td>\n",
              "      <td>0.004244</td>\n",
              "      <td>0.002961</td>\n",
              "      <td>0.004038</td>\n",
              "      <td>0.005516</td>\n",
              "      <td>0.002902</td>\n",
              "      <td>0.003540</td>\n",
              "      <td>0.005127</td>\n",
              "      <td>0.003059</td>\n",
              "      <td>0.004875</td>\n",
              "      <td>0.002848</td>\n",
              "      <td>...</td>\n",
              "      <td>0.006246</td>\n",
              "      <td>0.007234</td>\n",
              "      <td>0.009610</td>\n",
              "      <td>0.008324</td>\n",
              "      <td>0.004134</td>\n",
              "      <td>0.002648</td>\n",
              "      <td>0.003113</td>\n",
              "      <td>0.004181</td>\n",
              "      <td>0.006843</td>\n",
              "      <td>0.008194</td>\n",
              "      <td>0.004266</td>\n",
              "      <td>0.003048</td>\n",
              "      <td>0.003726</td>\n",
              "      <td>0.005672</td>\n",
              "      <td>0.005003</td>\n",
              "      <td>0.005589</td>\n",
              "      <td>0.003338</td>\n",
              "      <td>0.002851</td>\n",
              "      <td>0.002925</td>\n",
              "      <td>0.004115</td>\n",
              "      <td>0.003555</td>\n",
              "      <td>0.003365</td>\n",
              "      <td>0.004963</td>\n",
              "      <td>0.003848</td>\n",
              "      <td>0.004511</td>\n",
              "      <td>0.005805</td>\n",
              "      <td>0.005799</td>\n",
              "      <td>0.005849</td>\n",
              "      <td>0.006851</td>\n",
              "      <td>0.006676</td>\n",
              "      <td>0.008564</td>\n",
              "      <td>0.008282</td>\n",
              "      <td>0.009621</td>\n",
              "      <td>0.009391</td>\n",
              "      <td>0.004483</td>\n",
              "      <td>0.003653</td>\n",
              "      <td>0.003662</td>\n",
              "      <td>0.002011</td>\n",
              "      <td>0.002508</td>\n",
              "      <td>0.002231</td>\n",
              "    </tr>\n",
              "    <tr>\n",
              "      <th>3</th>\n",
              "      <td>0.006892</td>\n",
              "      <td>0.005197</td>\n",
              "      <td>0.004577</td>\n",
              "      <td>0.004935</td>\n",
              "      <td>0.002247</td>\n",
              "      <td>0.005512</td>\n",
              "      <td>0.003879</td>\n",
              "      <td>0.003227</td>\n",
              "      <td>0.006373</td>\n",
              "      <td>0.002340</td>\n",
              "      <td>0.005478</td>\n",
              "      <td>0.005000</td>\n",
              "      <td>0.003438</td>\n",
              "      <td>0.005503</td>\n",
              "      <td>0.005090</td>\n",
              "      <td>0.003306</td>\n",
              "      <td>0.002947</td>\n",
              "      <td>0.004228</td>\n",
              "      <td>0.005090</td>\n",
              "      <td>0.002521</td>\n",
              "      <td>0.002338</td>\n",
              "      <td>0.003650</td>\n",
              "      <td>0.002939</td>\n",
              "      <td>0.004754</td>\n",
              "      <td>0.004079</td>\n",
              "      <td>0.004304</td>\n",
              "      <td>0.005061</td>\n",
              "      <td>0.003464</td>\n",
              "      <td>0.004045</td>\n",
              "      <td>0.002495</td>\n",
              "      <td>0.003993</td>\n",
              "      <td>0.002824</td>\n",
              "      <td>0.004345</td>\n",
              "      <td>0.005078</td>\n",
              "      <td>0.003058</td>\n",
              "      <td>0.003627</td>\n",
              "      <td>0.004450</td>\n",
              "      <td>0.002962</td>\n",
              "      <td>0.005003</td>\n",
              "      <td>0.002295</td>\n",
              "      <td>...</td>\n",
              "      <td>0.007456</td>\n",
              "      <td>0.006493</td>\n",
              "      <td>0.008580</td>\n",
              "      <td>0.007783</td>\n",
              "      <td>0.004219</td>\n",
              "      <td>0.002585</td>\n",
              "      <td>0.003290</td>\n",
              "      <td>0.003891</td>\n",
              "      <td>0.006543</td>\n",
              "      <td>0.008010</td>\n",
              "      <td>0.004376</td>\n",
              "      <td>0.003038</td>\n",
              "      <td>0.003583</td>\n",
              "      <td>0.005756</td>\n",
              "      <td>0.005332</td>\n",
              "      <td>0.005623</td>\n",
              "      <td>0.003692</td>\n",
              "      <td>0.002516</td>\n",
              "      <td>0.003042</td>\n",
              "      <td>0.004224</td>\n",
              "      <td>0.003545</td>\n",
              "      <td>0.003442</td>\n",
              "      <td>0.004992</td>\n",
              "      <td>0.003937</td>\n",
              "      <td>0.004689</td>\n",
              "      <td>0.005781</td>\n",
              "      <td>0.005868</td>\n",
              "      <td>0.005816</td>\n",
              "      <td>0.007002</td>\n",
              "      <td>0.006790</td>\n",
              "      <td>0.008555</td>\n",
              "      <td>0.008278</td>\n",
              "      <td>0.009708</td>\n",
              "      <td>0.009543</td>\n",
              "      <td>0.004669</td>\n",
              "      <td>0.003669</td>\n",
              "      <td>0.003593</td>\n",
              "      <td>0.002141</td>\n",
              "      <td>0.002490</td>\n",
              "      <td>0.002312</td>\n",
              "    </tr>\n",
              "    <tr>\n",
              "      <th>4</th>\n",
              "      <td>0.006636</td>\n",
              "      <td>0.005464</td>\n",
              "      <td>0.004721</td>\n",
              "      <td>0.005172</td>\n",
              "      <td>0.002236</td>\n",
              "      <td>0.005368</td>\n",
              "      <td>0.003789</td>\n",
              "      <td>0.003121</td>\n",
              "      <td>0.006630</td>\n",
              "      <td>0.002376</td>\n",
              "      <td>0.006385</td>\n",
              "      <td>0.004859</td>\n",
              "      <td>0.003484</td>\n",
              "      <td>0.005948</td>\n",
              "      <td>0.006518</td>\n",
              "      <td>0.003308</td>\n",
              "      <td>0.002980</td>\n",
              "      <td>0.004504</td>\n",
              "      <td>0.005454</td>\n",
              "      <td>0.002986</td>\n",
              "      <td>0.003098</td>\n",
              "      <td>0.003714</td>\n",
              "      <td>0.002935</td>\n",
              "      <td>0.004926</td>\n",
              "      <td>0.004387</td>\n",
              "      <td>0.003659</td>\n",
              "      <td>0.005802</td>\n",
              "      <td>0.003695</td>\n",
              "      <td>0.004349</td>\n",
              "      <td>0.002469</td>\n",
              "      <td>0.004017</td>\n",
              "      <td>0.003032</td>\n",
              "      <td>0.003676</td>\n",
              "      <td>0.005437</td>\n",
              "      <td>0.003521</td>\n",
              "      <td>0.004133</td>\n",
              "      <td>0.004385</td>\n",
              "      <td>0.002820</td>\n",
              "      <td>0.004959</td>\n",
              "      <td>0.002563</td>\n",
              "      <td>...</td>\n",
              "      <td>0.006814</td>\n",
              "      <td>0.008112</td>\n",
              "      <td>0.008886</td>\n",
              "      <td>0.008190</td>\n",
              "      <td>0.004065</td>\n",
              "      <td>0.002481</td>\n",
              "      <td>0.003185</td>\n",
              "      <td>0.003878</td>\n",
              "      <td>0.006585</td>\n",
              "      <td>0.008074</td>\n",
              "      <td>0.004283</td>\n",
              "      <td>0.003042</td>\n",
              "      <td>0.003645</td>\n",
              "      <td>0.005769</td>\n",
              "      <td>0.005291</td>\n",
              "      <td>0.005594</td>\n",
              "      <td>0.003454</td>\n",
              "      <td>0.002617</td>\n",
              "      <td>0.002789</td>\n",
              "      <td>0.004182</td>\n",
              "      <td>0.003463</td>\n",
              "      <td>0.003295</td>\n",
              "      <td>0.004945</td>\n",
              "      <td>0.003846</td>\n",
              "      <td>0.004479</td>\n",
              "      <td>0.005859</td>\n",
              "      <td>0.005953</td>\n",
              "      <td>0.005868</td>\n",
              "      <td>0.006961</td>\n",
              "      <td>0.006810</td>\n",
              "      <td>0.008586</td>\n",
              "      <td>0.008366</td>\n",
              "      <td>0.009732</td>\n",
              "      <td>0.009552</td>\n",
              "      <td>0.004524</td>\n",
              "      <td>0.003555</td>\n",
              "      <td>0.003693</td>\n",
              "      <td>0.002085</td>\n",
              "      <td>0.002430</td>\n",
              "      <td>0.002253</td>\n",
              "    </tr>\n",
              "  </tbody>\n",
              "</table>\n",
              "<p>5 rows × 54675 columns</p>\n",
              "</div>"
            ],
            "text/plain": [
              "   1007_s_at   1053_at  ...  AFFX-TrpnX-5_at  AFFX-TrpnX-M_at\n",
              "0   0.006955  0.005717  ...         0.002477         0.002331\n",
              "1   0.006941  0.005780  ...         0.002595         0.002157\n",
              "2   0.007136  0.006312  ...         0.002508         0.002231\n",
              "3   0.006892  0.005197  ...         0.002490         0.002312\n",
              "4   0.006636  0.005464  ...         0.002430         0.002253\n",
              "\n",
              "[5 rows x 54675 columns]"
            ]
          },
          "metadata": {},
          "execution_count": 43
        }
      ]
    },
    {
      "cell_type": "code",
      "metadata": {
        "colab": {
          "base_uri": "https://localhost:8080/",
          "height": 444
        },
        "id": "5Tr_wOz9s5l5",
        "outputId": "04866a96-1ee7-4de8-f563-ba9103368dad"
      },
      "source": [
        "import scipy.cluster.hierarchy as shc\n",
        "plt.figure(figsize=(10,7))\n",
        "plt.title(\"Dendrograms : method = Ward\")\n",
        "dend = shc.dendrogram(shc.linkage(data_scaled, method ='ward'))"
      ],
      "execution_count": null,
      "outputs": [
        {
          "output_type": "display_data",
          "data": {
            "image/png": "[encoded data removed]",
            "text/plain": [
              "<Figure size 720x504 with 1 Axes>"
            ]
          },
          "metadata": {
            "needs_background": "light"
          }
        }
      ]
    },
    {
      "cell_type": "markdown",
      "metadata": {
        "id": "_YlkrHKXuExy"
      },
      "source": [
        ""
      ]
    },
    {
      "cell_type": "code",
      "metadata": {
        "colab": {
          "base_uri": "https://localhost:8080/"
        },
        "id": "p_5e57CRuE6q",
        "outputId": "2413f8da-c7af-440c-a671-012d00b96e30"
      },
      "source": [
        "from sklearn.cluster import AgglomerativeClustering\n",
        "cluster = AgglomerativeClustering(n_clusters = 6, affinity= 'euclidean', linkage= 'ward')\n",
        "pred_y_hc = cluster.fit_predict(data_scaled)\n",
        "pred_y_hc"
      ],
      "execution_count": null,
      "outputs": [
        {
          "output_type": "execute_result",
          "data": {
            "text/plain": [
              "array([4, 4, 4, 4, 4, 4, 4, 4, 4, 4, 4, 4, 1, 4, 4, 4, 4, 4, 4, 4, 4, 4,\n",
              "       4, 4, 4, 4, 1, 4, 4, 4, 4, 4, 4, 4, 4, 4, 1, 4, 4, 4, 4, 1, 1, 1,\n",
              "       1, 1, 1, 1, 1, 1, 1, 1, 1, 1, 1, 1, 1, 1, 1, 1, 4, 1, 1, 4, 1, 4,\n",
              "       4, 4, 1, 1, 1, 0, 0, 0, 0, 0, 0, 0, 0, 0, 0, 0, 0, 0, 0, 3, 3, 3,\n",
              "       3, 3, 3, 3, 5, 5, 5, 5, 5, 5, 5, 5, 5, 5, 2, 5, 5, 5, 5, 5, 5, 5,\n",
              "       5, 5, 2, 5, 2, 5, 5, 5, 5, 5, 2, 2, 2, 2, 2, 2, 2, 2, 2, 2, 2, 2,\n",
              "       2, 2, 5, 2, 2, 2, 2, 2, 5, 2, 2, 2, 2, 2, 2, 2, 2, 2, 2])"
            ]
          },
          "metadata": {},
          "execution_count": 45
        }
      ]
    },
    {
      "cell_type": "code",
      "metadata": {
        "colab": {
          "base_uri": "https://localhost:8080/"
        },
        "id": "yJbAgEDT3trf",
        "outputId": "bd1d3a04-f91e-4e6c-9247-34e5b654cf5e"
      },
      "source": [
        "cluster"
      ],
      "execution_count": null,
      "outputs": [
        {
          "output_type": "execute_result",
          "data": {
            "text/plain": [
              "AgglomerativeClustering(affinity='euclidean', compute_full_tree='auto',\n",
              "                        connectivity=None, distance_threshold=None,\n",
              "                        linkage='ward', memory=None, n_clusters=6)"
            ]
          },
          "metadata": {},
          "execution_count": 46
        }
      ]
    },
    {
      "cell_type": "code",
      "metadata": {
        "id": "cRPIjKeCklQq"
      },
      "source": [
        "## creating a new dataframe only for pred_y_kms and converting it into categorical variable\n",
        "df_labels_hc = pd.DataFrame(cluster.labels_ , columns = list(['label']))\n",
        "\n",
        "df_labels_hc['label'] = df_labels_hc['label'].astype('category')"
      ],
      "execution_count": null,
      "outputs": []
    },
    {
      "cell_type": "code",
      "metadata": {
        "colab": {
          "base_uri": "https://localhost:8080/",
          "height": 304
        },
        "id": "Ey4Narp5BRWJ",
        "outputId": "2e40eac0-2135-4c55-c613-78205045aa90"
      },
      "source": [
        "# Joining the label dataframe with the original data frame. \n",
        "df_labels_hc = bc.join(df_labels_hc)\n",
        "df_labels_hc.head()"
      ],
      "execution_count": null,
      "outputs": [
        {
          "output_type": "execute_result",
          "data": {
            "text/html": [
              "<div>\n",
              "<style scoped>\n",
              "    .dataframe tbody tr th:only-of-type {\n",
              "        vertical-align: middle;\n",
              "    }\n",
              "\n",
              "    .dataframe tbody tr th {\n",
              "        vertical-align: top;\n",
              "    }\n",
              "\n",
              "    .dataframe thead th {\n",
              "        text-align: right;\n",
              "    }\n",
              "</style>\n",
              "<table border=\"1\" class=\"dataframe\">\n",
              "  <thead>\n",
              "    <tr style=\"text-align: right;\">\n",
              "      <th></th>\n",
              "      <th>samples</th>\n",
              "      <th>type</th>\n",
              "      <th>1007_s_at</th>\n",
              "      <th>1053_at</th>\n",
              "      <th>117_at</th>\n",
              "      <th>121_at</th>\n",
              "      <th>1255_g_at</th>\n",
              "      <th>1294_at</th>\n",
              "      <th>1316_at</th>\n",
              "      <th>1320_at</th>\n",
              "      <th>1405_i_at</th>\n",
              "      <th>1431_at</th>\n",
              "      <th>1438_at</th>\n",
              "      <th>1487_at</th>\n",
              "      <th>1494_f_at</th>\n",
              "      <th>1552256_a_at</th>\n",
              "      <th>1552257_a_at</th>\n",
              "      <th>1552258_at</th>\n",
              "      <th>1552261_at</th>\n",
              "      <th>1552263_at</th>\n",
              "      <th>1552264_a_at</th>\n",
              "      <th>1552266_at</th>\n",
              "      <th>1552269_at</th>\n",
              "      <th>1552271_at</th>\n",
              "      <th>1552272_a_at</th>\n",
              "      <th>1552274_at</th>\n",
              "      <th>1552275_s_at</th>\n",
              "      <th>1552276_a_at</th>\n",
              "      <th>1552277_a_at</th>\n",
              "      <th>1552278_a_at</th>\n",
              "      <th>1552279_a_at</th>\n",
              "      <th>1552280_at</th>\n",
              "      <th>1552281_at</th>\n",
              "      <th>1552283_s_at</th>\n",
              "      <th>1552286_at</th>\n",
              "      <th>1552287_s_at</th>\n",
              "      <th>1552288_at</th>\n",
              "      <th>1552289_a_at</th>\n",
              "      <th>1552291_at</th>\n",
              "      <th>1552293_at</th>\n",
              "      <th>...</th>\n",
              "      <th>AFFX-HUMRGE/M10098_3_at</th>\n",
              "      <th>AFFX-HUMRGE/M10098_5_at</th>\n",
              "      <th>AFFX-HUMRGE/M10098_M_at</th>\n",
              "      <th>AFFX-LysX-3_at</th>\n",
              "      <th>AFFX-LysX-5_at</th>\n",
              "      <th>AFFX-LysX-M_at</th>\n",
              "      <th>AFFX-M27830_3_at</th>\n",
              "      <th>AFFX-M27830_5_at</th>\n",
              "      <th>AFFX-M27830_M_at</th>\n",
              "      <th>AFFX-PheX-3_at</th>\n",
              "      <th>AFFX-PheX-5_at</th>\n",
              "      <th>AFFX-PheX-M_at</th>\n",
              "      <th>AFFX-r2-Bs-dap-3_at</th>\n",
              "      <th>AFFX-r2-Bs-dap-5_at</th>\n",
              "      <th>AFFX-r2-Bs-dap-M_at</th>\n",
              "      <th>AFFX-r2-Bs-lys-3_at</th>\n",
              "      <th>AFFX-r2-Bs-lys-5_at</th>\n",
              "      <th>AFFX-r2-Bs-lys-M_at</th>\n",
              "      <th>AFFX-r2-Bs-phe-3_at</th>\n",
              "      <th>AFFX-r2-Bs-phe-5_at</th>\n",
              "      <th>AFFX-r2-Bs-phe-M_at</th>\n",
              "      <th>AFFX-r2-Bs-thr-3_s_at</th>\n",
              "      <th>AFFX-r2-Bs-thr-5_s_at</th>\n",
              "      <th>AFFX-r2-Bs-thr-M_s_at</th>\n",
              "      <th>AFFX-r2-Ec-bioB-3_at</th>\n",
              "      <th>AFFX-r2-Ec-bioB-5_at</th>\n",
              "      <th>AFFX-r2-Ec-bioB-M_at</th>\n",
              "      <th>AFFX-r2-Ec-bioC-3_at</th>\n",
              "      <th>AFFX-r2-Ec-bioC-5_at</th>\n",
              "      <th>AFFX-r2-Ec-bioD-3_at</th>\n",
              "      <th>AFFX-r2-Ec-bioD-5_at</th>\n",
              "      <th>AFFX-r2-P1-cre-3_at</th>\n",
              "      <th>AFFX-r2-P1-cre-5_at</th>\n",
              "      <th>AFFX-ThrX-3_at</th>\n",
              "      <th>AFFX-ThrX-5_at</th>\n",
              "      <th>AFFX-ThrX-M_at</th>\n",
              "      <th>AFFX-TrpnX-3_at</th>\n",
              "      <th>AFFX-TrpnX-5_at</th>\n",
              "      <th>AFFX-TrpnX-M_at</th>\n",
              "      <th>label</th>\n",
              "    </tr>\n",
              "  </thead>\n",
              "  <tbody>\n",
              "    <tr>\n",
              "      <th>0</th>\n",
              "      <td>84</td>\n",
              "      <td>basal</td>\n",
              "      <td>9.850040</td>\n",
              "      <td>8.097927</td>\n",
              "      <td>6.424728</td>\n",
              "      <td>7.353027</td>\n",
              "      <td>3.029122</td>\n",
              "      <td>6.880079</td>\n",
              "      <td>4.963740</td>\n",
              "      <td>4.408328</td>\n",
              "      <td>8.870780</td>\n",
              "      <td>3.278896</td>\n",
              "      <td>7.317273</td>\n",
              "      <td>6.941792</td>\n",
              "      <td>4.753893</td>\n",
              "      <td>9.689422</td>\n",
              "      <td>9.529578</td>\n",
              "      <td>4.416768</td>\n",
              "      <td>4.061347</td>\n",
              "      <td>6.468291</td>\n",
              "      <td>8.671009</td>\n",
              "      <td>3.766666</td>\n",
              "      <td>3.711459</td>\n",
              "      <td>5.076329</td>\n",
              "      <td>4.442042</td>\n",
              "      <td>6.741298</td>\n",
              "      <td>5.627442</td>\n",
              "      <td>5.516712</td>\n",
              "      <td>8.107136</td>\n",
              "      <td>4.956239</td>\n",
              "      <td>5.791279</td>\n",
              "      <td>3.569233</td>\n",
              "      <td>5.687476</td>\n",
              "      <td>4.152096</td>\n",
              "      <td>4.906925</td>\n",
              "      <td>8.206707</td>\n",
              "      <td>4.463950</td>\n",
              "      <td>5.186044</td>\n",
              "      <td>5.942088</td>\n",
              "      <td>4.191142</td>\n",
              "      <td>...</td>\n",
              "      <td>12.050521</td>\n",
              "      <td>14.750905</td>\n",
              "      <td>13.359472</td>\n",
              "      <td>5.576968</td>\n",
              "      <td>3.606041</td>\n",
              "      <td>4.481027</td>\n",
              "      <td>5.509117</td>\n",
              "      <td>10.544533</td>\n",
              "      <td>11.200692</td>\n",
              "      <td>5.932332</td>\n",
              "      <td>4.253946</td>\n",
              "      <td>5.052679</td>\n",
              "      <td>7.782348</td>\n",
              "      <td>7.056759</td>\n",
              "      <td>7.787824</td>\n",
              "      <td>4.784976</td>\n",
              "      <td>3.943038</td>\n",
              "      <td>3.903069</td>\n",
              "      <td>6.119248</td>\n",
              "      <td>4.461984</td>\n",
              "      <td>4.752744</td>\n",
              "      <td>6.761262</td>\n",
              "      <td>5.298281</td>\n",
              "      <td>6.048960</td>\n",
              "      <td>8.292124</td>\n",
              "      <td>8.225293</td>\n",
              "      <td>8.333853</td>\n",
              "      <td>9.854639</td>\n",
              "      <td>9.823275</td>\n",
              "      <td>12.229711</td>\n",
              "      <td>11.852955</td>\n",
              "      <td>13.658701</td>\n",
              "      <td>13.477698</td>\n",
              "      <td>6.265781</td>\n",
              "      <td>5.016196</td>\n",
              "      <td>4.901594</td>\n",
              "      <td>2.966657</td>\n",
              "      <td>3.508495</td>\n",
              "      <td>3.301999</td>\n",
              "      <td>4</td>\n",
              "    </tr>\n",
              "    <tr>\n",
              "      <th>1</th>\n",
              "      <td>85</td>\n",
              "      <td>basal</td>\n",
              "      <td>9.861357</td>\n",
              "      <td>8.212222</td>\n",
              "      <td>7.062593</td>\n",
              "      <td>7.685578</td>\n",
              "      <td>3.149468</td>\n",
              "      <td>7.542283</td>\n",
              "      <td>5.129607</td>\n",
              "      <td>4.584418</td>\n",
              "      <td>7.767646</td>\n",
              "      <td>3.589636</td>\n",
              "      <td>8.768129</td>\n",
              "      <td>7.567034</td>\n",
              "      <td>4.859823</td>\n",
              "      <td>8.459354</td>\n",
              "      <td>8.973671</td>\n",
              "      <td>4.503730</td>\n",
              "      <td>5.390424</td>\n",
              "      <td>6.756707</td>\n",
              "      <td>8.105795</td>\n",
              "      <td>4.651541</td>\n",
              "      <td>3.935309</td>\n",
              "      <td>5.228763</td>\n",
              "      <td>4.454780</td>\n",
              "      <td>6.468014</td>\n",
              "      <td>5.798596</td>\n",
              "      <td>5.306064</td>\n",
              "      <td>7.505800</td>\n",
              "      <td>4.636866</td>\n",
              "      <td>5.898319</td>\n",
              "      <td>3.749061</td>\n",
              "      <td>5.582313</td>\n",
              "      <td>4.449042</td>\n",
              "      <td>5.871074</td>\n",
              "      <td>7.242601</td>\n",
              "      <td>3.938327</td>\n",
              "      <td>4.378953</td>\n",
              "      <td>6.294126</td>\n",
              "      <td>4.058221</td>\n",
              "      <td>...</td>\n",
              "      <td>8.264719</td>\n",
              "      <td>9.938357</td>\n",
              "      <td>9.507651</td>\n",
              "      <td>6.103962</td>\n",
              "      <td>3.983087</td>\n",
              "      <td>4.742306</td>\n",
              "      <td>5.424172</td>\n",
              "      <td>8.881772</td>\n",
              "      <td>11.148811</td>\n",
              "      <td>6.330691</td>\n",
              "      <td>4.755615</td>\n",
              "      <td>5.474167</td>\n",
              "      <td>8.542725</td>\n",
              "      <td>7.617779</td>\n",
              "      <td>8.237535</td>\n",
              "      <td>5.209694</td>\n",
              "      <td>3.939264</td>\n",
              "      <td>4.553344</td>\n",
              "      <td>6.017351</td>\n",
              "      <td>5.425393</td>\n",
              "      <td>4.957182</td>\n",
              "      <td>7.405313</td>\n",
              "      <td>5.615380</td>\n",
              "      <td>6.617585</td>\n",
              "      <td>8.225366</td>\n",
              "      <td>8.409790</td>\n",
              "      <td>8.499343</td>\n",
              "      <td>10.061910</td>\n",
              "      <td>9.796947</td>\n",
              "      <td>12.178531</td>\n",
              "      <td>11.809408</td>\n",
              "      <td>13.750086</td>\n",
              "      <td>13.470146</td>\n",
              "      <td>6.771853</td>\n",
              "      <td>5.291005</td>\n",
              "      <td>5.405839</td>\n",
              "      <td>2.934763</td>\n",
              "      <td>3.687666</td>\n",
              "      <td>3.064299</td>\n",
              "      <td>4</td>\n",
              "    </tr>\n",
              "    <tr>\n",
              "      <th>2</th>\n",
              "      <td>87</td>\n",
              "      <td>basal</td>\n",
              "      <td>10.103478</td>\n",
              "      <td>8.936137</td>\n",
              "      <td>5.735970</td>\n",
              "      <td>7.687822</td>\n",
              "      <td>3.125931</td>\n",
              "      <td>6.562369</td>\n",
              "      <td>4.813449</td>\n",
              "      <td>4.425195</td>\n",
              "      <td>9.417956</td>\n",
              "      <td>3.552253</td>\n",
              "      <td>7.945085</td>\n",
              "      <td>7.238284</td>\n",
              "      <td>4.872635</td>\n",
              "      <td>9.367521</td>\n",
              "      <td>9.133688</td>\n",
              "      <td>4.358608</td>\n",
              "      <td>4.445164</td>\n",
              "      <td>5.476936</td>\n",
              "      <td>8.752115</td>\n",
              "      <td>3.546838</td>\n",
              "      <td>4.263868</td>\n",
              "      <td>5.509159</td>\n",
              "      <td>4.624205</td>\n",
              "      <td>7.103216</td>\n",
              "      <td>6.641263</td>\n",
              "      <td>5.141131</td>\n",
              "      <td>7.072525</td>\n",
              "      <td>4.728196</td>\n",
              "      <td>6.233648</td>\n",
              "      <td>3.766725</td>\n",
              "      <td>6.008163</td>\n",
              "      <td>4.191390</td>\n",
              "      <td>5.717077</td>\n",
              "      <td>7.809222</td>\n",
              "      <td>4.108028</td>\n",
              "      <td>5.012451</td>\n",
              "      <td>7.258626</td>\n",
              "      <td>4.330997</td>\n",
              "      <td>...</td>\n",
              "      <td>10.241912</td>\n",
              "      <td>13.605901</td>\n",
              "      <td>11.784269</td>\n",
              "      <td>5.853014</td>\n",
              "      <td>3.748889</td>\n",
              "      <td>4.407490</td>\n",
              "      <td>5.919699</td>\n",
              "      <td>9.687444</td>\n",
              "      <td>11.601339</td>\n",
              "      <td>6.040000</td>\n",
              "      <td>4.314678</td>\n",
              "      <td>5.274790</td>\n",
              "      <td>8.030696</td>\n",
              "      <td>7.082369</td>\n",
              "      <td>7.912491</td>\n",
              "      <td>4.725483</td>\n",
              "      <td>4.036020</td>\n",
              "      <td>4.141341</td>\n",
              "      <td>5.825904</td>\n",
              "      <td>5.032693</td>\n",
              "      <td>4.764559</td>\n",
              "      <td>7.026349</td>\n",
              "      <td>5.448507</td>\n",
              "      <td>6.386042</td>\n",
              "      <td>8.218749</td>\n",
              "      <td>8.209361</td>\n",
              "      <td>8.280136</td>\n",
              "      <td>9.699647</td>\n",
              "      <td>9.452066</td>\n",
              "      <td>12.125108</td>\n",
              "      <td>11.725766</td>\n",
              "      <td>13.621732</td>\n",
              "      <td>13.295080</td>\n",
              "      <td>6.346952</td>\n",
              "      <td>5.171403</td>\n",
              "      <td>5.184286</td>\n",
              "      <td>2.847684</td>\n",
              "      <td>3.550597</td>\n",
              "      <td>3.158535</td>\n",
              "      <td>4</td>\n",
              "    </tr>\n",
              "    <tr>\n",
              "      <th>3</th>\n",
              "      <td>90</td>\n",
              "      <td>basal</td>\n",
              "      <td>9.756875</td>\n",
              "      <td>7.357148</td>\n",
              "      <td>6.479183</td>\n",
              "      <td>6.986624</td>\n",
              "      <td>3.181638</td>\n",
              "      <td>7.802344</td>\n",
              "      <td>5.490982</td>\n",
              "      <td>4.567956</td>\n",
              "      <td>9.022345</td>\n",
              "      <td>3.312473</td>\n",
              "      <td>7.754670</td>\n",
              "      <td>7.078843</td>\n",
              "      <td>4.867320</td>\n",
              "      <td>7.790225</td>\n",
              "      <td>7.206228</td>\n",
              "      <td>4.680283</td>\n",
              "      <td>4.171577</td>\n",
              "      <td>5.985232</td>\n",
              "      <td>7.205984</td>\n",
              "      <td>3.568459</td>\n",
              "      <td>3.310109</td>\n",
              "      <td>5.166409</td>\n",
              "      <td>4.160049</td>\n",
              "      <td>6.730255</td>\n",
              "      <td>5.774961</td>\n",
              "      <td>6.092539</td>\n",
              "      <td>7.164589</td>\n",
              "      <td>4.903609</td>\n",
              "      <td>5.726683</td>\n",
              "      <td>3.532517</td>\n",
              "      <td>5.652934</td>\n",
              "      <td>3.997426</td>\n",
              "      <td>6.151148</td>\n",
              "      <td>7.189197</td>\n",
              "      <td>4.329053</td>\n",
              "      <td>5.134634</td>\n",
              "      <td>6.300199</td>\n",
              "      <td>4.192591</td>\n",
              "      <td>...</td>\n",
              "      <td>9.191622</td>\n",
              "      <td>12.146083</td>\n",
              "      <td>11.018158</td>\n",
              "      <td>5.972863</td>\n",
              "      <td>3.658838</td>\n",
              "      <td>4.657377</td>\n",
              "      <td>5.508931</td>\n",
              "      <td>9.262102</td>\n",
              "      <td>11.338670</td>\n",
              "      <td>6.194179</td>\n",
              "      <td>4.300024</td>\n",
              "      <td>5.072087</td>\n",
              "      <td>8.148625</td>\n",
              "      <td>7.548858</td>\n",
              "      <td>7.960282</td>\n",
              "      <td>5.226375</td>\n",
              "      <td>3.562438</td>\n",
              "      <td>4.306947</td>\n",
              "      <td>5.979139</td>\n",
              "      <td>5.018239</td>\n",
              "      <td>4.872679</td>\n",
              "      <td>7.066764</td>\n",
              "      <td>5.573531</td>\n",
              "      <td>6.637775</td>\n",
              "      <td>8.183538</td>\n",
              "      <td>8.307374</td>\n",
              "      <td>8.233631</td>\n",
              "      <td>9.911691</td>\n",
              "      <td>9.611842</td>\n",
              "      <td>12.111235</td>\n",
              "      <td>11.719215</td>\n",
              "      <td>13.743108</td>\n",
              "      <td>13.508861</td>\n",
              "      <td>6.610284</td>\n",
              "      <td>5.193356</td>\n",
              "      <td>5.086569</td>\n",
              "      <td>3.031602</td>\n",
              "      <td>3.524981</td>\n",
              "      <td>3.272665</td>\n",
              "      <td>4</td>\n",
              "    </tr>\n",
              "    <tr>\n",
              "      <th>4</th>\n",
              "      <td>91</td>\n",
              "      <td>basal</td>\n",
              "      <td>9.408330</td>\n",
              "      <td>7.746404</td>\n",
              "      <td>6.693980</td>\n",
              "      <td>7.333426</td>\n",
              "      <td>3.169923</td>\n",
              "      <td>7.610457</td>\n",
              "      <td>5.372469</td>\n",
              "      <td>4.424426</td>\n",
              "      <td>9.400056</td>\n",
              "      <td>3.368243</td>\n",
              "      <td>9.052192</td>\n",
              "      <td>6.889370</td>\n",
              "      <td>4.939912</td>\n",
              "      <td>8.432573</td>\n",
              "      <td>9.240390</td>\n",
              "      <td>4.689763</td>\n",
              "      <td>4.224431</td>\n",
              "      <td>6.386138</td>\n",
              "      <td>7.732480</td>\n",
              "      <td>4.233807</td>\n",
              "      <td>4.392973</td>\n",
              "      <td>5.265164</td>\n",
              "      <td>4.161808</td>\n",
              "      <td>6.984456</td>\n",
              "      <td>6.219122</td>\n",
              "      <td>5.187331</td>\n",
              "      <td>8.225413</td>\n",
              "      <td>5.238370</td>\n",
              "      <td>6.165456</td>\n",
              "      <td>3.500029</td>\n",
              "      <td>5.694598</td>\n",
              "      <td>4.298906</td>\n",
              "      <td>5.211584</td>\n",
              "      <td>7.708507</td>\n",
              "      <td>4.991938</td>\n",
              "      <td>5.860185</td>\n",
              "      <td>6.217526</td>\n",
              "      <td>3.997529</td>\n",
              "      <td>...</td>\n",
              "      <td>11.501202</td>\n",
              "      <td>12.598456</td>\n",
              "      <td>11.611006</td>\n",
              "      <td>5.763398</td>\n",
              "      <td>3.517613</td>\n",
              "      <td>4.514921</td>\n",
              "      <td>5.498137</td>\n",
              "      <td>9.336550</td>\n",
              "      <td>11.446506</td>\n",
              "      <td>6.072134</td>\n",
              "      <td>4.312846</td>\n",
              "      <td>5.167958</td>\n",
              "      <td>8.179727</td>\n",
              "      <td>7.501891</td>\n",
              "      <td>7.931099</td>\n",
              "      <td>4.897629</td>\n",
              "      <td>3.710210</td>\n",
              "      <td>3.953584</td>\n",
              "      <td>5.928464</td>\n",
              "      <td>4.910085</td>\n",
              "      <td>4.671537</td>\n",
              "      <td>7.011404</td>\n",
              "      <td>5.452125</td>\n",
              "      <td>6.349551</td>\n",
              "      <td>8.307028</td>\n",
              "      <td>8.440426</td>\n",
              "      <td>8.319234</td>\n",
              "      <td>9.868997</td>\n",
              "      <td>9.655341</td>\n",
              "      <td>12.173642</td>\n",
              "      <td>11.861296</td>\n",
              "      <td>13.797774</td>\n",
              "      <td>13.542206</td>\n",
              "      <td>6.414354</td>\n",
              "      <td>5.040202</td>\n",
              "      <td>5.235318</td>\n",
              "      <td>2.956232</td>\n",
              "      <td>3.445501</td>\n",
              "      <td>3.193947</td>\n",
              "      <td>4</td>\n",
              "    </tr>\n",
              "  </tbody>\n",
              "</table>\n",
              "<p>5 rows × 54678 columns</p>\n",
              "</div>"
            ],
            "text/plain": [
              "   samples   type  1007_s_at  ...  AFFX-TrpnX-5_at  AFFX-TrpnX-M_at  label\n",
              "0       84  basal   9.850040  ...         3.508495         3.301999      4\n",
              "1       85  basal   9.861357  ...         3.687666         3.064299      4\n",
              "2       87  basal  10.103478  ...         3.550597         3.158535      4\n",
              "3       90  basal   9.756875  ...         3.524981         3.272665      4\n",
              "4       91  basal   9.408330  ...         3.445501         3.193947      4\n",
              "\n",
              "[5 rows x 54678 columns]"
            ]
          },
          "metadata": {},
          "execution_count": 48
        }
      ]
    },
    {
      "cell_type": "code",
      "metadata": {
        "colab": {
          "base_uri": "https://localhost:8080/"
        },
        "id": "3F9nudu8Q9cY",
        "outputId": "a8274368-68bf-49cf-ad32-e1161d221cc4"
      },
      "source": [
        "permutation_hc = find_permutation(6, y, pred_y_hc)\n",
        "print(permutation_hc)"
      ],
      "execution_count": null,
      "outputs": [
        {
          "output_type": "stream",
          "text": [
            "['cell_line', 'HER', 'luminal_B', 'normal', 'basal', 'luminal_A']\n"
          ],
          "name": "stdout"
        }
      ]
    },
    {
      "cell_type": "code",
      "metadata": {
        "colab": {
          "base_uri": "https://localhost:8080/"
        },
        "id": "yFVZfTYJRgdv",
        "outputId": "2bf9e5f6-88d9-405d-9623-70fc48cd874d"
      },
      "source": [
        "new_labels_hc = [ permutation_hc[label] for label in cluster.labels_]   # permute the labels\n",
        "print(\"Accuracy score is\", accuracy_score(y, new_labels_hc))"
      ],
      "execution_count": null,
      "outputs": [
        {
          "output_type": "stream",
          "text": [
            "Accuracy score is 0.9072847682119205\n"
          ],
          "name": "stdout"
        }
      ]
    },
    {
      "cell_type": "code",
      "metadata": {
        "colab": {
          "base_uri": "https://localhost:8080/",
          "height": 334
        },
        "id": "E-MQpwhYRoMF",
        "outputId": "f5121213-68eb-47fa-c33e-6bbe1c8ac1e6"
      },
      "source": [
        "# plot confusion matrix\n",
        "label = [ 'HER','basal','cell_line', 'luminal_A','luminal_B','normal']\n",
        "mat_hc = confusion_matrix(y, new_labels_hc)\n",
        "sns.heatmap(mat_hc.T, square=True, annot=True, fmt='d', cbar=False,\n",
        "            xticklabels=label,\n",
        "            yticklabels=label\n",
        "            )\n",
        "plt.title(\"HC Ward Confusion Matrix  \")\n",
        "plt.xlabel('predicted label')\n",
        "plt.ylabel('true label');\n",
        "#plt.savefig('confustion_matrix_2')"
      ],
      "execution_count": null,
      "outputs": [
        {
          "output_type": "display_data",
          "data": {
            "image/png": "[encoded data removed]",
            "text/plain": [
              "<Figure size 432x288 with 1 Axes>"
            ]
          },
          "metadata": {
            "needs_background": "light"
          }
        }
      ]
    },
    {
      "cell_type": "code",
      "metadata": {
        "id": "zCkGsQ4K-BXW",
        "colab": {
          "base_uri": "https://localhost:8080/"
        },
        "outputId": "eef23121-beb9-44a7-ae28-3100fc8334ef"
      },
      "source": [
        "print(\"\\033[1m\"  +'      ' +  ' HC Ward Model 2'  + \"\\033[0m\"    )\n",
        "print(\"                                                          \")\n",
        "print(\"Correctly Classified Instances = {}.\".format(accuracy_score(y, new_labels_hc, normalize=False)))\n",
        "print(\"Percentage of Correctly Classified Instances = {:.2f}.\".format(accuracy_score(y, new_labels_hc,)))\n",
        "print('Kappa statistic= {:.2f}.'. format(cohen_kappa_score(y , new_labels_hc)))\n",
        "#print('Mean absolute error = {:.2f}.'. format(mean_absolute_error(y , new_labels_HC, multioutput= 'uniform_average')))\n",
        "#print('Root Mean Squared error = {:.2f}.'. format(mean_squared_error (y , new_labels_HC, squared=False)))\n",
        "print('Matthews Corrcoef = {:.2f}.'. format(matthews_corrcoef(y, new_labels_hc)))\n",
        "print(\"Accuracy =% 0.2f \"% (accuracy_score(y, new_labels_hc)))\n",
        "print(\"                                                          \")\n",
        "print(\"\\033[1m\"  +'                 ' +  'Detailed Accuracy By Class' + \"\\033[0m\" )\n",
        "print(classification_report(y, new_labels_hc, target_names=label ))"
      ],
      "execution_count": null,
      "outputs": [
        {
          "output_type": "stream",
          "text": [
            "\u001b[1m       HC Ward Model 2\u001b[0m\n",
            "                                                          \n",
            "Correctly Classified Instances = 137.\n",
            "Percentage of Correctly Classified Instances = 0.91.\n",
            "Kappa statistic= 0.88.\n",
            "Matthews Corrcoef = 0.88.\n",
            "Accuracy = 0.91 \n",
            "                                                          \n",
            "\u001b[1m                 Detailed Accuracy By Class\u001b[0m\n",
            "              precision    recall  f1-score   support\n",
            "\n",
            "         HER       0.89      0.83      0.86        30\n",
            "       basal       0.88      0.93      0.90        41\n",
            "   cell_line       1.00      1.00      1.00        14\n",
            "   luminal_A       0.93      0.86      0.89        29\n",
            "   luminal_B       0.88      0.93      0.90        30\n",
            "      normal       1.00      1.00      1.00         7\n",
            "\n",
            "    accuracy                           0.91       151\n",
            "   macro avg       0.93      0.93      0.93       151\n",
            "weighted avg       0.91      0.91      0.91       151\n",
            "\n"
          ],
          "name": "stdout"
        }
      ]
    },
    {
      "cell_type": "code",
      "metadata": {
        "id": "bDSZuUvS-BlW"
      },
      "source": [
        ""
      ],
      "execution_count": null,
      "outputs": []
    },
    {
      "cell_type": "markdown",
      "metadata": {
        "id": "p14bgX7U-Ct2"
      },
      "source": [
        "# **For presentation and report**"
      ]
    },
    {
      "cell_type": "code",
      "metadata": {
        "id": "OnLSzI373VqR"
      },
      "source": [
        "from sklearn.metrics import accuracy_score, f1_score, roc_auc_score, classification_report, matthews_corrcoef, precision_score, recall_score, roc_curve"
      ],
      "execution_count": null,
      "outputs": []
    },
    {
      "cell_type": "code",
      "metadata": {
        "id": "7lD0jCD53bfQ"
      },
      "source": [
        "names = [\"KMeans\", \"t-sne\", \"HC\"]\n",
        "pred = [new_labels_km2, new_labels_tsne, new_labels_hc]\n",
        "\n",
        "model_cols = []\n",
        "df = pd.DataFrame(columns = model_cols)\n",
        "index = 0\n",
        "\n",
        "for name, pred in zip(names, pred):\n",
        "  df.loc[index,'Clusters'] = name\n",
        "  df.loc[index,'Accuracy'] = accuracy_score(y, pred)\n",
        "  df.loc[index, 'Precision'] = precision_score(y, pred, average='micro')\n",
        "  df.loc[index,'Recall'] = recall_score(y, pred, average='micro')\n",
        "  df.loc[index,'F1 Score'] = f1_score(y, pred, average='micro')\n",
        "  df.loc[index,'MCC'] = matthews_corrcoef(y, pred)\n",
        "  df.loc[index, 'Kappa'] = cohen_kappa_score(y , pred)\n",
        "  \n",
        "\n",
        "  index += 1"
      ],
      "execution_count": null,
      "outputs": []
    },
    {
      "cell_type": "code",
      "metadata": {
        "colab": {
          "base_uri": "https://localhost:8080/",
          "height": 159
        },
        "id": "5aZfFVcs9MfW",
        "outputId": "44602e32-8c02-45f1-c2ad-ca243ffb1968"
      },
      "source": [
        "print(\"\\033[1m\"  +'             ' +  ' Clustering Metric Evaluation scores v2'  + \"\\033[0m\"    )\n",
        "df"
      ],
      "execution_count": null,
      "outputs": [
        {
          "output_type": "stream",
          "text": [
            "\u001b[1m              Clustering Metric Evaluation scores v2\u001b[0m\n"
          ],
          "name": "stdout"
        },
        {
          "output_type": "execute_result",
          "data": {
            "text/html": [
              "<div>\n",
              "<style scoped>\n",
              "    .dataframe tbody tr th:only-of-type {\n",
              "        vertical-align: middle;\n",
              "    }\n",
              "\n",
              "    .dataframe tbody tr th {\n",
              "        vertical-align: top;\n",
              "    }\n",
              "\n",
              "    .dataframe thead th {\n",
              "        text-align: right;\n",
              "    }\n",
              "</style>\n",
              "<table border=\"1\" class=\"dataframe\">\n",
              "  <thead>\n",
              "    <tr style=\"text-align: right;\">\n",
              "      <th></th>\n",
              "      <th>Clusters</th>\n",
              "      <th>Accuracy</th>\n",
              "      <th>Precision</th>\n",
              "      <th>Recall</th>\n",
              "      <th>F1 Score</th>\n",
              "      <th>MCC</th>\n",
              "      <th>Kappa</th>\n",
              "    </tr>\n",
              "  </thead>\n",
              "  <tbody>\n",
              "    <tr>\n",
              "      <th>0</th>\n",
              "      <td>KMeans</td>\n",
              "      <td>0.589404</td>\n",
              "      <td>0.589404</td>\n",
              "      <td>0.589404</td>\n",
              "      <td>0.589404</td>\n",
              "      <td>0.504082</td>\n",
              "      <td>0.484528</td>\n",
              "    </tr>\n",
              "    <tr>\n",
              "      <th>1</th>\n",
              "      <td>t-sne</td>\n",
              "      <td>0.867550</td>\n",
              "      <td>0.867550</td>\n",
              "      <td>0.867550</td>\n",
              "      <td>0.867550</td>\n",
              "      <td>0.838809</td>\n",
              "      <td>0.835923</td>\n",
              "    </tr>\n",
              "    <tr>\n",
              "      <th>2</th>\n",
              "      <td>HC</td>\n",
              "      <td>0.907285</td>\n",
              "      <td>0.907285</td>\n",
              "      <td>0.907285</td>\n",
              "      <td>0.907285</td>\n",
              "      <td>0.884300</td>\n",
              "      <td>0.883910</td>\n",
              "    </tr>\n",
              "  </tbody>\n",
              "</table>\n",
              "</div>"
            ],
            "text/plain": [
              "  Clusters  Accuracy  Precision    Recall  F1 Score       MCC     Kappa\n",
              "0   KMeans  0.589404   0.589404  0.589404  0.589404  0.504082  0.484528\n",
              "1    t-sne  0.867550   0.867550  0.867550  0.867550  0.838809  0.835923\n",
              "2       HC  0.907285   0.907285  0.907285  0.907285  0.884300  0.883910"
            ]
          },
          "metadata": {},
          "execution_count": 55
        }
      ]
    },
    {
      "cell_type": "code",
      "metadata": {
        "colab": {
          "base_uri": "https://localhost:8080/",
          "height": 517
        },
        "id": "UrC4xakg3mpX",
        "outputId": "cbb7bb37-e856-41cb-d074-d31dff2457dd"
      },
      "source": [
        "df2 =df.copy()\n",
        "print(\"\\033[1m\"  +'                ' +  ' Clustering Metric Evaluation graph v2'  + \"\\033[0m\"    )\n",
        "ax = df2.set_index('Clusters').plot.bar(rot=0,  figsize=(8,8), fontsize = 12)#title = 'Clustering',"
      ],
      "execution_count": null,
      "outputs": [
        {
          "output_type": "stream",
          "text": [
            "\u001b[1m                 Clustering Metric Evaluation graph v2\u001b[0m\n"
          ],
          "name": "stdout"
        },
        {
          "output_type": "display_data",
          "data": {
            "image/png": "[encoded data removed]",
            "text/plain": [
              "<Figure size 576x576 with 1 Axes>"
            ]
          },
          "metadata": {
            "needs_background": "light"
          }
        }
      ]
    }
  ]
}